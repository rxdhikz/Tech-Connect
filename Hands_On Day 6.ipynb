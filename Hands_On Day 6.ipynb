{
 "cells": [
  {
   "cell_type": "code",
   "execution_count": 1,
   "id": "8dc441a6",
   "metadata": {},
   "outputs": [],
   "source": [
    "#If statements and it's conditions"
   ]
  },
  {
   "cell_type": "code",
   "execution_count": 2,
   "id": "59bb672b",
   "metadata": {},
   "outputs": [
    {
     "name": "stdout",
     "output_type": "stream",
     "text": [
      "12\n",
      "2\n",
      "12 is greater than 2\n"
     ]
    }
   ],
   "source": [
    "num1 = int(input()) #getting integer as an input from the user\n",
    "num2 = int(input()) #getting integer as an input from the user\n",
    "if num1>num2:\n",
    "#the above if statement will check for the given condition, i.e., if num2 is greater than num1 or not\n",
    "#if that condition is true then it will print the statement below\n",
    "    print(num1,f'is greater than',num2) #printing the statement accordingly"
   ]
  },
  {
   "cell_type": "code",
   "execution_count": 3,
   "id": "f1956288",
   "metadata": {},
   "outputs": [
    {
     "name": "stdout",
     "output_type": "stream",
     "text": [
      "34\n",
      "56\n",
      "56 is greater than 34\n"
     ]
    }
   ],
   "source": [
    "num1 = int(input()) #getting integer as an input from the user\n",
    "num2 = int(input()) #getting integer as an input from the user\n",
    "if num1>num2:\n",
    "#this if statement will check if the mentioned condition is true or not, if its true it will print the statement given below\n",
    "    print(num1,f'is greater than',num2) #printing the statement accordingly\n",
    "elif num2>num1:\n",
    "#if the above if statement doesn't satisfy then, this second if condition will get executed if the condition satisfies\n",
    "    print(num2,f'is greater than',num1) #printing the statement accordingly"
   ]
  },
  {
   "cell_type": "code",
   "execution_count": 4,
   "id": "8e52308a",
   "metadata": {},
   "outputs": [
    {
     "name": "stdout",
     "output_type": "stream",
     "text": [
      "36\n",
      "36\n",
      "36  and 36  are equal\n"
     ]
    }
   ],
   "source": [
    "num1 = int(input()) #getting integer as an input from the user\n",
    "num2 = int(input()) #getting integer as an input from the user\n",
    "if num1>num2:\n",
    "#if this if condition is satisfied it will get executed\n",
    "    print(num1,f'is greater than',num2) #printing the statement accordingly\n",
    "elif num2>num1:\n",
    "#if the above condition isn't satisfied then Python will check if the statement matches this condition\n",
    "    print(num2,f'is greater than',num1) #printing the statement accordingly\n",
    "else:\n",
    "#if both the above conditions aren't satisfied, then this else statement will be executed and the below print statement will be\n",
    "#printed\n",
    "    print(num1,f' and', num2, f' are equal') #printing the statement accordingly"
   ]
  },
  {
   "cell_type": "code",
   "execution_count": 5,
   "id": "23fcca06",
   "metadata": {},
   "outputs": [
    {
     "name": "stdout",
     "output_type": "stream",
     "text": [
      "12\n",
      "10\n",
      "14\n",
      "Both the conditions are true\n"
     ]
    }
   ],
   "source": [
    "#AND Operator\n",
    "a = int(input()) #getting integer as an input from the user\n",
    "b = int(input()) #getting integer as an input from the user\n",
    "c = int(input()) #getting integer as an input from the user\n",
    "if a>b and c>a:\n",
    "#the above condition will only get executed if both the mentioned conditions are satisfied\n",
    "    print(f'Both the conditions are true') #printing the statement accordingly"
   ]
  },
  {
   "cell_type": "code",
   "execution_count": 6,
   "id": "511e60ce",
   "metadata": {
    "scrolled": false
   },
   "outputs": [
    {
     "name": "stdout",
     "output_type": "stream",
     "text": [
      "12\n",
      "9\n",
      "10\n",
      "One of your conditions are wrong, please try again\n"
     ]
    }
   ],
   "source": [
    "a = int(input()) #getting integer as an input from the user\n",
    "b = int(input()) #getting integer as an input from the user\n",
    "c = int(input()) #getting integer as an input from the user\n",
    "if a>b and c>a:\n",
    "#if both the above mentioned conditions are satisfied then the statement below will get printed\n",
    "    print(f'Both the conditions are true') #printing the statement accordingly\n",
    "else:\n",
    "#if both the conditions that are mentioned above aren't satisfied, then it will go into this else statement and the print\n",
    "#statement below will be printed\n",
    "    print(f'One of your conditions are wrong, please try again') #printing the statement accordingly"
   ]
  },
  {
   "cell_type": "code",
   "execution_count": 7,
   "id": "a4a3fd04",
   "metadata": {},
   "outputs": [
    {
     "name": "stdout",
     "output_type": "stream",
     "text": [
      "Enter one of your names chellakutty: Rads\n",
      "Hello, welcome back boss! ;) \n"
     ]
    }
   ],
   "source": [
    "#OR Operator\n",
    "name = 'Radhika' #initialising a name\n",
    "nickname1 = 'Rodhika' #initialising a nickname\n",
    "nickname2 = 'Rads' #initialising another nickname\n",
    "arey_fool = input(\"Enter one of your names chellakutty: \") #asking the user to enter one nickname\n",
    "if arey_fool == name or arey_fool == nickname1 or arey_fool ==nickname2:\n",
    "#the above if statement checks if any of the mentioned conditions are true, if any one of the mentioned conditions is satisfied\n",
    "#then, this if statement gets executed and the print statement gets printed\n",
    "    print(f\"Hello, welcome back boss! ;) \") #printing the statement accordingly\n",
    "else:\n",
    "#incase the if statement condition fails then this else statement will get executed\n",
    "    print(f\"Irukardha type karo ya, mental!\") #printing the statement accordingly"
   ]
  },
  {
   "cell_type": "code",
   "execution_count": 8,
   "id": "a63e08cc",
   "metadata": {},
   "outputs": [
    {
     "name": "stdout",
     "output_type": "stream",
     "text": [
      "Enter one of your names chellakutty: radika\n",
      "Irukardha type karo ya, mental!\n"
     ]
    }
   ],
   "source": [
    "name = 'Radhika'\n",
    "nickname1 = 'Rodhika'\n",
    "nickname2 = 'Rads'\n",
    "arey_fool = input(\"Enter one of your names chellakutty: \")\n",
    "if arey_fool == name or arey_fool == nickname1 or arey_fool ==nickname2 or arey_fool == name.lower() or arey_fool == nickname1.lower() or arey_fool == nickname2.lower():\n",
    "    print(f\"Hello, welcome back boss! ;) \")\n",
    "else:\n",
    "    print(f\"Irukardha type karo ya, mental!\")"
   ]
  },
  {
   "cell_type": "code",
   "execution_count": 9,
   "id": "15ce498c",
   "metadata": {
    "scrolled": true
   },
   "outputs": [],
   "source": [
    "#NOT Operator\n",
    "#this operator will give the opposite of the condition mentioned i.e., if a statement is not true it has to be false"
   ]
  },
  {
   "cell_type": "code",
   "execution_count": 10,
   "id": "63df03c4",
   "metadata": {},
   "outputs": [
    {
     "data": {
      "text/plain": [
       "False"
      ]
     },
     "execution_count": 10,
     "metadata": {},
     "output_type": "execute_result"
    }
   ],
   "source": [
    "not True"
   ]
  },
  {
   "cell_type": "code",
   "execution_count": 11,
   "id": "5ee87026",
   "metadata": {},
   "outputs": [
    {
     "data": {
      "text/plain": [
       "True"
      ]
     },
     "execution_count": 11,
     "metadata": {},
     "output_type": "execute_result"
    }
   ],
   "source": [
    "not False"
   ]
  },
  {
   "cell_type": "code",
   "execution_count": 12,
   "id": "9ce10739",
   "metadata": {},
   "outputs": [
    {
     "data": {
      "text/plain": [
       "False"
      ]
     },
     "execution_count": 12,
     "metadata": {},
     "output_type": "execute_result"
    }
   ],
   "source": [
    "not 1"
   ]
  },
  {
   "cell_type": "code",
   "execution_count": 13,
   "id": "aa7357dc",
   "metadata": {},
   "outputs": [
    {
     "data": {
      "text/plain": [
       "True"
      ]
     },
     "execution_count": 13,
     "metadata": {},
     "output_type": "execute_result"
    }
   ],
   "source": [
    "not 0"
   ]
  },
  {
   "cell_type": "code",
   "execution_count": 14,
   "id": "bb33a36c",
   "metadata": {},
   "outputs": [
    {
     "data": {
      "text/plain": [
       "False"
      ]
     },
     "execution_count": 14,
     "metadata": {},
     "output_type": "execute_result"
    }
   ],
   "source": [
    "not 2"
   ]
  }
 ],
 "metadata": {
  "kernelspec": {
   "display_name": "Python 3 (ipykernel)",
   "language": "python",
   "name": "python3"
  },
  "language_info": {
   "codemirror_mode": {
    "name": "ipython",
    "version": 3
   },
   "file_extension": ".py",
   "mimetype": "text/x-python",
   "name": "python",
   "nbconvert_exporter": "python",
   "pygments_lexer": "ipython3",
   "version": "3.11.2"
  }
 },
 "nbformat": 4,
 "nbformat_minor": 5
}
