{
 "cells": [
  {
   "cell_type": "code",
   "execution_count": 1,
   "id": "3f0b874d",
   "metadata": {},
   "outputs": [],
   "source": [
    "# Methods\n",
    "#append(): Adds an element at the end of the list\n",
    "#clear(): Removes all the elements from the list\n",
    "#copy(): Returns a copy of the list\n",
    "#count(): Returns the number of elements with the specified value\n",
    "#extend(): Add the elements of a list (or any iterable), to the end of the current list\n",
    "#index(): Returns the index of the first element with the specified value\n",
    "#insert(): Adds an element at the specified position\n",
    "#pop(): Removes the element at the specified position\n",
    "#remove(): Removes the item with the specified value\n",
    "#reverse(): Reverses the order of the list\n",
    "#sort(): Sorts the list"
   ]
  },
  {
   "cell_type": "code",
   "execution_count": 2,
   "id": "3511a384",
   "metadata": {},
   "outputs": [],
   "source": [
    "fruits = ['watermelon', 'chiku', 'strawberry'] #a list with fruits\n",
    "#A list is used to store items in a single variable\n",
    "#Lists are represented with the help of square brackets []\n",
    "#Lists are mutable i.e., they can be altered"
   ]
  },
  {
   "cell_type": "code",
   "execution_count": 3,
   "id": "43222d48",
   "metadata": {},
   "outputs": [],
   "source": [
    "fruits_1 = ('watermelon', 'chiku', 'strawberry') #a tuple with fruits\n",
    "#A tuple is used to store a sequence of values belonging to any data type\n",
    "#Tuples are represented with parenthesis ()\n",
    "#Tuples are immutable i.e., they can't be altered"
   ]
  },
  {
   "cell_type": "code",
   "execution_count": 4,
   "id": "28ddedf3",
   "metadata": {},
   "outputs": [],
   "source": [
    "fruits[0] = 'orange' #the fruit in the index 0 from the fruits list"
   ]
  },
  {
   "cell_type": "code",
   "execution_count": 5,
   "id": "78df489b",
   "metadata": {
    "scrolled": true
   },
   "outputs": [
    {
     "ename": "TypeError",
     "evalue": "'tuple' object does not support item assignment",
     "output_type": "error",
     "traceback": [
      "\u001b[1;31m---------------------------------------------------------------------------\u001b[0m",
      "\u001b[1;31mTypeError\u001b[0m                                 Traceback (most recent call last)",
      "Cell \u001b[1;32mIn[5], line 1\u001b[0m\n\u001b[1;32m----> 1\u001b[0m \u001b[43mfruits_1\u001b[49m\u001b[43m[\u001b[49m\u001b[38;5;241;43m0\u001b[39;49m\u001b[43m]\u001b[49m \u001b[38;5;241m=\u001b[39m \u001b[38;5;124m'\u001b[39m\u001b[38;5;124morange\u001b[39m\u001b[38;5;124m'\u001b[39m \n\u001b[0;32m      2\u001b[0m \u001b[38;5;66;03m#this code will throw a eror called TypeError because tuples can't be altered so its value can't be changed by using the index\u001b[39;00m\n",
      "\u001b[1;31mTypeError\u001b[0m: 'tuple' object does not support item assignment"
     ]
    }
   ],
   "source": [
    "fruits_1[0] = 'orange' \n",
    "#this code will throw a eror called TypeError because tuples can't be altered so its value can't be changed by using the index"
   ]
  },
  {
   "cell_type": "code",
   "execution_count": 6,
   "id": "487fab69",
   "metadata": {},
   "outputs": [
    {
     "data": {
      "text/plain": [
       "['orange', 'chiku', 'strawberry']"
      ]
     },
     "execution_count": 6,
     "metadata": {},
     "output_type": "execute_result"
    }
   ],
   "source": [
    "fruits"
   ]
  },
  {
   "cell_type": "code",
   "execution_count": 7,
   "id": "c3f6e089",
   "metadata": {},
   "outputs": [
    {
     "data": {
      "text/plain": [
       "('watermelon', 'chiku', 'strawberry')"
      ]
     },
     "execution_count": 7,
     "metadata": {},
     "output_type": "execute_result"
    }
   ],
   "source": [
    "fruits_1"
   ]
  },
  {
   "cell_type": "code",
   "execution_count": 8,
   "id": "862ced06",
   "metadata": {},
   "outputs": [],
   "source": [
    "fruits_2 = ('apple',)"
   ]
  },
  {
   "cell_type": "code",
   "execution_count": 9,
   "id": "f95f0495",
   "metadata": {},
   "outputs": [
    {
     "data": {
      "text/plain": [
       "tuple"
      ]
     },
     "execution_count": 9,
     "metadata": {},
     "output_type": "execute_result"
    }
   ],
   "source": [
    "type(fruits_2)"
   ]
  },
  {
   "cell_type": "code",
   "execution_count": 10,
   "id": "62cb5d9e",
   "metadata": {},
   "outputs": [],
   "source": [
    "#tuple - strings, integers and booleans"
   ]
  },
  {
   "cell_type": "code",
   "execution_count": 11,
   "id": "2d0c7ab4",
   "metadata": {},
   "outputs": [
    {
     "ename": "TypeError",
     "evalue": "tuple expected at most 1 argument, got 3",
     "output_type": "error",
     "traceback": [
      "\u001b[1;31m---------------------------------------------------------------------------\u001b[0m",
      "\u001b[1;31mTypeError\u001b[0m                                 Traceback (most recent call last)",
      "Cell \u001b[1;32mIn[11], line 1\u001b[0m\n\u001b[1;32m----> 1\u001b[0m mytuple \u001b[38;5;241m=\u001b[39m \u001b[38;5;28;43mtuple\u001b[39;49m\u001b[43m(\u001b[49m\u001b[38;5;124;43m'\u001b[39;49m\u001b[38;5;124;43mwatermelon\u001b[39;49m\u001b[38;5;124;43m'\u001b[39;49m\u001b[43m,\u001b[49m\u001b[43m \u001b[49m\u001b[38;5;124;43m'\u001b[39;49m\u001b[38;5;124;43mchiku\u001b[39;49m\u001b[38;5;124;43m'\u001b[39;49m\u001b[43m,\u001b[49m\u001b[43m \u001b[49m\u001b[38;5;124;43m'\u001b[39;49m\u001b[38;5;124;43mstrawberry\u001b[39;49m\u001b[38;5;124;43m'\u001b[39;49m\u001b[43m)\u001b[49m\n\u001b[0;32m      2\u001b[0m \u001b[38;5;66;03m#this will throw TypeError because only 1 argument should exist for it to be changed into a tuple but here are 3 arguments\u001b[39;00m\n",
      "\u001b[1;31mTypeError\u001b[0m: tuple expected at most 1 argument, got 3"
     ]
    }
   ],
   "source": [
    "mytuple = tuple('watermelon', 'chiku', 'strawberry')\n",
    "#this will throw TypeError because only 1 argument should exist for it to be changed into a tuple but here are 3 arguments"
   ]
  },
  {
   "cell_type": "code",
   "execution_count": 12,
   "id": "c377f012",
   "metadata": {},
   "outputs": [],
   "source": [
    "mytuple = tuple(('watermelon', 'chiku', 'strawberry')) #creating a nested tuple"
   ]
  },
  {
   "cell_type": "code",
   "execution_count": 13,
   "id": "e8f0214e",
   "metadata": {
    "scrolled": true
   },
   "outputs": [
    {
     "data": {
      "text/plain": [
       "tuple"
      ]
     },
     "execution_count": 13,
     "metadata": {},
     "output_type": "execute_result"
    }
   ],
   "source": [
    "type(mytuple) #finding the type of this tuple"
   ]
  },
  {
   "cell_type": "code",
   "execution_count": 14,
   "id": "ff0530d1",
   "metadata": {
    "scrolled": true
   },
   "outputs": [
    {
     "ename": "TypeError",
     "evalue": "tuple expected at most 1 argument, got 2",
     "output_type": "error",
     "traceback": [
      "\u001b[1;31m---------------------------------------------------------------------------\u001b[0m",
      "\u001b[1;31mTypeError\u001b[0m                                 Traceback (most recent call last)",
      "Cell \u001b[1;32mIn[14], line 1\u001b[0m\n\u001b[1;32m----> 1\u001b[0m owntuple \u001b[38;5;241m=\u001b[39m \u001b[38;5;28;43mtuple\u001b[39;49m\u001b[43m(\u001b[49m\u001b[43m(\u001b[49m\u001b[38;5;124;43m'\u001b[39;49m\u001b[38;5;124;43mwatermelon\u001b[39;49m\u001b[38;5;124;43m'\u001b[39;49m\u001b[43m,\u001b[49m\u001b[43m \u001b[49m\u001b[38;5;124;43m'\u001b[39;49m\u001b[38;5;124;43mchiku\u001b[39;49m\u001b[38;5;124;43m'\u001b[39;49m\u001b[43m,\u001b[49m\u001b[43m \u001b[49m\u001b[38;5;124;43m'\u001b[39;49m\u001b[38;5;124;43mstrawberry\u001b[39;49m\u001b[38;5;124;43m'\u001b[39;49m\u001b[43m)\u001b[49m\u001b[43m,\u001b[49m\u001b[43m(\u001b[49m\u001b[38;5;124;43m'\u001b[39;49m\u001b[38;5;124;43mwatermelon1\u001b[39;49m\u001b[38;5;124;43m'\u001b[39;49m\u001b[43m,\u001b[49m\u001b[38;5;124;43m'\u001b[39;49m\u001b[38;5;124;43mchiku1\u001b[39;49m\u001b[38;5;124;43m'\u001b[39;49m\u001b[43m,\u001b[49m\u001b[38;5;124;43m'\u001b[39;49m\u001b[38;5;124;43mstrawberry1\u001b[39;49m\u001b[38;5;124;43m'\u001b[39;49m\u001b[43m)\u001b[49m\u001b[43m)\u001b[49m\n\u001b[0;32m      2\u001b[0m \u001b[38;5;66;03m#this will also throw TypeError because there are 2 arguments and not just 1\u001b[39;00m\n",
      "\u001b[1;31mTypeError\u001b[0m: tuple expected at most 1 argument, got 2"
     ]
    }
   ],
   "source": [
    "owntuple = tuple(('watermelon', 'chiku', 'strawberry'),('watermelon1','chiku1','strawberry1'))\n",
    "#this will also throw TypeError because there are 2 arguments and not just 1"
   ]
  },
  {
   "cell_type": "code",
   "execution_count": 15,
   "id": "2a169ac4",
   "metadata": {},
   "outputs": [
    {
     "data": {
      "text/plain": [
       "'orange'"
      ]
     },
     "execution_count": 15,
     "metadata": {},
     "output_type": "execute_result"
    }
   ],
   "source": [
    "#Indexing of lists and tuples\n",
    "fruits[0] #calling the 0th index of the list 'fruits'"
   ]
  },
  {
   "cell_type": "code",
   "execution_count": 16,
   "id": "830574ad",
   "metadata": {},
   "outputs": [
    {
     "data": {
      "text/plain": [
       "'strawberry'"
      ]
     },
     "execution_count": 16,
     "metadata": {},
     "output_type": "execute_result"
    }
   ],
   "source": [
    "fruits_1[-1] #calling the -1th index of the tuple 'fruits_1'"
   ]
  },
  {
   "cell_type": "code",
   "execution_count": 17,
   "id": "ade1132e",
   "metadata": {},
   "outputs": [
    {
     "data": {
      "text/plain": [
       "'chiku'"
      ]
     },
     "execution_count": 17,
     "metadata": {},
     "output_type": "execute_result"
    }
   ],
   "source": [
    "fruits_1[-2] #calling the -2th index of the tuple 'fruits_1'"
   ]
  },
  {
   "cell_type": "code",
   "execution_count": 18,
   "id": "241bd8cb",
   "metadata": {},
   "outputs": [
    {
     "data": {
      "text/plain": [
       "['chiku', 'strawberry']"
      ]
     },
     "execution_count": 18,
     "metadata": {},
     "output_type": "execute_result"
    }
   ],
   "source": [
    "#Indexing of lists and tuples within a given range\n",
    "fruits[1:3] #calling the index value of the element which is in the 2nd and 3rd index of the list 'fruits'"
   ]
  },
  {
   "cell_type": "code",
   "execution_count": 19,
   "id": "31d93cde",
   "metadata": {},
   "outputs": [
    {
     "data": {
      "text/plain": [
       "('watermelon', 'chiku', 'strawberry')"
      ]
     },
     "execution_count": 19,
     "metadata": {},
     "output_type": "execute_result"
    }
   ],
   "source": [
    "fruits_1[0:3] #calling the index of the fruits which are in the positions 0,1,2"
   ]
  },
  {
   "cell_type": "code",
   "execution_count": 20,
   "id": "b80d4a82",
   "metadata": {},
   "outputs": [
    {
     "data": {
      "text/plain": [
       "['chiku', 'strawberry']"
      ]
     },
     "execution_count": 20,
     "metadata": {},
     "output_type": "execute_result"
    }
   ],
   "source": [
    "fruits[1:] #calling the index of the fruits which starts from the 1st index until the end"
   ]
  },
  {
   "cell_type": "code",
   "execution_count": 21,
   "id": "f2b34c94",
   "metadata": {},
   "outputs": [],
   "source": [
    "emotions = (\"happy\", \"sad\", \"angry\", \"scared\", \"blue\", \"disgusted\") #creating an emotions tuple"
   ]
  },
  {
   "cell_type": "code",
   "execution_count": 22,
   "id": "4311970b",
   "metadata": {},
   "outputs": [
    {
     "data": {
      "text/plain": [
       "('angry', 'scared', 'blue', 'disgusted')"
      ]
     },
     "execution_count": 22,
     "metadata": {},
     "output_type": "execute_result"
    }
   ],
   "source": [
    "emotions[2:] #calling the emotions which start from the index value 2 onwards"
   ]
  },
  {
   "cell_type": "code",
   "execution_count": 23,
   "id": "769feb34",
   "metadata": {},
   "outputs": [
    {
     "name": "stdout",
     "output_type": "stream",
     "text": [
      "Blue is in the tuple emotions\n"
     ]
    }
   ],
   "source": [
    "if 'blue' in emotions: #using 'if' condition, if the emotion \"blue\" exists in the tuple emotions\n",
    "    print(f\"Blue is in the tuple emotions\") #printing the statement accordingly"
   ]
  },
  {
   "cell_type": "code",
   "execution_count": 24,
   "id": "62791375",
   "metadata": {},
   "outputs": [],
   "source": [
    "tuhpill = ('watermelon', 'chiku', 'strawberry') #creating an tuple with fruit names"
   ]
  },
  {
   "cell_type": "code",
   "execution_count": 25,
   "id": "2cfa28ad",
   "metadata": {},
   "outputs": [],
   "source": [
    "lisht = list(tuhpill) #converting the tuple into a list"
   ]
  },
  {
   "cell_type": "code",
   "execution_count": 26,
   "id": "40cbdb1e",
   "metadata": {},
   "outputs": [],
   "source": [
    "lisht[0] = 'mango' #iniriating the 0th index of the fruits list to be a fruit"
   ]
  },
  {
   "cell_type": "code",
   "execution_count": 27,
   "id": "4aa12c4b",
   "metadata": {},
   "outputs": [],
   "source": [
    "tuhpill = tuple(lisht) #re-converting the list into a tuple"
   ]
  },
  {
   "cell_type": "code",
   "execution_count": 28,
   "id": "d53b193e",
   "metadata": {},
   "outputs": [
    {
     "data": {
      "text/plain": [
       "('mango', 'chiku', 'strawberry')"
      ]
     },
     "execution_count": 28,
     "metadata": {},
     "output_type": "execute_result"
    }
   ],
   "source": [
    "tuhpill #printing 'tuhpil'"
   ]
  },
  {
   "cell_type": "code",
   "execution_count": 29,
   "id": "2cfd2a91",
   "metadata": {},
   "outputs": [],
   "source": [
    "tuhpill_2 = emotions + tuhpill #creating another tuple by adding 2 tuples"
   ]
  },
  {
   "cell_type": "code",
   "execution_count": 30,
   "id": "dfad380b",
   "metadata": {},
   "outputs": [
    {
     "data": {
      "text/plain": [
       "('happy',\n",
       " 'sad',\n",
       " 'angry',\n",
       " 'scared',\n",
       " 'blue',\n",
       " 'disgusted',\n",
       " 'mango',\n",
       " 'chiku',\n",
       " 'strawberry')"
      ]
     },
     "execution_count": 30,
     "metadata": {},
     "output_type": "execute_result"
    }
   ],
   "source": [
    "tuhpill_2 #printing the new tuple"
   ]
  },
  {
   "cell_type": "code",
   "execution_count": 31,
   "id": "5c3655fe",
   "metadata": {},
   "outputs": [],
   "source": [
    "#Sets\n",
    "#Sets are also represented within curly brackets {}\n",
    "#Sets are an unordered collection of uniques elements\n",
    "#Sets will not contain duplicate values\n",
    "#built-in methods of sets are: add(), remove(), and union()"
   ]
  },
  {
   "cell_type": "code",
   "execution_count": 32,
   "id": "e9610c38",
   "metadata": {},
   "outputs": [],
   "source": [
    "ms = {1,2,3,4,5} #creating a set"
   ]
  },
  {
   "cell_type": "code",
   "execution_count": 33,
   "id": "edf7c80a",
   "metadata": {
    "scrolled": true
   },
   "outputs": [
    {
     "data": {
      "text/plain": [
       "{1, 2, 3, 4, 5}"
      ]
     },
     "execution_count": 33,
     "metadata": {},
     "output_type": "execute_result"
    }
   ],
   "source": [
    "ms #calling the tuple"
   ]
  },
  {
   "cell_type": "code",
   "execution_count": 34,
   "id": "6425a028",
   "metadata": {},
   "outputs": [],
   "source": [
    "ms = {1, 'wee', (3,4,5)} #creating another set"
   ]
  },
  {
   "cell_type": "code",
   "execution_count": 35,
   "id": "e020752f",
   "metadata": {},
   "outputs": [
    {
     "data": {
      "text/plain": [
       "{(3, 4, 5), 1, 'wee'}"
      ]
     },
     "execution_count": 35,
     "metadata": {},
     "output_type": "execute_result"
    }
   ],
   "source": [
    "ms #calling the set"
   ]
  },
  {
   "cell_type": "code",
   "execution_count": 36,
   "id": "29be747a",
   "metadata": {},
   "outputs": [
    {
     "ename": "TypeError",
     "evalue": "'set' object is not subscriptable",
     "output_type": "error",
     "traceback": [
      "\u001b[1;31m---------------------------------------------------------------------------\u001b[0m",
      "\u001b[1;31mTypeError\u001b[0m                                 Traceback (most recent call last)",
      "Cell \u001b[1;32mIn[36], line 1\u001b[0m\n\u001b[1;32m----> 1\u001b[0m \u001b[38;5;28mtype\u001b[39m(\u001b[43mms\u001b[49m\u001b[43m[\u001b[49m\u001b[38;5;241;43m2\u001b[39;49m\u001b[43m]\u001b[49m)\n\u001b[0;32m      2\u001b[0m \u001b[38;5;66;03m#this will throw a TypeError because an element of a set can not be scripted\u001b[39;00m\n",
      "\u001b[1;31mTypeError\u001b[0m: 'set' object is not subscriptable"
     ]
    }
   ],
   "source": [
    "type(ms[2])\n",
    "#this will throw a TypeError because an element of a set can not be scripted"
   ]
  },
  {
   "cell_type": "code",
   "execution_count": 37,
   "id": "823179a6",
   "metadata": {
    "scrolled": false
   },
   "outputs": [],
   "source": [
    "ms.add(6) #adding an element onto the set"
   ]
  },
  {
   "cell_type": "code",
   "execution_count": 38,
   "id": "3356fe9c",
   "metadata": {},
   "outputs": [
    {
     "data": {
      "text/plain": [
       "{(3, 4, 5), 1, 6, 'wee'}"
      ]
     },
     "execution_count": 38,
     "metadata": {},
     "output_type": "execute_result"
    }
   ],
   "source": [
    "ms #calling the set again"
   ]
  },
  {
   "cell_type": "code",
   "execution_count": 39,
   "id": "a1f20769",
   "metadata": {},
   "outputs": [],
   "source": [
    "ms_1 = {4,5,6,7} #creating a new set"
   ]
  },
  {
   "cell_type": "code",
   "execution_count": 40,
   "id": "5b7bb46d",
   "metadata": {},
   "outputs": [],
   "source": [
    "ms_2 = ms.union(ms_1) #creating another set that is the union of 2 sets "
   ]
  },
  {
   "cell_type": "code",
   "execution_count": 41,
   "id": "c2f135d6",
   "metadata": {},
   "outputs": [
    {
     "data": {
      "text/plain": [
       "{(3, 4, 5), 1, 4, 5, 6, 7, 'wee'}"
      ]
     },
     "execution_count": 41,
     "metadata": {},
     "output_type": "execute_result"
    }
   ],
   "source": [
    "ms_2 #calling the above set"
   ]
  },
  {
   "cell_type": "code",
   "execution_count": 42,
   "id": "5b58833a",
   "metadata": {},
   "outputs": [],
   "source": [
    "#creating 2 sets\n",
    "set1 = {1, 2, 3}\n",
    "set2 = {3, 4, 5}"
   ]
  },
  {
   "cell_type": "code",
   "execution_count": 43,
   "id": "7d035910",
   "metadata": {},
   "outputs": [
    {
     "name": "stdout",
     "output_type": "stream",
     "text": [
      "{3}\n"
     ]
    }
   ],
   "source": [
    "set3 = set1.intersection(set2) #creating another set which is the intersection of the above 2 sets\n",
    "print(set3) #printing the 3rd set"
   ]
  },
  {
   "cell_type": "code",
   "execution_count": 44,
   "id": "9425ea46",
   "metadata": {},
   "outputs": [],
   "source": [
    "set4 = set1.difference(set2) #finding the difference of 2 sets and making it our 4th set"
   ]
  },
  {
   "cell_type": "code",
   "execution_count": 45,
   "id": "379ab35a",
   "metadata": {},
   "outputs": [
    {
     "data": {
      "text/plain": [
       "{1, 2}"
      ]
     },
     "execution_count": 45,
     "metadata": {},
     "output_type": "execute_result"
    }
   ],
   "source": [
    "set4 #calling the 4th set"
   ]
  },
  {
   "cell_type": "code",
   "execution_count": 46,
   "id": "112cbfc0",
   "metadata": {},
   "outputs": [],
   "source": [
    "set5 = set2.difference(set1) #finding the difference of 2 sets in reverse order and making it our new set"
   ]
  },
  {
   "cell_type": "code",
   "execution_count": 47,
   "id": "b577799e",
   "metadata": {},
   "outputs": [
    {
     "data": {
      "text/plain": [
       "{4, 5}"
      ]
     },
     "execution_count": 47,
     "metadata": {},
     "output_type": "execute_result"
    }
   ],
   "source": [
    "set5 #calling this set"
   ]
  },
  {
   "cell_type": "code",
   "execution_count": 48,
   "id": "f3b781f6",
   "metadata": {},
   "outputs": [
    {
     "name": "stdout",
     "output_type": "stream",
     "text": [
      "[1, 2, 3, 4, 5]\n"
     ]
    }
   ],
   "source": [
    "mylisht = [1, 2, 3, 3, 4, 5] #creating a list of numbers\n",
    "myset = set(mylisht) #converting the list into a set\n",
    "uniquelist = list(myset) #re-converting the list into a set\n",
    "print(uniquelist) #printing the list"
   ]
  },
  {
   "cell_type": "code",
   "execution_count": 49,
   "id": "a4ce4a71",
   "metadata": {},
   "outputs": [
    {
     "data": {
      "text/plain": [
       "[1, 2, 3, 3, 4, 5]"
      ]
     },
     "execution_count": 49,
     "metadata": {},
     "output_type": "execute_result"
    }
   ],
   "source": [
    "mylisht #calling the list"
   ]
  },
  {
   "cell_type": "code",
   "execution_count": 50,
   "id": "55793304",
   "metadata": {},
   "outputs": [
    {
     "data": {
      "text/plain": [
       "{1, 2, 3, 4, 5}"
      ]
     },
     "execution_count": 50,
     "metadata": {},
     "output_type": "execute_result"
    }
   ],
   "source": [
    "myset #calling the tuple"
   ]
  }
 ],
 "metadata": {
  "kernelspec": {
   "display_name": "Python 3 (ipykernel)",
   "language": "python",
   "name": "python3"
  },
  "language_info": {
   "codemirror_mode": {
    "name": "ipython",
    "version": 3
   },
   "file_extension": ".py",
   "mimetype": "text/x-python",
   "name": "python",
   "nbconvert_exporter": "python",
   "pygments_lexer": "ipython3",
   "version": "3.11.2"
  }
 },
 "nbformat": 4,
 "nbformat_minor": 5
}
