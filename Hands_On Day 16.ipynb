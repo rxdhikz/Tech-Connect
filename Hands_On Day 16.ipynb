{
 "cells": [
  {
   "cell_type": "code",
   "execution_count": 1,
   "id": "f8e12d6c",
   "metadata": {},
   "outputs": [],
   "source": [
    "#Classes"
   ]
  },
  {
   "cell_type": "code",
   "execution_count": 2,
   "id": "a6c8dfa5",
   "metadata": {},
   "outputs": [],
   "source": [
    "class songs_with_jo: #defining a class named \"songs_with_jo\". This is known as the parent class\n",
    "    def __init__(singer,name,age,birthday,occupation): #using constructor method and defining a function\n",
    "#constructor method is called when an instance of the class is created, and it is used to set the initial state of the object\n",
    "        singer.name = name\n",
    "        singer.age = age\n",
    "        singer.birthday = birthday\n",
    "        singer.occupation = occupation\n",
    "        \n",
    "    def details_of_the_hooman(singer): #defining a function and calling the singer's details from the above function\n",
    "        print(f\"Hola! I am,\",singer.name,\".I was born on\",singer.birthday,\"and I am currently 20 years old\",\"Oh I am also a\"\n",
    "              ,singer.occupation)"
   ]
  },
  {
   "cell_type": "code",
   "execution_count": 3,
   "id": "5f9a4aa0",
   "metadata": {},
   "outputs": [],
   "source": [
    "jo = songs_with_jo(\"Johnny Orlando\",20,\"January 24\",\"vlogger\")"
   ]
  },
  {
   "cell_type": "code",
   "execution_count": 4,
   "id": "4f41cfdf",
   "metadata": {},
   "outputs": [
    {
     "name": "stdout",
     "output_type": "stream",
     "text": [
      "Hola! I am, Johnny Orlando .I was born on January 24 and I am currently 20 years old Oh I am also a vlogger\n"
     ]
    }
   ],
   "source": [
    "jo.details_of_the_hooman()"
   ]
  },
  {
   "cell_type": "code",
   "execution_count": 5,
   "id": "3ff3e478",
   "metadata": {},
   "outputs": [],
   "source": [
    "class me_myself_n_i:\n",
    "    def __init__(rads,name,age,gender,birthday,sdob,school,gy,hobbies,fc,favartists,fkpopg,fkpopb,fsport,obsessions):\n",
    "        rads.name = name\n",
    "        rads.age = age\n",
    "        rads.gender = gender\n",
    "        rads.birthday = birthday\n",
    "        rads.sdob = sdob\n",
    "        rads.school = school\n",
    "        rads.gy = gy\n",
    "        rads.hobbies = hobbies\n",
    "        rads.fc = fc\n",
    "        rads.favartists = favartists\n",
    "        rads.fkpopg = fkpopg\n",
    "        rads.fkpopb = fkpopb\n",
    "        rads.fsport = fsport\n",
    "        rads.obsessions=obsessions\n",
    "        \n",
    "    def chellame_me(rads):\n",
    "        print(f\"Hi, this is\",rads.name,\".I'm\",rads.age,\".I was born on\",rads.birthday,\"and guess what? that was\",\n",
    "             rads.sdob,\"that year.\",\"I studied in\",rads.school,\"and graduated in the year,\",rads.gy,\". My hobbies are\"\n",
    "              ,rads.hobbies,\".My favorite color is\",rads.fc,\".My favorite K-pop girl group is\",rads.fkpopg,\".My favorite K-pop\",\n",
    "              \"boy group is\",rads.fkpopb,\".Also my favorite music artists are\",rads.favartists,\",my sir and that adorable young\",\n",
    "              \"guy who writes songs, that i can relate too!\",rads.fsport,\"is my favorite sport\",\"and these are a few of my\",\n",
    "              \"obsessions\",rads.obsessions,\".\")"
   ]
  },
  {
   "cell_type": "code",
   "execution_count": 6,
   "id": "1f0f471a",
   "metadata": {},
   "outputs": [],
   "source": [
    "radhika=me_myself_n_i('Radhika',16,'F','May 14, 2006',\"Mother's Day\",\"The Pupil saveetha Eco School\",2023,\"editing\"\n",
    "             \",playing table tennis, listening and vibing to songs, watching K-dramas, meddling with my laptop and a lot more\"\n",
    "            ,\"Purple\",\"Vivek-Mervin and Johnny Orlando\",\"Blackpink, IU, Itzy, Twice\",\"BTS, TXT, Enyphen, Cha Eun Woo\"\n",
    "            ,\"Table Tennis\",\"Food, jewels, clothes, anything purple, cute and adorable\")"
   ]
  },
  {
   "cell_type": "code",
   "execution_count": 7,
   "id": "ea6bf55a",
   "metadata": {},
   "outputs": [
    {
     "name": "stdout",
     "output_type": "stream",
     "text": [
      "Hi, this is Radhika .I'm 16 .I was born on May 14, 2006 and guess what? that was Mother's Day that year. I studied in The Pupil saveetha Eco School and graduated in the year, 2023 . My hobbies are editing,playing table tennis, listening and vibing to songs, watching K-dramas, meddling with my laptop and a lot more .My favorite color is Purple .My favorite K-pop girl group is Blackpink, IU, Itzy, Twice .My favorite K-pop boy group is BTS, TXT, Enyphen, Cha Eun Woo .Also my favorite music artists are Vivek-Mervin and Johnny Orlando ,my sir and that adorable young guy who writes songs, that i can relate too! Table Tennis is my favorite sport and these are a few of my obsessions Food, jewels, clothes, anything purple, cute and adorable .\n"
     ]
    }
   ],
   "source": [
    "radhika.chellame_me()"
   ]
  }
 ],
 "metadata": {
  "kernelspec": {
   "display_name": "Python 3 (ipykernel)",
   "language": "python",
   "name": "python3"
  },
  "language_info": {
   "codemirror_mode": {
    "name": "ipython",
    "version": 3
   },
   "file_extension": ".py",
   "mimetype": "text/x-python",
   "name": "python",
   "nbconvert_exporter": "python",
   "pygments_lexer": "ipython3",
   "version": "3.11.2"
  }
 },
 "nbformat": 4,
 "nbformat_minor": 5
}
