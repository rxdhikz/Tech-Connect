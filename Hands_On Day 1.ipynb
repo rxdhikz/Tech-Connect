{
 "cells": [
  {
   "cell_type": "code",
   "execution_count": 1,
   "id": "7c205477",
   "metadata": {},
   "outputs": [
    {
     "name": "stdout",
     "output_type": "stream",
     "text": [
      "Hello World\n"
     ]
    }
   ],
   "source": [
    "print(f\"Hello World\") #using print statement and 'f' string\n",
    "#this 'hash' symbol is used for commenting and what is typed along with it is known as a comment statement"
   ]
  },
  {
   "cell_type": "code",
   "execution_count": 1,
   "id": "5cd81a00",
   "metadata": {},
   "outputs": [
    {
     "name": "stdout",
     "output_type": "stream",
     "text": [
      "What is your name? Radhika\n",
      "Alo! Radhika\n"
     ]
    }
   ],
   "source": [
    "name = input(f'What is your name? ') #asking the user for an input (string), using input() method, in this case it's a name\n",
    "print(f'Alo!', name) #printing a statement along with the input given by the user"
   ]
  },
  {
   "cell_type": "code",
   "execution_count": 3,
   "id": "157ca58d",
   "metadata": {},
   "outputs": [
    {
     "name": "stdout",
     "output_type": "stream",
     "text": [
      "Rads\n"
     ]
    }
   ],
   "source": [
    "name = 'Rads' #creating a variable\n",
    "print(name) #printing the above given input"
   ]
  },
  {
   "cell_type": "code",
   "execution_count": 5,
   "id": "0aabeeb6",
   "metadata": {
    "scrolled": true
   },
   "outputs": [
    {
     "name": "stdout",
     "output_type": "stream",
     "text": [
      "Rad\n"
     ]
    }
   ],
   "source": [
    "name = input() #asking the user to enter a name using input() method"
   ]
  },
  {
   "cell_type": "code",
   "execution_count": 6,
   "id": "a6720faa",
   "metadata": {},
   "outputs": [
    {
     "name": "stdout",
     "output_type": "stream",
     "text": [
      "Rodhika\n",
      "The name is... Rodhika\n"
     ]
    }
   ],
   "source": [
    "name = input() #asking user to enter name\n",
    "print(f'The name is...', name) #printing the name from the input received"
   ]
  },
  {
   "cell_type": "code",
   "execution_count": 7,
   "id": "5b67bab2",
   "metadata": {},
   "outputs": [
    {
     "name": "stdout",
     "output_type": "stream",
     "text": [
      "Rodhika\n"
     ]
    }
   ],
   "source": [
    "print(name) #printing the name"
   ]
  },
  {
   "cell_type": "code",
   "execution_count": 8,
   "id": "d5896404",
   "metadata": {},
   "outputs": [
    {
     "name": "stdout",
     "output_type": "stream",
     "text": [
      "<bound method Kernel.raw_input of <ipykernel.ipkernel.IPythonKernel object at 0x7f6c2e92e1d0>>\n"
     ]
    }
   ],
   "source": [
    "print(input)"
   ]
  },
  {
   "cell_type": "code",
   "execution_count": 9,
   "id": "5043d840",
   "metadata": {},
   "outputs": [
    {
     "name": "stdout",
     "output_type": "stream",
     "text": [
      "Hello! Welcome Aboard.\n",
      "Enter your details.\n",
      "What is your name?Radhika\n",
      "Hie Radhika Continue filling the other details.\n",
      "Enter your age:16\n",
      "Enter your gender M/F:F\n",
      "Enter your address:Milkie Way Galaxie, Choco Planet, Wafers - 14\n",
      "Enter your mobile number:9876543210\n",
      "Enter your email ID:sugariemint@twisters.com\n",
      "Thank You.\n",
      "Here are your details.\n",
      "Name: Radhika\n",
      "Age: 16\n",
      "Gender: F\n",
      "Address: Milkie Way Galaxie, Choco Planet, Wafers - 14\n",
      "Mobile Number: 9876543210\n",
      "Email ID: sugariemint@twisters.com\n"
     ]
    }
   ],
   "source": [
    "print(f'Hello! Welcome Aboard.') #printing a welcome message\n",
    "print(f'Enter your details.') #printing another message\n",
    "name = input(f'What is your name?') #asking the user for their name\n",
    "print(f'Hie', name, f'Continue filling the other details.') #printing\n",
    "age = int(input(f'Enter your age:')) #getting a number (integer) as an input form the user\n",
    "gender = input(f'Enter your gender M/F:') #getting the gender of the user\n",
    "address = input(f'Enter your address:') #getting the address of the user\n",
    "phoneno = int(input(f'Enter your mobile number:')) #getting the user's phone number\n",
    "emailid=input(f'Enter your email ID:') #getting the user's email id\n",
    "print(f'Thank You.') #printing the closing message\n",
    "print(f'Here are your details.') #printing the details entered by the user one after another\n",
    "print(f'Name:', name)\n",
    "print(f'Age:', age)\n",
    "print(f'Gender:', gender)\n",
    "print(f'Address:', address)\n",
    "print(f'Mobile Number:', phoneno)\n",
    "print(f'Email ID:', emailid)"
   ]
  }
 ],
 "metadata": {
  "kernelspec": {
   "display_name": "Python 3 (ipykernel)",
   "language": "python",
   "name": "python3"
  },
  "language_info": {
   "codemirror_mode": {
    "name": "ipython",
    "version": 3
   },
   "file_extension": ".py",
   "mimetype": "text/x-python",
   "name": "python",
   "nbconvert_exporter": "python",
   "pygments_lexer": "ipython3",
   "version": "3.11.2"
  }
 },
 "nbformat": 4,
 "nbformat_minor": 5
}
