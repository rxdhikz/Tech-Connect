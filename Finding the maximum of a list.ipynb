{
 "cells": [
  {
   "cell_type": "code",
   "execution_count": 1,
   "id": "15aaeb2d",
   "metadata": {},
   "outputs": [],
   "source": [
    "def max_of_a_list(lisht): #defining a function to calculate the maximum number in a list taking the parameter to be the list\n",
    "    the_max = 0 #initialising the maximum value to be zero\n",
    "    for i in lisht: #using for loop, for the number in the list\n",
    "        if i > the_max: #if the number is greater than the maximum value then\n",
    "            i == the_max #saying that the number in the list is to be the maximum value\n",
    "    print(f\"The maximum value of the list {lisht} is {i}.\") #printing this statement"
   ]
  },
  {
   "cell_type": "code",
   "execution_count": 2,
   "id": "433d1813",
   "metadata": {},
   "outputs": [
    {
     "name": "stdout",
     "output_type": "stream",
     "text": [
      "The maximum value of the list [1, 2, 3, 4, 5] is 5.\n"
     ]
    }
   ],
   "source": [
    "a = [1,2,3,4,5] #initialising a list of numbers\n",
    "max_of_a_list(a) #calling the function to find the maximum of a list"
   ]
  }
 ],
 "metadata": {
  "kernelspec": {
   "display_name": "Python 3 (ipykernel)",
   "language": "python",
   "name": "python3"
  },
  "language_info": {
   "codemirror_mode": {
    "name": "ipython",
    "version": 3
   },
   "file_extension": ".py",
   "mimetype": "text/x-python",
   "name": "python",
   "nbconvert_exporter": "python",
   "pygments_lexer": "ipython3",
   "version": "3.11.2"
  }
 },
 "nbformat": 4,
 "nbformat_minor": 5
}
