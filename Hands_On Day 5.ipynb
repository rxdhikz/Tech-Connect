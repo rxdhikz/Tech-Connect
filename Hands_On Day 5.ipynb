{
 "cells": [
  {
   "cell_type": "code",
   "execution_count": 1,
   "id": "5f6acd01",
   "metadata": {},
   "outputs": [],
   "source": [
    "#Dictionaries\n",
    "#Dictionaries are represented with curly brackets\n",
    "#Dictionaries are mutable and unordered\n",
    "#Dictionaries can also be nested similar to lists\n",
    "#Dictionaries contain a key-value pair. This key-value pair is also known as 'assosciative array'"
   ]
  },
  {
   "cell_type": "code",
   "execution_count": 2,
   "id": "e409d765",
   "metadata": {},
   "outputs": [],
   "source": [
    "lisht = ['1','2','3'] #initialising a list with strings of numbers"
   ]
  },
  {
   "cell_type": "code",
   "execution_count": 3,
   "id": "4eec57b0",
   "metadata": {},
   "outputs": [
    {
     "data": {
      "text/plain": [
       "('1', '2', '3')"
      ]
     },
     "execution_count": 3,
     "metadata": {},
     "output_type": "execute_result"
    }
   ],
   "source": [
    "lisht[0],lisht[1],lisht[2] #printing the values in each index of the list"
   ]
  },
  {
   "cell_type": "code",
   "execution_count": 4,
   "id": "385b4fc6",
   "metadata": {},
   "outputs": [],
   "source": [
    "my_details = {'Name':'Radhika','Age':'16','Gender':'F','DOB':'14-05-2006'} #creating a dictionary with key-value pairs"
   ]
  },
  {
   "cell_type": "code",
   "execution_count": 5,
   "id": "39b7344f",
   "metadata": {},
   "outputs": [
    {
     "data": {
      "text/plain": [
       "dict"
      ]
     },
     "execution_count": 5,
     "metadata": {},
     "output_type": "execute_result"
    }
   ],
   "source": [
    "type(my_details) #asking for the type of the variable 'my_details'"
   ]
  },
  {
   "cell_type": "code",
   "execution_count": 6,
   "id": "c6fd1085",
   "metadata": {},
   "outputs": [
    {
     "data": {
      "text/plain": [
       "4"
      ]
     },
     "execution_count": 6,
     "metadata": {},
     "output_type": "execute_result"
    }
   ],
   "source": [
    "len(my_details) #calculating the length of the list"
   ]
  },
  {
   "cell_type": "code",
   "execution_count": 7,
   "id": "4d8137ac",
   "metadata": {},
   "outputs": [
    {
     "ename": "KeyError",
     "evalue": "0",
     "output_type": "error",
     "traceback": [
      "\u001b[1;31m---------------------------------------------------------------------------\u001b[0m",
      "\u001b[1;31mKeyError\u001b[0m                                  Traceback (most recent call last)",
      "Cell \u001b[1;32mIn[7], line 1\u001b[0m\n\u001b[1;32m----> 1\u001b[0m \u001b[43mmy_details\u001b[49m\u001b[43m[\u001b[49m\u001b[38;5;241;43m0\u001b[39;49m\u001b[43m]\u001b[49m\n\u001b[0;32m      2\u001b[0m \u001b[38;5;66;03m#this will throw a KeyError because that key doesn't exist in this dictionary\u001b[39;00m\n",
      "\u001b[1;31mKeyError\u001b[0m: 0"
     ]
    }
   ],
   "source": [
    "my_details[0]\n",
    "#this will throw a KeyError because that key doesn't exist in this dictionary"
   ]
  },
  {
   "cell_type": "code",
   "execution_count": 8,
   "id": "4c9f99a5",
   "metadata": {
    "scrolled": true
   },
   "outputs": [
    {
     "ename": "NameError",
     "evalue": "name 'Name' is not defined",
     "output_type": "error",
     "traceback": [
      "\u001b[1;31m---------------------------------------------------------------------------\u001b[0m",
      "\u001b[1;31mNameError\u001b[0m                                 Traceback (most recent call last)",
      "Cell \u001b[1;32mIn[8], line 1\u001b[0m\n\u001b[1;32m----> 1\u001b[0m my_details[\u001b[43mName\u001b[49m]\n\u001b[0;32m      2\u001b[0m \u001b[38;5;66;03m#will throw NameError because 'Name' isn't defined\u001b[39;00m\n",
      "\u001b[1;31mNameError\u001b[0m: name 'Name' is not defined"
     ]
    }
   ],
   "source": [
    "my_details[Name]\n",
    "#will throw NameError because 'Name' isn't defined"
   ]
  },
  {
   "cell_type": "code",
   "execution_count": 9,
   "id": "c5da248a",
   "metadata": {},
   "outputs": [
    {
     "data": {
      "text/plain": [
       "'Radhika'"
      ]
     },
     "execution_count": 9,
     "metadata": {},
     "output_type": "execute_result"
    }
   ],
   "source": [
    "my_details['Name'] #printing the name from the created dictionary"
   ]
  },
  {
   "cell_type": "code",
   "execution_count": 10,
   "id": "40315510",
   "metadata": {},
   "outputs": [],
   "source": [
    "personal_information = {\"Name\":\"Rads\", \"DOB\":\"14-05-2006\",\"Gender\":\"F\"} #creating another dictionary"
   ]
  },
  {
   "cell_type": "code",
   "execution_count": 11,
   "id": "5db636f9",
   "metadata": {},
   "outputs": [],
   "source": [
    "alphabets = ['a','b','c','d'] #creating a list with strings of alphabtes"
   ]
  },
  {
   "cell_type": "code",
   "execution_count": 12,
   "id": "d443e70c",
   "metadata": {},
   "outputs": [],
   "source": [
    "numbers = ['1','2','3','4'] #creating a list with string of numbers"
   ]
  },
  {
   "cell_type": "code",
   "execution_count": 13,
   "id": "7c34c5a6",
   "metadata": {},
   "outputs": [
    {
     "ename": "ValueError",
     "evalue": "dictionary update sequence element #0 has length 4; 2 is required",
     "output_type": "error",
     "traceback": [
      "\u001b[1;31m---------------------------------------------------------------------------\u001b[0m",
      "\u001b[1;31mValueError\u001b[0m                                Traceback (most recent call last)",
      "Cell \u001b[1;32mIn[13], line 1\u001b[0m\n\u001b[1;32m----> 1\u001b[0m \u001b[38;5;28;43mdict\u001b[39;49m\u001b[43m(\u001b[49m\u001b[43m(\u001b[49m\u001b[43malphabets\u001b[49m\u001b[43m,\u001b[49m\u001b[43mnumbers\u001b[49m\u001b[43m)\u001b[49m\u001b[43m)\u001b[49m\n\u001b[0;32m      2\u001b[0m \u001b[38;5;66;03m#this will throw a ValueError because '''dictionary update sequence element #0 has length 4; 2 is required'''\u001b[39;00m\n",
      "\u001b[1;31mValueError\u001b[0m: dictionary update sequence element #0 has length 4; 2 is required"
     ]
    }
   ],
   "source": [
    "dict((alphabets,numbers))\n",
    "#this will throw a ValueError because '''dictionary update sequence element #0 has length 4; 2 is required'''"
   ]
  },
  {
   "cell_type": "code",
   "execution_count": 14,
   "id": "85127a6e",
   "metadata": {},
   "outputs": [
    {
     "data": {
      "text/plain": [
       "{'a': '1', 'b': '2', 'c': '3', 'd': '4'}"
      ]
     },
     "execution_count": 14,
     "metadata": {},
     "output_type": "execute_result"
    }
   ],
   "source": [
    "dict(zip(alphabets,numbers))\n",
    "#The zip() function --- this function returns a zip object, which is an iterator of tuples, where the first item in each passed\n",
    "#iterator is paired together, and then the second item in each passed iterator are paired together and so on\n",
    "#so this method will map a to 1, b to 2 and so on"
   ]
  },
  {
   "cell_type": "code",
   "execution_count": 15,
   "id": "0d2f883f",
   "metadata": {},
   "outputs": [],
   "source": [
    "diction = dict(a=1,b=2,c=3,d=4) #creating a dictionary with the help of the dict() method by assigning values inside a\n",
    "#parenthesis"
   ]
  },
  {
   "cell_type": "code",
   "execution_count": 16,
   "id": "87a3a525",
   "metadata": {},
   "outputs": [
    {
     "name": "stdout",
     "output_type": "stream",
     "text": [
      "{'a': 1, 'b': 2, 'c': 3, 'd': 4}\n"
     ]
    }
   ],
   "source": [
    "print(diction) #printing the dictionary"
   ]
  },
  {
   "cell_type": "code",
   "execution_count": 17,
   "id": "6c5dbfc4",
   "metadata": {},
   "outputs": [
    {
     "data": {
      "text/plain": [
       "2"
      ]
     },
     "execution_count": 17,
     "metadata": {},
     "output_type": "execute_result"
    }
   ],
   "source": [
    "diction['b'] #printing the value of the key 'b'"
   ]
  },
  {
   "cell_type": "code",
   "execution_count": 18,
   "id": "3930b254",
   "metadata": {},
   "outputs": [
    {
     "ename": "SyntaxError",
     "evalue": "cannot assign to literal here. Maybe you meant '==' instead of '='? (1546632707.py, line 3)",
     "output_type": "error",
     "traceback": [
      "\u001b[1;36m  Cell \u001b[1;32mIn[18], line 3\u001b[1;36m\u001b[0m\n\u001b[1;33m    diction['b'='5'] #\u001b[0m\n\u001b[1;37m            ^\u001b[0m\n\u001b[1;31mSyntaxError\u001b[0m\u001b[1;31m:\u001b[0m cannot assign to literal here. Maybe you meant '==' instead of '='?\n"
     ]
    }
   ],
   "source": [
    "#Changes\n",
    "#Changing values of elements\n",
    "diction['b'='5'] #\n",
    "#this will throw SyntaxError because because we are supposed to use '==' when we are assigning a value"
   ]
  },
  {
   "cell_type": "code",
   "execution_count": 19,
   "id": "f76d2b4e",
   "metadata": {},
   "outputs": [
    {
     "ename": "KeyError",
     "evalue": "False",
     "output_type": "error",
     "traceback": [
      "\u001b[1;31m---------------------------------------------------------------------------\u001b[0m",
      "\u001b[1;31mKeyError\u001b[0m                                  Traceback (most recent call last)",
      "Cell \u001b[1;32mIn[19], line 3\u001b[0m\n\u001b[0;32m      1\u001b[0m \u001b[38;5;66;03m#Changes\u001b[39;00m\n\u001b[0;32m      2\u001b[0m \u001b[38;5;66;03m#Changing values of elements\u001b[39;00m\n\u001b[1;32m----> 3\u001b[0m \u001b[43mdiction\u001b[49m\u001b[43m[\u001b[49m\u001b[38;5;124;43m'\u001b[39;49m\u001b[38;5;124;43mb\u001b[39;49m\u001b[38;5;124;43m'\u001b[39;49m\u001b[38;5;241;43m==\u001b[39;49m\u001b[43m \u001b[49m\u001b[38;5;241;43m5\u001b[39;49m\u001b[43m]\u001b[49m \u001b[38;5;66;03m#\u001b[39;00m\n\u001b[0;32m      4\u001b[0m \u001b[38;5;66;03m#this will throw SyntaxError because because we are supposed to use '==' when we are assigning a value\u001b[39;00m\n",
      "\u001b[1;31mKeyError\u001b[0m: False"
     ]
    }
   ],
   "source": [
    "#Changes\n",
    "#Changing values of elements\n",
    "diction['b'== 5] #\n",
    "#this will throw SyntaxError because because we are supposed to use '==' when we are assigning a value"
   ]
  },
  {
   "cell_type": "code",
   "execution_count": 20,
   "id": "2dd11659",
   "metadata": {},
   "outputs": [],
   "source": [
    "diction['b'] = 5 #assigning a new value to the key 'b'"
   ]
  },
  {
   "cell_type": "code",
   "execution_count": 21,
   "id": "a6d58c95",
   "metadata": {},
   "outputs": [
    {
     "data": {
      "text/plain": [
       "{'a': 1, 'b': 5, 'c': 3, 'd': 4}"
      ]
     },
     "execution_count": 21,
     "metadata": {},
     "output_type": "execute_result"
    }
   ],
   "source": [
    "diction #calling the dictionary"
   ]
  },
  {
   "cell_type": "code",
   "execution_count": 22,
   "id": "b518b5c2",
   "metadata": {},
   "outputs": [],
   "source": [
    "diction.update({'d':7}) #updating the dictionary i.e.,changing the value of the key in this case"
   ]
  },
  {
   "cell_type": "code",
   "execution_count": 23,
   "id": "ba451d3c",
   "metadata": {},
   "outputs": [
    {
     "data": {
      "text/plain": [
       "{'a': 1, 'b': 5, 'c': 3, 'd': 7}"
      ]
     },
     "execution_count": 23,
     "metadata": {},
     "output_type": "execute_result"
    }
   ],
   "source": [
    "diction #calling the dictionary"
   ]
  },
  {
   "cell_type": "code",
   "execution_count": 24,
   "id": "9d04b5c0",
   "metadata": {},
   "outputs": [],
   "source": [
    "#Adding of elements into a dictionary\n",
    "diction['e'] = 8"
   ]
  },
  {
   "cell_type": "code",
   "execution_count": 25,
   "id": "381079e4",
   "metadata": {},
   "outputs": [
    {
     "data": {
      "text/plain": [
       "{'a': 1, 'b': 5, 'c': 3, 'd': 7, 'e': 8}"
      ]
     },
     "execution_count": 25,
     "metadata": {},
     "output_type": "execute_result"
    }
   ],
   "source": [
    "diction #calling the dictionary"
   ]
  },
  {
   "cell_type": "code",
   "execution_count": 26,
   "id": "367f83bb",
   "metadata": {},
   "outputs": [],
   "source": [
    "diction.update({'g':10}) #updating the dictionary"
   ]
  },
  {
   "cell_type": "code",
   "execution_count": 27,
   "id": "9333cb5f",
   "metadata": {},
   "outputs": [
    {
     "data": {
      "text/plain": [
       "{'a': 1, 'b': 5, 'c': 3, 'd': 7, 'e': 8, 'g': 10}"
      ]
     },
     "execution_count": 27,
     "metadata": {},
     "output_type": "execute_result"
    }
   ],
   "source": [
    "diction #calling the dictionary"
   ]
  },
  {
   "cell_type": "code",
   "execution_count": 28,
   "id": "d9b169d3",
   "metadata": {},
   "outputs": [
    {
     "data": {
      "text/plain": [
       "10"
      ]
     },
     "execution_count": 28,
     "metadata": {},
     "output_type": "execute_result"
    }
   ],
   "source": [
    "diction.pop('g') #popping an element from the dictionary by calling the key\n",
    "#this method will return the popped value of the key"
   ]
  },
  {
   "cell_type": "code",
   "execution_count": 29,
   "id": "f355e9a1",
   "metadata": {},
   "outputs": [
    {
     "data": {
      "text/plain": [
       "{'a': 1, 'b': 5, 'c': 3, 'd': 7, 'e': 8}"
      ]
     },
     "execution_count": 29,
     "metadata": {},
     "output_type": "execute_result"
    }
   ],
   "source": [
    "diction #calling the dictionary"
   ]
  },
  {
   "cell_type": "code",
   "execution_count": 30,
   "id": "67e4720d",
   "metadata": {},
   "outputs": [],
   "source": [
    "del diction['e'] #deleting a key-value pair from a dictionary"
   ]
  },
  {
   "cell_type": "code",
   "execution_count": 31,
   "id": "2f8ce5b1",
   "metadata": {},
   "outputs": [
    {
     "data": {
      "text/plain": [
       "{'a': 1, 'b': 5, 'c': 3, 'd': 7}"
      ]
     },
     "execution_count": 31,
     "metadata": {},
     "output_type": "execute_result"
    }
   ],
   "source": [
    "diction #calling the dictionary"
   ]
  },
  {
   "cell_type": "code",
   "execution_count": 32,
   "id": "0099320f",
   "metadata": {},
   "outputs": [
    {
     "ename": "SyntaxError",
     "evalue": "invalid syntax (2945393340.py, line 1)",
     "output_type": "error",
     "traceback": [
      "\u001b[1;36m  Cell \u001b[1;32mIn[32], line 1\u001b[1;36m\u001b[0m\n\u001b[1;33m    diction.append('e':8)\u001b[0m\n\u001b[1;37m                      ^\u001b[0m\n\u001b[1;31mSyntaxError\u001b[0m\u001b[1;31m:\u001b[0m invalid syntax\n"
     ]
    }
   ],
   "source": [
    "diction.append('e':8)\n",
    "#this will throw a SyntaxError because append method doesn't work for dictionaries"
   ]
  },
  {
   "cell_type": "code",
   "execution_count": 33,
   "id": "21d9660c",
   "metadata": {},
   "outputs": [],
   "source": [
    "diction['e'] = [] #initialising the value of the key 'e' to be an empty list"
   ]
  },
  {
   "cell_type": "code",
   "execution_count": 34,
   "id": "45956001",
   "metadata": {},
   "outputs": [
    {
     "data": {
      "text/plain": [
       "{'a': 1, 'b': 5, 'c': 3, 'd': 7, 'e': []}"
      ]
     },
     "execution_count": 34,
     "metadata": {},
     "output_type": "execute_result"
    }
   ],
   "source": [
    "diction #calling the dictionary"
   ]
  },
  {
   "cell_type": "code",
   "execution_count": 35,
   "id": "ca84a577",
   "metadata": {},
   "outputs": [],
   "source": [
    "diction['e'].append(8) #appending a value onto the empty list that is the value of the key 'e'"
   ]
  },
  {
   "cell_type": "code",
   "execution_count": 36,
   "id": "1d162f30",
   "metadata": {},
   "outputs": [
    {
     "data": {
      "text/plain": [
       "{'a': 1, 'b': 5, 'c': 3, 'd': 7, 'e': [8]}"
      ]
     },
     "execution_count": 36,
     "metadata": {},
     "output_type": "execute_result"
    }
   ],
   "source": [
    "diction #calling the dictionary"
   ]
  },
  {
   "cell_type": "code",
   "execution_count": 37,
   "id": "46ac5b75",
   "metadata": {},
   "outputs": [],
   "source": [
    "diction['f'] = 10 #initialising the value of f to be 10 in the dictionary"
   ]
  },
  {
   "cell_type": "code",
   "execution_count": 38,
   "id": "795e0b1a",
   "metadata": {},
   "outputs": [
    {
     "data": {
      "text/plain": [
       "{'a': 1, 'b': 5, 'c': 3, 'd': 7, 'e': [8], 'f': 10}"
      ]
     },
     "execution_count": 38,
     "metadata": {},
     "output_type": "execute_result"
    }
   ],
   "source": [
    "diction #calling the dictionary"
   ]
  },
  {
   "cell_type": "code",
   "execution_count": 39,
   "id": "835dd7be",
   "metadata": {},
   "outputs": [],
   "source": [
    "#creating a dictionary\n",
    "details_of_myself = {'Name':'Radhika','Age':'16','Gender':'F','DOB':'14-05-2006','Height':'161','Weight':'42.1',\n",
    "                     'School':'The Pupil Saveetha Eco School','Favorite Color':'Purple'}"
   ]
  },
  {
   "cell_type": "code",
   "execution_count": 40,
   "id": "3653193a",
   "metadata": {},
   "outputs": [
    {
     "data": {
      "text/plain": [
       "{'Name': 'Radhika',\n",
       " 'Age': '16',\n",
       " 'Gender': 'F',\n",
       " 'DOB': '14-05-2006',\n",
       " 'Height': '161',\n",
       " 'Weight': '42.1',\n",
       " 'School': 'The Pupil Saveetha Eco School',\n",
       " 'Favorite Color': 'Purple'}"
      ]
     },
     "execution_count": 40,
     "metadata": {},
     "output_type": "execute_result"
    }
   ],
   "source": [
    "details_of_myself #calling the dictionary"
   ]
  }
 ],
 "metadata": {
  "kernelspec": {
   "display_name": "Python 3 (ipykernel)",
   "language": "python",
   "name": "python3"
  },
  "language_info": {
   "codemirror_mode": {
    "name": "ipython",
    "version": 3
   },
   "file_extension": ".py",
   "mimetype": "text/x-python",
   "name": "python",
   "nbconvert_exporter": "python",
   "pygments_lexer": "ipython3",
   "version": "3.11.2"
  }
 },
 "nbformat": 4,
 "nbformat_minor": 5
}
