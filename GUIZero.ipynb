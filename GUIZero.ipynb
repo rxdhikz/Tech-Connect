{
 "cells": [
  {
   "cell_type": "code",
   "execution_count": 1,
   "id": "1962de67",
   "metadata": {},
   "outputs": [],
   "source": [
    "#GUIZero"
   ]
  },
  {
   "cell_type": "code",
   "execution_count": 2,
   "id": "b2fbab1d",
   "metadata": {},
   "outputs": [],
   "source": [
    "from guizero import App,Text #importing the App and Text widget from the guizero library\n",
    "app = App(title=\"Universe of Radhika\") #using the App widget and creating an app title\n",
    "#creating a welcome message using the Text widget and app tells where the text lives --- mostly lives directly in the app\n",
    "msg = Text(app,text=\"Welcome to Rad's Own World\")\n",
    "app.display() #displaying the app using this --- this should be done at the end of evry program"
   ]
  },
  {
   "cell_type": "code",
   "execution_count": 3,
   "id": "ed5b0ddf",
   "metadata": {},
   "outputs": [],
   "source": [
    "from guizero import App,Text #importing the App and Text widget from the guizero library\n",
    "app = App(title=\"Universe of Radhika\") #using the App widget and creating an app title\n",
    "app.bg = \"#4C1FA7\" #giving a color to the app's background\n",
    "#creating a welcome message using the Text widget and app tells where the text lives\n",
    "msg = Text(app,text=\"Welcome to Rad's Own World\") \n",
    "msg.text_size = 17 #giving a size to the text being displayed in the app\n",
    "msg.text_color = \"#CEBBF3\" #giving the text inside the app a color\n",
    "app.display() #displaying the app using this"
   ]
  },
  {
   "cell_type": "code",
   "execution_count": 4,
   "id": "d699a9dc",
   "metadata": {},
   "outputs": [],
   "source": [
    "from guizero import App,Text,Picture #importing the App, Text and Picture widget from the guizero library\n",
    "app = App(title=\"Universe of Radhika\") #using the App widget and creating an app title\n",
    "#creating a welcome message using the Text widget and app tells where the text lives\n",
    "msg = Text(app,text=\"Welcome to Rad's Own World\")\n",
    "msg.text_size = 17 #giving a size to the text being displayed in the app\n",
    "msg.text_color = \"#CEBBF3\" #giving the text inside the app a color\n",
    "#calling an image from its directory using the Picture widget\n",
    "me = Picture(app,image=r\"C:\\Users\\Microsoft\\OneDrive\\Pictures\\me.png\")\n",
    "app.bg = \"#4C1FA7\" #giving a color to the app's background\n",
    "app.display() #displaying the app using this"
   ]
  }
 ],
 "metadata": {
  "kernelspec": {
   "display_name": "Python 3 (ipykernel)",
   "language": "python",
   "name": "python3"
  },
  "language_info": {
   "codemirror_mode": {
    "name": "ipython",
    "version": 3
   },
   "file_extension": ".py",
   "mimetype": "text/x-python",
   "name": "python",
   "nbconvert_exporter": "python",
   "pygments_lexer": "ipython3",
   "version": "3.11.2"
  }
 },
 "nbformat": 4,
 "nbformat_minor": 5
}
