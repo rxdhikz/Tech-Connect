{
 "cells": [
  {
   "cell_type": "code",
   "execution_count": 1,
   "id": "a7ec1666",
   "metadata": {},
   "outputs": [],
   "source": [
    "#Scope\n",
    "#Scope referes to a part of the program where the variable is accessible\n",
    "#There are two scopes of variables - Global scope variable and Local scope variable\n",
    "#Global scope variable is a variable defined outside the function. It is used throughout the entire program\n",
    "#Local scope variable is a variable defined inside a function and it can be used only within the function"
   ]
  },
  {
   "cell_type": "code",
   "execution_count": 2,
   "id": "9f2be57d",
   "metadata": {},
   "outputs": [],
   "source": [
    "rad = 'Raddish' #Global variable\n",
    "def my_nameo_as_vegetable(): #defining a function\n",
    "    name = 'Radhika'#Local variable\n",
    "    print(f\"Hola! My name is {name} and as a vegetable I may be called {rad}\")"
   ]
  },
  {
   "cell_type": "code",
   "execution_count": 3,
   "id": "ff451584",
   "metadata": {},
   "outputs": [
    {
     "name": "stdout",
     "output_type": "stream",
     "text": [
      "Hola! My name is Radhika and as a vegetable I may be called Raddish\n"
     ]
    }
   ],
   "source": [
    "my_nameo_as_vegetable()"
   ]
  },
  {
   "cell_type": "code",
   "execution_count": 4,
   "id": "b43700be",
   "metadata": {},
   "outputs": [
    {
     "ename": "NameError",
     "evalue": "name 'name' is not defined",
     "output_type": "error",
     "traceback": [
      "\u001b[1;31m---------------------------------------------------------------------------\u001b[0m",
      "\u001b[1;31mNameError\u001b[0m                                 Traceback (most recent call last)",
      "Cell \u001b[1;32mIn[4], line 2\u001b[0m\n\u001b[0;32m      1\u001b[0m \u001b[38;5;66;03m#if name is called generally,a NameError would occur as the variable is not defined\u001b[39;00m\n\u001b[1;32m----> 2\u001b[0m \u001b[38;5;28mprint\u001b[39m(\u001b[43mname\u001b[49m)\n",
      "\u001b[1;31mNameError\u001b[0m: name 'name' is not defined"
     ]
    }
   ],
   "source": [
    "#if name is called generally,a NameError would occur as the variable is not defined\n",
    "print(name)"
   ]
  },
  {
   "cell_type": "markdown",
   "id": "58c3afe8",
   "metadata": {},
   "source": [
    "Write a program to promt the user for hours and rate per hour using input to comoute gross pay. Use 35 hours and a rate of 2.75 hour to test the program"
   ]
  },
  {
   "cell_type": "code",
   "execution_count": 5,
   "id": "1e530633",
   "metadata": {},
   "outputs": [
    {
     "name": "stdout",
     "output_type": "stream",
     "text": [
      "Enter the no.of hours: 35\n",
      "Enter the rate per hour: 2.75\n",
      "The gross pay is: 96.25\n"
     ]
    }
   ],
   "source": [
    "hours = input(\"Enter the no.of hours: \") #taking the input for the no.of hours, as string, from the user\n",
    "rate = input(\"Enter the rate per hour: \") #taking the rate per hour, as a string input, from the user\n",
    "\n",
    "hrs = float(hours) #converting the string into float\n",
    "rph = float(rate)#converting the string into float\n",
    "\n",
    "gross_pay=hrs*rph #calculating the gross pay by multiplying the float value of no.of hours and rate per hour\n",
    "print(f\"The gross pay is: {gross_pay}\") #printing the gross pay value"
   ]
  },
  {
   "cell_type": "markdown",
   "id": "35c48a29",
   "metadata": {},
   "source": [
    "Write a program to prompt the user for their name and age using input, and then print a message that includes their name and age. For example, if the user enters \"John\" and \"25\", the program should print \"Hello John, you are 25 years old.\""
   ]
  },
  {
   "cell_type": "code",
   "execution_count": 6,
   "id": "3d73d8f4",
   "metadata": {},
   "outputs": [
    {
     "name": "stdout",
     "output_type": "stream",
     "text": [
      "Enter your name: John\n",
      "Enter your age: 25\n",
      "Hello John, you are 25 years old.\n"
     ]
    }
   ],
   "source": [
    "name = input(\"Enter your name: \") #inputing the name from the user\n",
    "age = int(input(\"Enter your age: \")) #inputing the value of age from the user\n",
    "print(f\"Hello {name}, you are {age} years old.\") #printing the name and age given by the user in a sentence"
   ]
  },
  {
   "cell_type": "markdown",
   "id": "6a542041",
   "metadata": {},
   "source": [
    "Write a program to prompt the user for a temperature in Celsius, and then convert it to Fahrenheit and print the result. The formula for converting Celsius to Fahrenheit is F = C * 1.8 + 32."
   ]
  },
  {
   "cell_type": "code",
   "execution_count": 7,
   "id": "19a347fa",
   "metadata": {},
   "outputs": [
    {
     "name": "stdout",
     "output_type": "stream",
     "text": [
      "Enter the temperature in ℃: 37.1\n",
      "Your temperature in ℉ is: 98.78\n"
     ]
    }
   ],
   "source": [
    "temp_celcius = float(input(\"Enter the temperature in ℃: \")) #inputing the value of temperature in ℃ from the user\n",
    "temp_fahrenheit = (temp_celcius*1.8)+32 #converting the value of ℃ temperature into fahrenheit using the mentioned formula\n",
    "print(f\"Your temperature in ℉ is: {temp_fahrenheit}\") #printing the value temperature in fahrenheit"
   ]
  },
  {
   "cell_type": "markdown",
   "id": "a99d0065",
   "metadata": {},
   "source": [
    "Write a program to prompt the user for a radius, and then compute and print the area of a circle with that radius. The formula for the area of a circle is A = πr^2, where π is approximately 3.14."
   ]
  },
  {
   "cell_type": "code",
   "execution_count": 8,
   "id": "3dd18eef",
   "metadata": {},
   "outputs": [
    {
     "name": "stdout",
     "output_type": "stream",
     "text": [
      "Enter the radius: 2\n",
      "Area of your circle is: 12.56\n"
     ]
    }
   ],
   "source": [
    "radius = float(input(\"Enter the radius: \")) #asking the user to enter a value for the radius of their circle\n",
    "pi = 3.14 #initiating the approximate value for pi\n",
    "circle_area = pi*(radius**2) #calculating the area of the circle\n",
    "print(f\"Area of your circle is: {circle_area}\") #pinting the value for the area of circle"
   ]
  },
  {
   "cell_type": "markdown",
   "id": "87f9fef6",
   "metadata": {},
   "source": [
    "Write a program to prompt the user for a string, and then print the string in reverse order. For example, if the user enters \"hello\", the program should print \"olleh\"."
   ]
  },
  {
   "cell_type": "code",
   "execution_count": 9,
   "id": "1ce2c54b",
   "metadata": {},
   "outputs": [
    {
     "name": "stdout",
     "output_type": "stream",
     "text": [
      "The string 'hello' in reverse is olleh\n"
     ]
    }
   ],
   "source": [
    "a_string = \"hello\" #initialising a string 'hello'\n",
    "reverse_string = a_string[::-1] #using indexing of strings to convert the string 'hello' in reverse manner\n",
    "print(f\"The string 'hello' in reverse is {reverse_string}\") #printing the reverse of the string 'hello'"
   ]
  },
  {
   "cell_type": "markdown",
   "id": "0f99db85",
   "metadata": {},
   "source": [
    "Write a program to prompt the user for a number and a power, and then compute and print the result of raising the number to the power. For example, if the user enters \"2\" and \"3\", the program should print \"2 to the power of 3 is 8\"."
   ]
  },
  {
   "cell_type": "code",
   "execution_count": 10,
   "id": "a4c061ad",
   "metadata": {},
   "outputs": [
    {
     "name": "stdout",
     "output_type": "stream",
     "text": [
      "Enter a number to be the base: 2\n",
      "Enter a number to be the power: 3\n",
      "{2.0} to the power 3 is 8.0\n"
     ]
    }
   ],
   "source": [
    "num = float(input(\"Enter a number to be the base: \")) #asking the user for the value of number as a float, for the base\n",
    "pwr = int(input(\"Enter a number to be the power: \")) #asking the user for the value of power as an integer, for the power\n",
    "exponential_crisis = num**pwr #calculating the value for number raised to the power\n",
    "print({num}, f\"to the power {pwr} is {exponential_crisis}\") #printing the value of the number raised to its power"
   ]
  },
  {
   "cell_type": "code",
   "execution_count": 11,
   "id": "a13d426f",
   "metadata": {},
   "outputs": [
    {
     "name": "stdout",
     "output_type": "stream",
     "text": [
      "Enter a number to be the base: 2\n",
      "Enter a number to be the power: 3\n",
      "{2} to the power 3 is 8\n"
     ]
    }
   ],
   "source": [
    "num = int(input(\"Enter a number to be the base: \")) #asking the user for the value of number as an integer, for the base\n",
    "pwr = int(input(\"Enter a number to be the power: \")) #asking the user for the value of power as an integer, for the power\n",
    "exponential_crisis = num**pwr #calculating the base raised to its power\n",
    "print({num}, f\"to the power {pwr} is {exponential_crisis}\") #printing the value of the number raised to its power"
   ]
  }
 ],
 "metadata": {
  "kernelspec": {
   "display_name": "Python 3 (ipykernel)",
   "language": "python",
   "name": "python3"
  },
  "language_info": {
   "codemirror_mode": {
    "name": "ipython",
    "version": 3
   },
   "file_extension": ".py",
   "mimetype": "text/x-python",
   "name": "python",
   "nbconvert_exporter": "python",
   "pygments_lexer": "ipython3",
   "version": "3.11.2"
  }
 },
 "nbformat": 4,
 "nbformat_minor": 5
}
