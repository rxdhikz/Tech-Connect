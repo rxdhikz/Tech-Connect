{
 "cells": [
  {
   "cell_type": "code",
   "execution_count": 1,
   "id": "5df95ea0",
   "metadata": {},
   "outputs": [],
   "source": [
    "#Simple class - Attributes and Methods"
   ]
  },
  {
   "cell_type": "code",
   "execution_count": 2,
   "id": "9ae8a59f",
   "metadata": {},
   "outputs": [],
   "source": [
    "class songs_with_jo:\n",
    "    def __init__(singer,name,age,birthday,occupation):\n",
    "        singer.name = name\n",
    "        singer.age = age\n",
    "        singer.birthday = birthday\n",
    "        singer.occupation = occupation\n",
    "        \n",
    "    def details_of_the_hooman(singer):\n",
    "        print(f\"Hola! I am,\",singer.name,\".I was born on\",singer.birthday,\"and I am currently 20 years old\",\"Oh I am also a\"\n",
    "              ,singer.occupation)"
   ]
  },
  {
   "cell_type": "code",
   "execution_count": 3,
   "id": "094354ea",
   "metadata": {},
   "outputs": [],
   "source": [
    "#Creating objects for the songs_with_jo class\n",
    "jo = songs_with_jo(\"Johnny Orlando\",20,\"January 24\",\"vlogger\")"
   ]
  },
  {
   "cell_type": "code",
   "execution_count": 4,
   "id": "fab6c4eb",
   "metadata": {},
   "outputs": [
    {
     "name": "stdout",
     "output_type": "stream",
     "text": [
      "Johnny Orlando\n",
      "20\n",
      "January 24\n",
      "vlogger\n"
     ]
    }
   ],
   "source": [
    "#Accesing each attribute of the object created\n",
    "print(jo.name)\n",
    "print(jo.age)\n",
    "print(jo.birthday)\n",
    "print(jo.occupation)"
   ]
  },
  {
   "cell_type": "code",
   "execution_count": 5,
   "id": "bc21b852",
   "metadata": {},
   "outputs": [],
   "source": [
    "#Inheritance\n",
    "#it is like creating a baby child class from a parent class"
   ]
  },
  {
   "cell_type": "code",
   "execution_count": 6,
   "id": "09006e2c",
   "metadata": {},
   "outputs": [],
   "source": [
    "class Batteries: #defining a new class named \"Batteries\". This is known as the parent class\n",
    "    def __init__(btype,name): #using constructor method \n",
    "#constructor method is called when an instance of the class is created, and it is used to set the initial state of the object\n",
    "        btype.name = name #giving a name to the type of battery called\n",
    "    def general(btype):\n",
    "        print(f\"These are electrochemical cells in action. They are also know as commercial cells.\")\n",
    "#for a general battery with no name specified, but called under the class \"batteries\", the above print statement will be printed"
   ]
  },
  {
   "cell_type": "code",
   "execution_count": 7,
   "id": "3c1430de",
   "metadata": {},
   "outputs": [],
   "source": [
    "#creating another class \"Mercurycell\" called the child class which is dereived from the parent class\n",
    "class Mercurycell(Batteries):\n",
    "    def __init__(btype,name):\n",
    "        super().__init__(name) #using super() function\n",
    "#the super() function is used to give access to methods and return objects from the parent class\n",
    "    def general(btype): #if the class of \"Mercurycell\" is called from the parent class \"Batteries\"\n",
    "        print(btype.name,f\"consists of a zinc-mercury amalgam as anode. The cathode is a paste of Mercuric oxideand carbon powder.\")"
   ]
  },
  {
   "cell_type": "code",
   "execution_count": 8,
   "id": "d4e8ad08",
   "metadata": {},
   "outputs": [],
   "source": [
    "a = Batteries('a battery')"
   ]
  },
  {
   "cell_type": "code",
   "execution_count": 9,
   "id": "9fe1b2e6",
   "metadata": {},
   "outputs": [
    {
     "name": "stdout",
     "output_type": "stream",
     "text": [
      "These are electrochemical cells in action. They are also know as commercial cells.\n"
     ]
    }
   ],
   "source": [
    "a.general()"
   ]
  },
  {
   "cell_type": "code",
   "execution_count": 10,
   "id": "ec2a4160",
   "metadata": {},
   "outputs": [],
   "source": [
    "b = Mercurycell(\"Mercury cell\")"
   ]
  },
  {
   "cell_type": "code",
   "execution_count": 11,
   "id": "b3e1069b",
   "metadata": {},
   "outputs": [
    {
     "name": "stdout",
     "output_type": "stream",
     "text": [
      "Mercury cell consists of a zinc-mercury amalgam as anode. The cathode is a paste of Mercuric oxideand carbon powder.\n"
     ]
    }
   ],
   "source": [
    "b.general()"
   ]
  }
 ],
 "metadata": {
  "kernelspec": {
   "display_name": "Python 3 (ipykernel)",
   "language": "python",
   "name": "python3"
  },
  "language_info": {
   "codemirror_mode": {
    "name": "ipython",
    "version": 3
   },
   "file_extension": ".py",
   "mimetype": "text/x-python",
   "name": "python",
   "nbconvert_exporter": "python",
   "pygments_lexer": "ipython3",
   "version": "3.11.2"
  }
 },
 "nbformat": 4,
 "nbformat_minor": 5
}
