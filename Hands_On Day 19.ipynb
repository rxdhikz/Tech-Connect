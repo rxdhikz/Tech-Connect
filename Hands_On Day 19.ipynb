{
 "cells": [
  {
   "cell_type": "code",
   "execution_count": 1,
   "id": "c220fb38",
   "metadata": {},
   "outputs": [],
   "source": [
    "#Iterators\n",
    "#An iterator is an object in python that allows us to look through a collection of items one by one at a time\n",
    "#An iterator iterates over an iterating object"
   ]
  },
  {
   "cell_type": "code",
   "execution_count": 2,
   "id": "cc5d35fb",
   "metadata": {},
   "outputs": [],
   "source": [
    "a_list = [14,5,2006] #creating a list of numbers"
   ]
  },
  {
   "cell_type": "code",
   "execution_count": 3,
   "id": "5f239741",
   "metadata": {},
   "outputs": [],
   "source": [
    "an_iter = iter(a_list) #iterating the list using iter() method"
   ]
  },
  {
   "cell_type": "code",
   "execution_count": 4,
   "id": "3e9b9379",
   "metadata": {},
   "outputs": [
    {
     "name": "stdout",
     "output_type": "stream",
     "text": [
      "14\n",
      "5\n",
      "2006\n"
     ]
    }
   ],
   "source": [
    "for num in an_iter: #printing the iterated list using for loop\n",
    "    print(num) #printing the number"
   ]
  },
  {
   "cell_type": "code",
   "execution_count": 5,
   "id": "a72174b1",
   "metadata": {},
   "outputs": [
    {
     "name": "stdout",
     "output_type": "stream",
     "text": [
      "14\n",
      "5\n",
      "2006\n"
     ]
    }
   ],
   "source": [
    "for i in a_list: #using for loop, for each number in the list 'a_list'\n",
    "    print(i) #printing the number"
   ]
  },
  {
   "cell_type": "code",
   "execution_count": 6,
   "id": "f1583e12",
   "metadata": {},
   "outputs": [],
   "source": [
    "blue = (\"RADHIKA\") #creating a string"
   ]
  },
  {
   "cell_type": "code",
   "execution_count": 7,
   "id": "42df05ea",
   "metadata": {},
   "outputs": [],
   "source": [
    "iterate_blue = iter(blue) #iterating the string"
   ]
  },
  {
   "cell_type": "code",
   "execution_count": 8,
   "id": "32cd1e91",
   "metadata": {},
   "outputs": [
    {
     "name": "stdout",
     "output_type": "stream",
     "text": [
      "R\n",
      "A\n",
      "D\n",
      "H\n",
      "I\n",
      "K\n",
      "A\n"
     ]
    }
   ],
   "source": [
    "for i in iterate_blue: #using for loop, printing the iterated string using for loop\n",
    "    print(i) #printing that string one after another"
   ]
  },
  {
   "cell_type": "code",
   "execution_count": 9,
   "id": "ee8a9b13",
   "metadata": {},
   "outputs": [
    {
     "name": "stdout",
     "output_type": "stream",
     "text": [
      "a\n",
      "b\n",
      "c\n",
      "d\n",
      "e\n"
     ]
    }
   ],
   "source": [
    "ap = [\"a\",\"b\",\"c\",\"d\",\"e\"] #creating a list with multiple strings\n",
    "for i in ap: #printing each string in the list using for loop\n",
    "    print(i) #printing each alphabet"
   ]
  },
  {
   "cell_type": "code",
   "execution_count": 10,
   "id": "13033990",
   "metadata": {},
   "outputs": [
    {
     "name": "stdout",
     "output_type": "stream",
     "text": [
      "abcde\n"
     ]
    }
   ],
   "source": [
    "s = [\"abcde\"] #a list with a single string is created\n",
    "iterateds = iter(s) #iterating the above list\n",
    "for i in iterateds: #printing the string from the iterated list using for loop\n",
    "    print(i) #printing the string"
   ]
  },
  {
   "cell_type": "code",
   "execution_count": 11,
   "id": "5ffb745d",
   "metadata": {},
   "outputs": [
    {
     "name": "stdout",
     "output_type": "stream",
     "text": [
      "w\n",
      "h\n",
      "i\n",
      "p\n",
      "p\n",
      "e\n",
      "d\n"
     ]
    }
   ],
   "source": [
    "cream = (\"whipped\") #a single string is being created\n",
    "iterated_cream = iter(cream) #iterating the string\n",
    "for c in iterated_cream: #printing each character in the iterated string using for loop\n",
    "    print(c) #printing those characters"
   ]
  },
  {
   "cell_type": "code",
   "execution_count": 12,
   "id": "5e55705e",
   "metadata": {},
   "outputs": [
    {
     "name": "stdout",
     "output_type": "stream",
     "text": [
      "RADS\n"
     ]
    }
   ],
   "source": [
    "me = [\"RADS\"] #a string inside a list is being created\n",
    "im = iter(me) #iterating the above list\n",
    "for i in im: #using for loop, printing the string inside the list\n",
    "    print(i) #printing the string"
   ]
  },
  {
   "cell_type": "code",
   "execution_count": 13,
   "id": "e679c3da",
   "metadata": {},
   "outputs": [],
   "source": [
    "a = \"ABCDEFGHIJKLMNOPQRSTUVWXYZ\" #initiating a string"
   ]
  },
  {
   "cell_type": "code",
   "execution_count": 14,
   "id": "d09a7e00",
   "metadata": {},
   "outputs": [],
   "source": [
    "a_iter = iter(a) #iterating the above string"
   ]
  },
  {
   "cell_type": "code",
   "execution_count": 15,
   "id": "5be89e3a",
   "metadata": {},
   "outputs": [
    {
     "name": "stdout",
     "output_type": "stream",
     "text": [
      "A\n",
      "B\n",
      "C\n",
      "D\n",
      "E\n",
      "F\n",
      "G\n",
      "H\n",
      "I\n",
      "J\n",
      "K\n",
      "L\n",
      "M\n",
      "N\n",
      "O\n",
      "P\n",
      "Q\n",
      "R\n",
      "S\n",
      "T\n",
      "U\n",
      "V\n",
      "W\n",
      "X\n",
      "Y\n",
      "Z\n"
     ]
    }
   ],
   "source": [
    "for i in a_iter: #using for loop and printing each character in the string\n",
    "    print(i) #printing each alphabet in the string"
   ]
  },
  {
   "cell_type": "code",
   "execution_count": 16,
   "id": "978f115e",
   "metadata": {},
   "outputs": [],
   "source": [
    "class my_own_iterator: #defining a class called my_own_iterator\n",
    "#defining a function in the class, using constructor method to create a cursor instance as shown below\n",
    "    def __init__(self,start_value,end_value):\n",
    "        self.start_value=start_value\n",
    "        self.end_value=end_value\n",
    "        \n",
    "    def __iter__(self): #using __iter__ method to return the iterator object, which is already an iterator\n",
    "        return self\n",
    "    \n",
    "    def __next__(self): #using next method to check conditions\n",
    "        if self.start_value<self.end_value: #checking if the entered start value is lesser than the entered end value\n",
    "            rezult=self.start_value #initialising a variable 'rezult' to be the start value, if the above condition is satisfied\n",
    "            self.start_value+=1 #adding 1 to the initialised start value\n",
    "            return rezult #printing the initialised variable\n",
    "        else: #if the 'if' condition isn't satisfied, then the program goes into the else statement\n",
    "            raise StopIteration #asking to stop the iteration\n",
    "\n",
    "#in this code, we do not use the 'break' statement in the else condition because 'break' statement just stops the code abruptly\n",
    "#but doesn't get out of the loop"
   ]
  },
  {
   "cell_type": "code",
   "execution_count": 17,
   "id": "829240a6",
   "metadata": {},
   "outputs": [],
   "source": [
    "a = my_own_iterator(2,17) #calling the class"
   ]
  },
  {
   "cell_type": "code",
   "execution_count": 18,
   "id": "e458e7c7",
   "metadata": {},
   "outputs": [
    {
     "name": "stdout",
     "output_type": "stream",
     "text": [
      "2\n",
      "3\n",
      "4\n",
      "5\n",
      "6\n",
      "7\n",
      "8\n",
      "9\n",
      "10\n",
      "11\n",
      "12\n",
      "13\n",
      "14\n",
      "15\n",
      "16\n"
     ]
    }
   ],
   "source": [
    "for i in a: #using for loop, for each number in that class\n",
    "    print(i) #printing each number"
   ]
  },
  {
   "cell_type": "code",
   "execution_count": 19,
   "id": "f87631c3",
   "metadata": {},
   "outputs": [],
   "source": [
    "class my_own_iterator: #defining a class called my_own_iterator\n",
    "#defining a function in the class, using constructor method to create a cursor instance as shown below\n",
    "    def __init__(self,start_value,end_value):\n",
    "        self.start_value=start_value\n",
    "        self.end_value=end_value\n",
    "        \n",
    "    def __iter__(self): #using __iter__ method to return the iterator object, which is already an iterator\n",
    "        return self\n",
    "    \n",
    "    def __next__(self): #using next method to check conditions\n",
    "        if self.start_value<self.end_value: #checking if the entered start value is lesser than the entered end value\n",
    "            rezult=self.start_value #initialising a variable 'rezult' to be the start value, if the above condition is satisfied\n",
    "            self.start_value+=1 #adding 1 to the initialised start value\n",
    "            return rezult #printing the initialised variable\n",
    "        else: #if the 'if' condition isn't satisfied, then the program goes into the else statement\n",
    "            raise StopIteration #asking to stop the iteration"
   ]
  },
  {
   "cell_type": "code",
   "execution_count": 20,
   "id": "fcad92cc",
   "metadata": {},
   "outputs": [],
   "source": [
    "q = my_own_iterator(5,20) #calling the class"
   ]
  },
  {
   "cell_type": "code",
   "execution_count": 21,
   "id": "e51a910a",
   "metadata": {},
   "outputs": [],
   "source": [
    "w = q.__iter__() #iterating the class and creating an object"
   ]
  },
  {
   "cell_type": "code",
   "execution_count": 22,
   "id": "09f8add2",
   "metadata": {},
   "outputs": [],
   "source": [
    "s = q.__next__() #accesing the next element after the iteration"
   ]
  },
  {
   "cell_type": "code",
   "execution_count": 23,
   "id": "c141a3d0",
   "metadata": {},
   "outputs": [
    {
     "data": {
      "text/plain": [
       "5"
      ]
     },
     "execution_count": 23,
     "metadata": {},
     "output_type": "execute_result"
    }
   ],
   "source": [
    "s #calling the value of 5"
   ]
  },
  {
   "cell_type": "code",
   "execution_count": 24,
   "id": "5754ae22",
   "metadata": {},
   "outputs": [
    {
     "name": "stdout",
     "output_type": "stream",
     "text": [
      "6\n",
      "7\n",
      "8\n",
      "9\n",
      "10\n",
      "11\n",
      "12\n",
      "13\n",
      "14\n",
      "15\n",
      "16\n",
      "17\n",
      "18\n",
      "19\n"
     ]
    }
   ],
   "source": [
    "for i in q: #using for loop, for the number in the iterating class 'q'\n",
    "    print(i) #printing that number"
   ]
  }
 ],
 "metadata": {
  "kernelspec": {
   "display_name": "Python 3 (ipykernel)",
   "language": "python",
   "name": "python3"
  },
  "language_info": {
   "codemirror_mode": {
    "name": "ipython",
    "version": 3
   },
   "file_extension": ".py",
   "mimetype": "text/x-python",
   "name": "python",
   "nbconvert_exporter": "python",
   "pygments_lexer": "ipython3",
   "version": "3.11.2"
  }
 },
 "nbformat": 4,
 "nbformat_minor": 5
}
