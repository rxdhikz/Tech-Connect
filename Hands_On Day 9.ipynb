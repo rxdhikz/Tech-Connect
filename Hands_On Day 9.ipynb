{
 "cells": [
  {
   "cell_type": "code",
   "execution_count": 1,
   "id": "440f9921",
   "metadata": {},
   "outputs": [],
   "source": [
    "#A To-Do List"
   ]
  },
  {
   "cell_type": "code",
   "execution_count": 2,
   "id": "ab46c090",
   "metadata": {},
   "outputs": [
    {
     "name": "stdout",
     "output_type": "stream",
     "text": [
      "Enter a to-do chore:\n"
     ]
    }
   ],
   "source": [
    "print(f'Enter a to-do chore:') #asking the user to enter a to-do chore"
   ]
  },
  {
   "cell_type": "code",
   "execution_count": 3,
   "id": "3ecce28b",
   "metadata": {},
   "outputs": [
    {
     "name": "stdout",
     "output_type": "stream",
     "text": [
      "Enter a to-do chore:\n",
      "wakie\n"
     ]
    },
    {
     "data": {
      "text/plain": [
       "'wakie'"
      ]
     },
     "execution_count": 3,
     "metadata": {},
     "output_type": "execute_result"
    }
   ],
   "source": [
    "print(f'Enter a to-do chore:') #asking the user to enter a to-do chore\n",
    "input() #asking the user for string input"
   ]
  },
  {
   "cell_type": "code",
   "execution_count": 4,
   "id": "0bff9484",
   "metadata": {},
   "outputs": [
    {
     "name": "stdout",
     "output_type": "stream",
     "text": [
      "Enter a to-do chore:\n",
      "wash clothes\n"
     ]
    }
   ],
   "source": [
    "print(f'Enter a to-do chore:') #asking the user to enter a to-do chore\n",
    "entry = input() #asking the user for string input"
   ]
  },
  {
   "cell_type": "code",
   "execution_count": 5,
   "id": "1f4ba050",
   "metadata": {},
   "outputs": [
    {
     "name": "stdout",
     "output_type": "stream",
     "text": [
      "wash clothes\n"
     ]
    }
   ],
   "source": [
    "print(entry) #printing the entry given by the user"
   ]
  },
  {
   "cell_type": "code",
   "execution_count": 6,
   "id": "94060868",
   "metadata": {},
   "outputs": [
    {
     "name": "stdout",
     "output_type": "stream",
     "text": [
      "Enter a to-do list: sleep\n"
     ]
    }
   ],
   "source": [
    "message = 'Enter a to-do list: ' #initialising a message\n",
    "entry = input(message) #asking the user to enter a to-do chore"
   ]
  },
  {
   "cell_type": "code",
   "execution_count": 7,
   "id": "fe32e6a4",
   "metadata": {},
   "outputs": [
    {
     "name": "stdout",
     "output_type": "stream",
     "text": [
      "Enter a to-do list: wakie\n",
      "Enter a to-do list: fresh up\n",
      "Enter a to-do list: eat\n",
      "Enter a to-do list: daydream\n"
     ]
    }
   ],
   "source": [
    "#List of To-Do Lists\n",
    "message = 'Enter a to-do list: ' #asking the user to enter a to-do list\n",
    "entry_1 = input(message) #asking them to enter 4 entries i.e., chores\n",
    "entry_2 = input(message)\n",
    "entry_3 = input(message)\n",
    "entry_4 = input(message)"
   ]
  },
  {
   "cell_type": "code",
   "execution_count": 8,
   "id": "e7a2140e",
   "metadata": {},
   "outputs": [
    {
     "name": "stdout",
     "output_type": "stream",
     "text": [
      "Enter a to-do list: wakie\n",
      "Enter a to-do list: fresh up\n",
      "Enter a to-do list: eat\n",
      "Enter a to-do list: daydream\n",
      "['wakie', 'fresh up', 'eat', 'daydream']\n"
     ]
    }
   ],
   "source": [
    "message = 'Enter a to-do list: ' #asking the user to enter a to-do list\n",
    "entry_1 = input(message) #asking them to enter 4 entries i.e., chores\n",
    "entry_2 = input(message)\n",
    "entry_3 = input(message)\n",
    "entry_4 = input(message)\n",
    "todos = [entry_1,entry_2,entry_3,entry_4] #making the 4 entries i.e., the to-do chores into a list\n",
    "print(todos) #printing the to-do list"
   ]
  },
  {
   "cell_type": "code",
   "execution_count": 9,
   "id": "622d8a44",
   "metadata": {
    "scrolled": true
   },
   "outputs": [
    {
     "name": "stdout",
     "output_type": "stream",
     "text": [
      "Enter a todo list: wonder\n",
      "wonder\n"
     ]
    }
   ],
   "source": [
    "msg = 'Enter a todo list: ' #asking the user to enter a to-do list\n",
    "while True: #using while loop, when the condition is satisfied\n",
    "    entrie = input(msg)\n",
    "    entries = [entrie]\n",
    "    break\n",
    "print(entrie)\n",
    "#this will be an infinte loop if the loop isn't closed"
   ]
  },
  {
   "cell_type": "code",
   "execution_count": 10,
   "id": "92a1be77",
   "metadata": {},
   "outputs": [
    {
     "name": "stdout",
     "output_type": "stream",
     "text": [
      "Enter a todo list: water plants\n",
      "['water plants']\n"
     ]
    }
   ],
   "source": [
    "msg = 'Enter a todo list: ' #asking the user to enter a to-do list\n",
    "tdl = [] #creating an empty list\n",
    "while True: #using while loop\n",
    "    entrie = input(msg) #asking the user to enter a to-do list\n",
    "    tdl.append(entrie) #appending the entire i.e., the to-do chore onto the empty list\n",
    "    print(tdl)\n",
    "    break"
   ]
  },
  {
   "cell_type": "code",
   "execution_count": 11,
   "id": "8809fbbd",
   "metadata": {},
   "outputs": [
    {
     "name": "stdout",
     "output_type": "stream",
     "text": [
      "Choose your option:\n",
      "1. Add\n",
      "2. Show\n",
      "3. Exit\n",
      "Enter your option:1\n",
      "Enter a To-do chore:water plants\n",
      "water plants  is appended.\n",
      "Do you want to continue?(y/n):y\n",
      "Choose your option:\n",
      "1. Add\n",
      "2. Show\n",
      "3. Exit\n",
      "Enter your option:1\n",
      "Enter a To-do chore:broom n mop\n",
      "broom n mop  is appended.\n",
      "Do you want to continue?(y/n):y\n",
      "Choose your option:\n",
      "1. Add\n",
      "2. Show\n",
      "3. Exit\n",
      "Enter your option:2\n",
      "['water plants', 'broom n mop']\n",
      "Do you want to continue?(y/n):y\n",
      "Choose your option:\n",
      "1. Add\n",
      "2. Show\n",
      "3. Exit\n",
      "Enter your option:3\n",
      "Here are your entries:\n",
      "['water plants', 'broom n mop']\n",
      "Thank you, come back again.\n"
     ]
    }
   ],
   "source": [
    "tdl = [] #initialising an empty list\n",
    "ans = 'y' #initialising ans='y'\n",
    "while ans == 'y': #using while loop\n",
    "    print(f\"Choose your option:\") #printing various options for the user to choose\n",
    "    print(f\"1. Add\")\n",
    "    print(f\"2. Show\")\n",
    "    print(f\"3. Exit\")\n",
    "    choice=input(\"Enter your option:\") #initialising a variable for the user to choose an option\n",
    "    if choice == '1': #if the option is to add\n",
    "        entrie = input(\"Enter a To-do chore:\") #asking the user to enter a to-do chore\n",
    "        tdl.append(entrie) #appending the to-do chore onto the list\n",
    "        print(entrie,f\" is appended.\")\n",
    "        ans = input(\"Do you want to continue?(y/n):\") #asking if the user would like to continue\n",
    "    if choice == '2': #if show is chosen\n",
    "        print(tdl) #printing the list\n",
    "        ans = input(\"Do you want to continue?(y/n):\") #asking if the user would like to continue\n",
    "    if choice == '3': #if exit is chosen\n",
    "        print(f\"Here are your entries:\") #printing this statement\n",
    "        print(tdl) #printing the list\n",
    "        print(f\"Thank you, come back again.\") #printing this statement\n",
    "        break #break statement\n",
    "#here, the loop will break only after printing the entries in your to-do list\n",
    "else: #else for while\n",
    "    print(f\"Okay, here are your To-do lists:\") #printing this statement\n",
    "    print(tdl) #printing the list"
   ]
  },
  {
   "cell_type": "code",
   "execution_count": 12,
   "id": "7882d9c0",
   "metadata": {},
   "outputs": [
    {
     "name": "stdout",
     "output_type": "stream",
     "text": [
      "Choose your option:\n",
      "1. Add\n",
      "2. Show\n",
      "3. Exit\n",
      "Enter your option:1\n",
      "Enter a To-do chore:wash clothes\n",
      "wash clothes  is appended.\n",
      "Would you like to continue(y/n): y\n",
      "Choose your option:\n",
      "1. Add\n",
      "2. Show\n",
      "3. Exit\n",
      "Enter your option:1\n",
      "Enter a To-do chore:organise stuff\n",
      "organise stuff  is appended.\n",
      "Would you like to continue(y/n): y\n",
      "Choose your option:\n",
      "1. Add\n",
      "2. Show\n",
      "3. Exit\n",
      "Enter your option:3\n",
      "Here are your entries:\n",
      "['wash clothes', 'organise stuff']\n",
      "Thank you, come back again.\n"
     ]
    }
   ],
   "source": [
    "tdl = [] #initialising an empty list\n",
    "ans = 'y' #initialisng ans = 'y'\n",
    "while ans == 'y': #while the above statement is true\n",
    "    print(f\"Choose your option:\") #printing various options for the user to choose\n",
    "    print(f\"1. Add\") #adding a chore\n",
    "    print(f\"2. Show\") #displaying the chore(s)\n",
    "    print(f\"3. Exit\") #exiting the program\n",
    "    choice = int(input(\"Enter your option:\")) #initialising a variable for the user to choose an option\n",
    "    if choice == 1: #if the option is to add\n",
    "        entrie = input(\"Enter a To-do chore:\") #asking the user to enter a to-do chore\n",
    "        tdl.append(entrie) #appending the to-do chore onto the list\n",
    "        print(entrie,f\" is appended.\") #printing this statement\n",
    "        ans = input(\"Would you like to continue(y/n): \") #asking the user if they would like to continue\n",
    "    elif choice == 2: #if show is chosen\n",
    "        print(tdl) #printing the list\n",
    "        ans = input(\"Would you like to continue(y/n): \") #asking the user if they would like to continue\n",
    "    else: #if the above statements aren't satisfied then\n",
    "        print(f\"Here are your entries:\") #printing the entries of the to-do list\n",
    "        print(tdl) #printing the list\n",
    "        print(f\"Thank you, come back again.\") #printing this statement\n",
    "        break #breaking the loop\n",
    "else: #else for while\n",
    "    print(f\"Here are your entries:\") #printing the entries of the to-do list\n",
    "    print(tdl) #printing the to-do list\n",
    "    print(f\"Thank You! Visit Again!\") #printing the closing statement"
   ]
  }
 ],
 "metadata": {
  "kernelspec": {
   "display_name": "Python 3 (ipykernel)",
   "language": "python",
   "name": "python3"
  },
  "language_info": {
   "codemirror_mode": {
    "name": "ipython",
    "version": 3
   },
   "file_extension": ".py",
   "mimetype": "text/x-python",
   "name": "python",
   "nbconvert_exporter": "python",
   "pygments_lexer": "ipython3",
   "version": "3.11.2"
  }
 },
 "nbformat": 4,
 "nbformat_minor": 5
}
