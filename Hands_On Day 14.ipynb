{
 "cells": [
  {
   "cell_type": "code",
   "execution_count": 1,
   "id": "3eb4a357",
   "metadata": {},
   "outputs": [],
   "source": [
    "#to find and list the number of prime numbers within a given range"
   ]
  },
  {
   "cell_type": "code",
   "execution_count": 2,
   "id": "7d9c8dac",
   "metadata": {},
   "outputs": [],
   "source": [
    "def prime(number): #defining a function to check if a number is prime or not\n",
    "    if number <= 1: #checking if the 'if' condition is satisfied\n",
    "        return False\n",
    "    if number >= 2: #checking if this condition is satisfied\n",
    "        v = number/2 #dividing the number in parameter by 2 and making that as our new variable\n",
    "        for i in range(2,int(v)+1): #using for loop, for a number between the range 2 and the previous variable number 'v'\n",
    "            if number%i == 0: #if the number is divisible\n",
    "                return False\n",
    "        return True"
   ]
  },
  {
   "cell_type": "code",
   "execution_count": 3,
   "id": "c00da996",
   "metadata": {},
   "outputs": [
    {
     "data": {
      "text/plain": [
       "True"
      ]
     },
     "execution_count": 3,
     "metadata": {},
     "output_type": "execute_result"
    }
   ],
   "source": [
    "prime(7) #calling the function to check if 7 is prime or not"
   ]
  },
  {
   "cell_type": "code",
   "execution_count": 4,
   "id": "81a3fffc",
   "metadata": {},
   "outputs": [
    {
     "data": {
      "text/plain": [
       "False"
      ]
     },
     "execution_count": 4,
     "metadata": {},
     "output_type": "execute_result"
    }
   ],
   "source": [
    "prime(24) #calling the function to check if 24 is prime or not"
   ]
  },
  {
   "cell_type": "code",
   "execution_count": 5,
   "id": "173c398b",
   "metadata": {},
   "outputs": [],
   "source": [
    "def prime_no(start,end): #defining a function to print prime numbers withing a given range\n",
    "    primes_lisht=[] #creating an empty list\n",
    "    for i in range(start,end+1): #using for loop, for the number between the starting and end +1 number\n",
    "        if prime(i): #if the number is prime\n",
    "            primes_lisht.append(i) #appending that number onto the empty list\n",
    "    return primes_lisht #returning that list"
   ]
  },
  {
   "cell_type": "code",
   "execution_count": 6,
   "id": "4e433292",
   "metadata": {},
   "outputs": [
    {
     "name": "stdout",
     "output_type": "stream",
     "text": [
      "2\n",
      "30\n"
     ]
    },
    {
     "data": {
      "text/plain": [
       "[2, 3, 5, 7, 11, 13, 17, 19, 23, 29]"
      ]
     },
     "execution_count": 6,
     "metadata": {},
     "output_type": "execute_result"
    }
   ],
   "source": [
    "start=int(input()) #asking the user to enter a number as input\n",
    "end=int(input()) #asking the user to enter a number as input\n",
    "prime_no(start,end) #calling the function to print prime numbers within this range"
   ]
  },
  {
   "cell_type": "code",
   "execution_count": 7,
   "id": "7175e1fd",
   "metadata": {},
   "outputs": [
    {
     "data": {
      "text/plain": [
       "[2, 3, 5, 7, 11, 13, 17, 19, 23, 29]"
      ]
     },
     "execution_count": 7,
     "metadata": {},
     "output_type": "execute_result"
    }
   ],
   "source": [
    "prime_no(2,30) #printing prime numbers between 2 and 30"
   ]
  },
  {
   "cell_type": "code",
   "execution_count": 8,
   "id": "70512717",
   "metadata": {},
   "outputs": [],
   "source": [
    "def display_primes(): #defining a function to display the prime numbers\n",
    "    start=int(input(\"Enter a number:  \")) #asking the user to enter a number from where prime numbers should be calculated\n",
    "    end=int(input(\"Enter a number: \")) #asking the user to enter a number until which prime numbers have to be printed\n",
    "    print(f\"The prime numbers between {start}and{end} is/are: {prime_no(start,end)}\")"
   ]
  },
  {
   "cell_type": "code",
   "execution_count": 9,
   "id": "1bcd4b2f",
   "metadata": {},
   "outputs": [
    {
     "name": "stdout",
     "output_type": "stream",
     "text": [
      "Enter a number:  2\n",
      "Enter a number: 50\n",
      "The prime numbers between 2and50 is/are: [2, 3, 5, 7, 11, 13, 17, 19, 23, 29, 31, 37, 41, 43, 47]\n"
     ]
    }
   ],
   "source": [
    "display_primes() #calling the function to show prime numbers"
   ]
  }
 ],
 "metadata": {
  "kernelspec": {
   "display_name": "Python 3 (ipykernel)",
   "language": "python",
   "name": "python3"
  },
  "language_info": {
   "codemirror_mode": {
    "name": "ipython",
    "version": 3
   },
   "file_extension": ".py",
   "mimetype": "text/x-python",
   "name": "python",
   "nbconvert_exporter": "python",
   "pygments_lexer": "ipython3",
   "version": "3.11.2"
  }
 },
 "nbformat": 4,
 "nbformat_minor": 5
}
