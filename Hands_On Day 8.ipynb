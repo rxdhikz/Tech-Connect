{
 "cells": [
  {
   "cell_type": "code",
   "execution_count": 1,
   "id": "172b3d31",
   "metadata": {},
   "outputs": [],
   "source": [
    "#tuples\n",
    "#tuples are immutable data types that have methods similar to that of lists\n",
    "#tuples are represented with parenthesis ()"
   ]
  },
  {
   "cell_type": "code",
   "execution_count": 2,
   "id": "ad1fdccb",
   "metadata": {},
   "outputs": [
    {
     "name": "stdout",
     "output_type": "stream",
     "text": [
      "1\n",
      "2\n",
      "3\n",
      "4\n",
      "5\n"
     ]
    }
   ],
   "source": [
    "numbers = (1,2,3,4,5) #initialising a tuple of numbers\n",
    "for number in numbers: #using for loop, for number in the 'numbers' tuple\n",
    "    print(number) #printing each number one after another"
   ]
  },
  {
   "cell_type": "code",
   "execution_count": 3,
   "id": "fe74ac69",
   "metadata": {},
   "outputs": [
    {
     "name": "stdout",
     "output_type": "stream",
     "text": [
      "1\n",
      "3\n",
      "6\n",
      "10\n",
      "15\n"
     ]
    }
   ],
   "source": [
    "nos = (1,2,3,4,5) #initialising a tuple of numbers\n",
    "summation =  0 #initialising summation = 0\n",
    "for number in nos: #using for loop, for each number in the 'nos' tuple\n",
    "    summation+=number #summation + number\n",
    "    print(summation) #printing the value of the summation"
   ]
  },
  {
   "cell_type": "code",
   "execution_count": 4,
   "id": "4dd8ae5d",
   "metadata": {},
   "outputs": [
    {
     "name": "stdout",
     "output_type": "stream",
     "text": [
      "d\n",
      "a\n",
      "r\n",
      "b\n",
      "o\n",
      "o\n",
      "s\n"
     ]
    }
   ],
   "source": [
    "# looping in a string\n",
    "for i in \"darboos\": #using for loop, for each character in the word 'darboos'\n",
    "    print(i) #printing that character one by one"
   ]
  },
  {
   "cell_type": "code",
   "execution_count": 5,
   "id": "4648b92f",
   "metadata": {},
   "outputs": [],
   "source": [
    "things = ['glasses','phone','books'] #a list of random items"
   ]
  },
  {
   "cell_type": "code",
   "execution_count": 6,
   "id": "68e8119c",
   "metadata": {},
   "outputs": [],
   "source": [
    "#break statement\n",
    "for i in things: #using for loop, for each element in the 'things' list\n",
    "    if i == 'glasses': #using if condition, checking if the element in the list is the same as glasses\n",
    "        break #if the condition is satisfied, break the loop\n",
    "    print(i) #printing the other elements in that list, until the if condition is satisfied"
   ]
  },
  {
   "cell_type": "code",
   "execution_count": 7,
   "id": "4675cad9",
   "metadata": {},
   "outputs": [
    {
     "name": "stdout",
     "output_type": "stream",
     "text": [
      "glasses\n",
      "phone\n"
     ]
    }
   ],
   "source": [
    "for i in things: #using for loop, for each element in the 'things' list\n",
    "    if i == 'books': #using if condition, checking if the element in the list is the same as books\n",
    "        break #if the condition is satisfied, break the loop\n",
    "    print(i) #printing the other elements in that list, until the if condition is satisfied"
   ]
  },
  {
   "cell_type": "code",
   "execution_count": 8,
   "id": "2b7404d3",
   "metadata": {},
   "outputs": [
    {
     "name": "stdout",
     "output_type": "stream",
     "text": [
      "glasses\n"
     ]
    }
   ],
   "source": [
    "for i in things: #using for loop, for each element in the 'things' list\n",
    "    if i == 'phone': #using if condition, checking if the element in the list is the same as phone\n",
    "        break #if the condition is satisfied, break the loop\n",
    "    print(i) #printing the other elements in that list, until the if condition is satisfied"
   ]
  },
  {
   "cell_type": "code",
   "execution_count": 9,
   "id": "a2570d98",
   "metadata": {},
   "outputs": [
    {
     "name": "stdout",
     "output_type": "stream",
     "text": [
      "glasses\n",
      "phone\n",
      "books\n"
     ]
    }
   ],
   "source": [
    "for i in things: #using for loop, for each element in the 'things' list\n",
    "    if i == 'lonavla': #using if condition, checking if the element in the list is the same as lonavla\n",
    "        break #if the condition is satisfied, break the loop\n",
    "    print(i) #printing the other elements in that list, until the if condition is satisfied"
   ]
  },
  {
   "cell_type": "code",
   "execution_count": 10,
   "id": "7084a0ce",
   "metadata": {},
   "outputs": [
    {
     "name": "stdout",
     "output_type": "stream",
     "text": [
      "phone\n",
      "books\n"
     ]
    }
   ],
   "source": [
    "#Continue statement\n",
    "for i in things: #using for loop, for each element in the 'things' list\n",
    "    if i =='glasses': #using if condition, checking if the element in the list is the same as glasses\n",
    "        continue #using the continue statement\n",
    "    print(i) #continuing to print the other elements"
   ]
  },
  {
   "cell_type": "code",
   "execution_count": 11,
   "id": "4f4e723b",
   "metadata": {},
   "outputs": [
    {
     "name": "stdout",
     "output_type": "stream",
     "text": [
      "0\n",
      "1\n",
      "2\n",
      "3\n",
      "4\n",
      "5\n",
      "6\n",
      "7\n",
      "8\n",
      "9\n"
     ]
    }
   ],
   "source": [
    "for e in range(10): #using for loop, for numbers in range of 10\n",
    "    print(e) #prints every number below 10 one after another"
   ]
  },
  {
   "cell_type": "code",
   "execution_count": 12,
   "id": "d516ed91",
   "metadata": {},
   "outputs": [
    {
     "name": "stdout",
     "output_type": "stream",
     "text": [
      "1\n",
      "2\n",
      "3\n",
      "4\n",
      "5\n",
      "6\n",
      "7\n",
      "8\n",
      "9\n"
     ]
    }
   ],
   "source": [
    "for e in range(1,10): #using for loop, for numbers between the range of 1 and 10\n",
    "    print(e) #prints every number below 10 one after another"
   ]
  },
  {
   "cell_type": "code",
   "execution_count": 13,
   "id": "b9beae0e",
   "metadata": {},
   "outputs": [],
   "source": [
    "#defining a function to add two numbers and find their sum\n",
    "def add(a,b): #defining a function 'add' with its parameters as a,b\n",
    "    sum = a+b #initiating sum of the 2 numbers\n",
    "    return sum #return the sum from the above line"
   ]
  },
  {
   "cell_type": "code",
   "execution_count": 14,
   "id": "18007b89",
   "metadata": {},
   "outputs": [
    {
     "data": {
      "text/plain": [
       "34"
      ]
     },
     "execution_count": 14,
     "metadata": {},
     "output_type": "execute_result"
    }
   ],
   "source": [
    "add(14,20) #calling the function add with 14 and 20 as its parameters"
   ]
  },
  {
   "cell_type": "code",
   "execution_count": 15,
   "id": "3220fe8f",
   "metadata": {},
   "outputs": [
    {
     "name": "stdout",
     "output_type": "stream",
     "text": [
      "109\n"
     ]
    }
   ],
   "source": [
    "a = 64 #giving an integer value to the variable\n",
    "b = 45 #giving an integer value to the variable\n",
    "c = a+b #adding the two numbers and making that as our new variable\n",
    "print(c) #printing the sum of the 2 numbers"
   ]
  },
  {
   "cell_type": "code",
   "execution_count": 16,
   "id": "6efd8da9",
   "metadata": {},
   "outputs": [
    {
     "name": "stdout",
     "output_type": "stream",
     "text": [
      "12\n",
      "4\n",
      "16\n"
     ]
    }
   ],
   "source": [
    "a = int(input()) #asking the user to enter an integer as input\n",
    "b = int(input()) #asking the user to enter an integer as input\n",
    "c = a+b #adding the two numbers and making that as our new variable\n",
    "print(c) #printing the sum of the 2 numbers"
   ]
  },
  {
   "cell_type": "code",
   "execution_count": 17,
   "id": "11392e47",
   "metadata": {},
   "outputs": [],
   "source": [
    "def prime_no(beginning,end): #defining a function 'prime_no' with its parameters as beginning and end\n",
    "    primes_lisht = [] #creating an empty list\n",
    "#using for loop, for number between the range of the beginning number and +1 of the end number\n",
    "    for num in range(beginning,end+1):\n",
    "        if num > 1: #checking if the number is greater than 1\n",
    "#using for loop, if this new number is between the range of 2 and the number greater than 1 itself\n",
    "            for i in range(2,num):\n",
    "                if (num%i) == 0: #check if this 'if' condition is satisfied\n",
    "                    break #using the break statement to break the loop\n",
    "            else: #if the 'if' condition isn't satisfied\n",
    "                primes_lisht.append(num) #appending the number onto the empty list\n",
    "    return primes_lisht #returning the empty list but now with elements on it"
   ]
  },
  {
   "cell_type": "code",
   "execution_count": 18,
   "id": "6a4aea45",
   "metadata": {},
   "outputs": [
    {
     "data": {
      "text/plain": [
       "[2, 3, 5, 7, 11, 13, 17, 19, 23, 29]"
      ]
     },
     "execution_count": 18,
     "metadata": {},
     "output_type": "execute_result"
    }
   ],
   "source": [
    "prime_no(1,30) #calling the function with 2 parameters"
   ]
  },
  {
   "cell_type": "code",
   "execution_count": 19,
   "id": "5ec6c6dc",
   "metadata": {},
   "outputs": [
    {
     "data": {
      "text/plain": [
       "[2,\n",
       " 3,\n",
       " 5,\n",
       " 7,\n",
       " 11,\n",
       " 13,\n",
       " 17,\n",
       " 19,\n",
       " 23,\n",
       " 29,\n",
       " 31,\n",
       " 37,\n",
       " 41,\n",
       " 43,\n",
       " 47,\n",
       " 53,\n",
       " 59,\n",
       " 61,\n",
       " 67,\n",
       " 71,\n",
       " 73,\n",
       " 79,\n",
       " 83,\n",
       " 89,\n",
       " 97]"
      ]
     },
     "execution_count": 19,
     "metadata": {},
     "output_type": "execute_result"
    }
   ],
   "source": [
    "prime_no(1,100) #calculating prime numbers from 1 to 100 with the help of the defined function"
   ]
  },
  {
   "cell_type": "code",
   "execution_count": 20,
   "id": "b98458f1",
   "metadata": {},
   "outputs": [],
   "source": [
    "#defining a function to multiply 2 numbers\n",
    "def multiplication(x,y): #creating a function 'multiplication' with x and y as its parameters\n",
    "    product = x*y  #calculating the product of the 2 numbers by multiplying them\n",
    "    print(f'The product of',x,f'and',y,f'is',product) #printing the product"
   ]
  },
  {
   "cell_type": "code",
   "execution_count": 21,
   "id": "6e82ee2f",
   "metadata": {},
   "outputs": [
    {
     "name": "stdout",
     "output_type": "stream",
     "text": [
      "The product of 9 and 4 is 36\n"
     ]
    }
   ],
   "source": [
    "multiplication(9,4) #calling the function and calculating the product of the 2 numbers"
   ]
  },
  {
   "cell_type": "code",
   "execution_count": 22,
   "id": "18df1fba",
   "metadata": {},
   "outputs": [
    {
     "name": "stdout",
     "output_type": "stream",
     "text": [
      "The sum of the given numbers is: 16\n"
     ]
    }
   ],
   "source": [
    "#defining a function defenition to add 2 numbers\n",
    "def add(w,x): #creating a function to add 2 numbers by giving them as parameters\n",
    "    sum = a+b #adding the 2 numbers\n",
    "    print(f'The sum of the given numbers is:',sum) #printing the sum\n",
    "add(6,97) #calling the function to add the 2 numbers"
   ]
  },
  {
   "cell_type": "code",
   "execution_count": 23,
   "id": "2bff0150",
   "metadata": {},
   "outputs": [],
   "source": [
    "#defining a function defenition to find the difference between 2 numbers\n",
    "def difference(r,s):\n",
    "    if r>s: #if r is greater than s, this if statement will get executed\n",
    "        d1=r-s #subtracting the 2nd number from the 1st\n",
    "        print(f'The diference of the two numbers is:',d1) #printing the difference\n",
    "    if s>r: #if s is greater than r, then this statement will get executed\n",
    "        d2=s-r #subtracting the 1st number from the 2nd\n",
    "        print(f'The diference of the two numbers is:',d2) #printing the difference\n",
    "    else:\n",
    "        print(f\"Both the numbers are equal.\") #printing this statement\n",
    "        print(f\"Their difference is zero.\") #printing this statement"
   ]
  },
  {
   "cell_type": "code",
   "execution_count": 24,
   "id": "61ebd93c",
   "metadata": {},
   "outputs": [
    {
     "name": "stdout",
     "output_type": "stream",
     "text": [
      "The diference of the two numbers is: 4\n"
     ]
    }
   ],
   "source": [
    "difference(2,6) #calling the function to find the difference"
   ]
  }
 ],
 "metadata": {
  "kernelspec": {
   "display_name": "Python 3 (ipykernel)",
   "language": "python",
   "name": "python3"
  },
  "language_info": {
   "codemirror_mode": {
    "name": "ipython",
    "version": 3
   },
   "file_extension": ".py",
   "mimetype": "text/x-python",
   "name": "python",
   "nbconvert_exporter": "python",
   "pygments_lexer": "ipython3",
   "version": "3.11.2"
  }
 },
 "nbformat": 4,
 "nbformat_minor": 5
}
