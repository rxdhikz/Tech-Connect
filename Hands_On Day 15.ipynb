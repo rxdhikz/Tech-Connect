{
 "cells": [
  {
   "cell_type": "code",
   "execution_count": 1,
   "id": "86791d53",
   "metadata": {},
   "outputs": [],
   "source": [
    "#Arrays: they are a special variable that can contain more than one data type at a particular time.\n",
    "#They are a collection of elements that are stored in a aprticular order"
   ]
  },
  {
   "cell_type": "code",
   "execution_count": 2,
   "id": "93d3f0e1",
   "metadata": {},
   "outputs": [],
   "source": [
    "jo_songs = ['sleep','bad news','everybody wants you','all the things that could go wrong'] #a lsit of songs"
   ]
  },
  {
   "cell_type": "code",
   "execution_count": 3,
   "id": "38cd6598",
   "metadata": {},
   "outputs": [
    {
     "data": {
      "text/plain": [
       "list"
      ]
     },
     "execution_count": 3,
     "metadata": {},
     "output_type": "execute_result"
    }
   ],
   "source": [
    "type(jo_songs) #findint the type of 'jo_songs'"
   ]
  },
  {
   "cell_type": "code",
   "execution_count": 4,
   "id": "14c46a5f",
   "metadata": {},
   "outputs": [
    {
     "data": {
      "text/plain": [
       "'sleep'"
      ]
     },
     "execution_count": 4,
     "metadata": {},
     "output_type": "execute_result"
    }
   ],
   "source": [
    "jo_songs[0] #the 0th index of the list"
   ]
  },
  {
   "cell_type": "code",
   "execution_count": 5,
   "id": "405bbe3c",
   "metadata": {},
   "outputs": [],
   "source": [
    "import array #importing arrays"
   ]
  },
  {
   "cell_type": "code",
   "execution_count": 6,
   "id": "3b1be65d",
   "metadata": {},
   "outputs": [],
   "source": [
    "#initialsising a variable numbers and converting that into an array\n",
    "#here, these arrays work similar to that of lists\n",
    "# i stands for integers, f stands for float, d stands for double precision floating point numbers\n",
    "numbers = array.array('i',[1,2,3,4,5,6,7,8,9,0])"
   ]
  },
  {
   "cell_type": "code",
   "execution_count": 7,
   "id": "ebeb74eb",
   "metadata": {},
   "outputs": [
    {
     "data": {
      "text/plain": [
       "1"
      ]
     },
     "execution_count": 7,
     "metadata": {},
     "output_type": "execute_result"
    }
   ],
   "source": [
    "numbers[0] #printing using the index value"
   ]
  },
  {
   "cell_type": "code",
   "execution_count": 8,
   "id": "e3d562f0",
   "metadata": {},
   "outputs": [],
   "source": [
    "import array #importing arrays\n",
    "import random #importing random"
   ]
  },
  {
   "cell_type": "code",
   "execution_count": 9,
   "id": "02e98fff",
   "metadata": {},
   "outputs": [],
   "source": [
    "#initialising a variable of random numbers as integers from 0 to 100\n",
    "random_nos = array.array('i',[random.randint(0,100) for i in range(0,100)])"
   ]
  },
  {
   "cell_type": "code",
   "execution_count": 10,
   "id": "79f2a868",
   "metadata": {},
   "outputs": [
    {
     "data": {
      "text/plain": [
       "array('i', [45, 31, 77, 65, 88, 11, 44, 44, 63, 21, 83, 74, 39, 69, 65, 94, 71, 29, 2, 36, 87, 72, 6, 78, 32, 51, 73, 80, 5, 18, 98, 78, 67, 46, 71, 40, 56, 43, 81, 90, 91, 62, 54, 32, 28, 82, 2, 56, 70, 95, 28, 75, 28, 95, 14, 73, 1, 84, 39, 91, 41, 11, 47, 12, 54, 71, 56, 2, 31, 34, 43, 89, 3, 34, 48, 77, 94, 7, 58, 3, 31, 2, 82, 22, 21, 63, 40, 87, 25, 51, 12, 20, 74, 99, 65, 95, 0, 18, 62, 16])"
      ]
     },
     "execution_count": 10,
     "metadata": {},
     "output_type": "execute_result"
    }
   ],
   "source": [
    "random_nos #consists of random numbers within the range 0 to 100"
   ]
  },
  {
   "cell_type": "code",
   "execution_count": 11,
   "id": "980cf0fc",
   "metadata": {},
   "outputs": [],
   "source": [
    "a = sorted(random_nos) #sorting the random numbers in ascending order"
   ]
  },
  {
   "cell_type": "code",
   "execution_count": 12,
   "id": "6183b603",
   "metadata": {},
   "outputs": [
    {
     "name": "stdout",
     "output_type": "stream",
     "text": [
      "[0, 1, 2, 2, 2, 2, 3, 3, 5, 6, 7, 11, 11, 12, 12, 14, 16, 18, 18, 20, 21, 21, 22, 25, 28, 28, 28, 29, 31, 31, 31, 32, 32, 34, 34, 36, 39, 39, 40, 40, 41, 43, 43, 44, 44, 45, 46, 47, 48, 51, 51, 54, 54, 56, 56, 56, 58, 62, 62, 63, 63, 65, 65, 65, 67, 69, 70, 71, 71, 71, 72, 73, 73, 74, 74, 75, 77, 77, 78, 78, 80, 81, 82, 82, 83, 84, 87, 87, 88, 89, 90, 91, 91, 94, 94, 95, 95, 95, 98, 99] "
     ]
    }
   ],
   "source": [
    "print(a, end=' ') #printing the random numbers in a sorted order"
   ]
  },
  {
   "cell_type": "code",
   "execution_count": 13,
   "id": "3fb513fc",
   "metadata": {},
   "outputs": [],
   "source": [
    "b = type(a) #checking the datatype of variable a"
   ]
  },
  {
   "cell_type": "code",
   "execution_count": 14,
   "id": "a8b1c7f0",
   "metadata": {},
   "outputs": [
    {
     "data": {
      "text/plain": [
       "list"
      ]
     },
     "execution_count": 14,
     "metadata": {},
     "output_type": "execute_result"
    }
   ],
   "source": [
    "b #printing the type of the variable 'b'"
   ]
  },
  {
   "cell_type": "code",
   "execution_count": 15,
   "id": "ad395a31",
   "metadata": {},
   "outputs": [],
   "source": [
    "a.reverse() #since a is of the list dataype we can use the list.reverse() method to sort the numbers in descending order"
   ]
  },
  {
   "cell_type": "code",
   "execution_count": 16,
   "id": "7441f14a",
   "metadata": {
    "scrolled": true
   },
   "outputs": [
    {
     "name": "stdout",
     "output_type": "stream",
     "text": [
      "[99, 98, 95, 95, 95, 94, 94, 91, 91, 90, 89, 88, 87, 87, 84, 83, 82, 82, 81, 80, 78, 78, 77, 77, 75, 74, 74, 73, 73, 72, 71, 71, 71, 70, 69, 67, 65, 65, 65, 63, 63, 62, 62, 58, 56, 56, 56, 54, 54, 51, 51, 48, 47, 46, 45, 44, 44, 43, 43, 41, 40, 40, 39, 39, 36, 34, 34, 32, 32, 31, 31, 31, 29, 28, 28, 28, 25, 22, 21, 21, 20, 18, 18, 16, 14, 12, 12, 11, 11, 7, 6, 5, 3, 3, 2, 2, 2, 2, 1, 0]\n"
     ]
    }
   ],
   "source": [
    "print(a) #if we print a now, we will get the numbers sorted in descending order"
   ]
  }
 ],
 "metadata": {
  "kernelspec": {
   "display_name": "Python 3 (ipykernel)",
   "language": "python",
   "name": "python3"
  },
  "language_info": {
   "codemirror_mode": {
    "name": "ipython",
    "version": 3
   },
   "file_extension": ".py",
   "mimetype": "text/x-python",
   "name": "python",
   "nbconvert_exporter": "python",
   "pygments_lexer": "ipython3",
   "version": "3.11.2"
  }
 },
 "nbformat": 4,
 "nbformat_minor": 5
}
