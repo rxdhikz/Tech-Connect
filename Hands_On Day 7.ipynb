{
 "cells": [
  {
   "cell_type": "code",
   "execution_count": 1,
   "id": "62ba1ff7",
   "metadata": {},
   "outputs": [],
   "source": [
    "#while loops\n",
    "#the while loop will only work if the condition mentioned after while is satisfied\n",
    "#if it is satisfied, it will execute the queries and statements inside the while loop"
   ]
  },
  {
   "cell_type": "code",
   "execution_count": 2,
   "id": "38a09e33",
   "metadata": {},
   "outputs": [
    {
     "name": "stdout",
     "output_type": "stream",
     "text": [
      "0\n",
      "1\n",
      "2\n",
      "3\n",
      "4\n",
      "5\n",
      "6\n",
      "7\n",
      "8\n",
      "9\n"
     ]
    }
   ],
   "source": [
    "#in this program we are printing numbers less than 10, starting from 0\n",
    "huh = 0 #here, we are initiating a variable 'huh' and equating it to zero\n",
    "while huh<10: #using while loop\n",
    "    print(huh) #printing the statement accordingly\n",
    "    huh += 1 #huh +1\n",
    "#in the above code, we check for the values of the variable 'huh' until it is below 10, once the variable becomes 10, the loop\n",
    "#will stop and print everything before it"
   ]
  },
  {
   "cell_type": "code",
   "execution_count": 3,
   "id": "cd30a930",
   "metadata": {},
   "outputs": [],
   "source": [
    "#break statement\n",
    "#a break statement is used to stop a loop and continue with the rest of the code in a program\n",
    "#it skips the conditions after the break statement inside a loop and proceeds to execute and perform actions outside the loop"
   ]
  },
  {
   "cell_type": "code",
   "execution_count": 4,
   "id": "af09c1ab",
   "metadata": {},
   "outputs": [
    {
     "name": "stdout",
     "output_type": "stream",
     "text": [
      "0\n",
      "1\n",
      "2\n",
      "3\n",
      "4\n",
      "5\n",
      "6\n"
     ]
    }
   ],
   "source": [
    "#to print numbers from 0 to 6\n",
    "hm = 0 #initialising huh = 0\n",
    "while hm<10: #using while loop,until 'huh' \n",
    "    print(hm) #printing the statement accordingly\n",
    "    if (hm==6): #using if, checking if the condition is satisfied\n",
    "        break #using break statement, breaking the loop\n",
    "    hm += 1 #hm +1"
   ]
  },
  {
   "cell_type": "code",
   "execution_count": 5,
   "id": "f6371801",
   "metadata": {},
   "outputs": [
    {
     "name": "stdout",
     "output_type": "stream",
     "text": [
      "0\n",
      "1\n",
      "2\n",
      "3\n",
      "4\n",
      "5\n"
     ]
    }
   ],
   "source": [
    "#to print numbers less than 10 but break when the number reaches 6\n",
    "hm = 0 #initialising hm = 0\n",
    "while hm<10: #using while loop, while hm is lesser than 10\n",
    "    print(hm) #printing the value of hm\n",
    "    hm+=1 #adding +1 to hm\n",
    "    if (hm==6): #using if, checking the condition\n",
    "        break #breaking the loop using break statement"
   ]
  },
  {
   "cell_type": "code",
   "execution_count": 6,
   "id": "bfc0af06",
   "metadata": {},
   "outputs": [
    {
     "name": "stdout",
     "output_type": "stream",
     "text": [
      "0\n",
      "1\n",
      "2\n",
      "3\n",
      "4\n",
      "5\n",
      "6\n",
      "7\n",
      "8\n",
      "9\n",
      "Neenga ketadha dhaan naa printinein po\n"
     ]
    }
   ],
   "source": [
    "#to print the positive numbers from 0 to 10 using while-else\n",
    "hm = 0 #initialising hm = 0\n",
    "while hm<10: #using while loop, while the value of hm  is lesser than 10\n",
    "    print(hm) #printing the value of hm\n",
    "    hm+=1 #adding +1 to hm\n",
    "else: #if the 'if' condition isn't satisfied\n",
    "    print(f\"Neenga ketadha dhaan naa printinein po\") #printing the statement accordingly"
   ]
  },
  {
   "cell_type": "code",
   "execution_count": 7,
   "id": "e8188a16",
   "metadata": {},
   "outputs": [
    {
     "name": "stdout",
     "output_type": "stream",
     "text": [
      "3\n",
      "2\n",
      "1\n",
      "0\n"
     ]
    }
   ],
   "source": [
    "#this program prints numbers until it is equal to zero\n",
    "hmp = int(input()) #asking the user for an integer input\n",
    "while hmp > 0: #using while loop, while the value of hmp is greater than zero\n",
    "    hmp-=1 #hmp -1\n",
    "    print(hmp) #printing the value of hmp"
   ]
  },
  {
   "cell_type": "code",
   "execution_count": 8,
   "id": "3187ac4b",
   "metadata": {},
   "outputs": [],
   "source": [
    "shapes = ['heart','triangle','circle'] #creating a list of shapes"
   ]
  },
  {
   "cell_type": "code",
   "execution_count": 9,
   "id": "a1aae30f",
   "metadata": {
    "scrolled": true
   },
   "outputs": [
    {
     "name": "stdout",
     "output_type": "stream",
     "text": [
      "circle\n",
      "triangle\n",
      "heart\n"
     ]
    }
   ],
   "source": [
    "while shapes: #using while loop, if the condition for while is true\n",
    "    print(shapes.pop(-1)) #popping out an element from a list and printing them"
   ]
  },
  {
   "cell_type": "code",
   "execution_count": 10,
   "id": "4f820cfb",
   "metadata": {},
   "outputs": [
    {
     "data": {
      "text/plain": [
       "[]"
      ]
     },
     "execution_count": 10,
     "metadata": {},
     "output_type": "execute_result"
    }
   ],
   "source": [
    "shapes #displaying the list after popping out all the elements from it"
   ]
  },
  {
   "cell_type": "code",
   "execution_count": 11,
   "id": "db582781",
   "metadata": {},
   "outputs": [],
   "source": [
    "shapes = ['heart','triangle','circle'] #a list of shapes"
   ]
  },
  {
   "cell_type": "code",
   "execution_count": 12,
   "id": "bf25efc2",
   "metadata": {},
   "outputs": [
    {
     "name": "stdout",
     "output_type": "stream",
     "text": [
      "circle\n"
     ]
    }
   ],
   "source": [
    "while shapes: #using while loop, if the condition for while is satisfied\n",
    "    print(shapes.pop(-1)) #popping the last element from the list, printing that element and breaking the loop\n",
    "    break #using break statement, breaking the loop"
   ]
  },
  {
   "cell_type": "code",
   "execution_count": 13,
   "id": "4b145bc9",
   "metadata": {},
   "outputs": [
    {
     "data": {
      "text/plain": [
       "['heart', 'triangle']"
      ]
     },
     "execution_count": 13,
     "metadata": {},
     "output_type": "execute_result"
    }
   ],
   "source": [
    "shapes #printing the list 'shapes' after an element has been popped out from it"
   ]
  },
  {
   "cell_type": "code",
   "execution_count": 14,
   "id": "8ff72057",
   "metadata": {},
   "outputs": [
    {
     "name": "stdout",
     "output_type": "stream",
     "text": [
      "triangle\n"
     ]
    }
   ],
   "source": [
    "while shapes: #using while loop, if the condition for while is satisfied\n",
    "    print(shapes.pop(-1)) #popping the last element from the list, printing that element and breaking the loop\n",
    "    break #using break statement, breaking the loop"
   ]
  },
  {
   "cell_type": "code",
   "execution_count": 15,
   "id": "4cd9791b",
   "metadata": {},
   "outputs": [
    {
     "data": {
      "text/plain": [
       "['heart']"
      ]
     },
     "execution_count": 15,
     "metadata": {},
     "output_type": "execute_result"
    }
   ],
   "source": [
    "shapes #printing the list 'shapes' after an element has been popped out from it"
   ]
  },
  {
   "cell_type": "code",
   "execution_count": 16,
   "id": "1d109749",
   "metadata": {},
   "outputs": [
    {
     "name": "stdout",
     "output_type": "stream",
     "text": [
      "heart\n"
     ]
    }
   ],
   "source": [
    "while shapes: #using while loop, if the condition for while is satisfied\n",
    "    print(shapes.pop(-1)) #popping the last element from the list, printing that element and breaking the loop\n",
    "    break #using break statement, breaking the loop"
   ]
  },
  {
   "cell_type": "code",
   "execution_count": 17,
   "id": "9ddec10f",
   "metadata": {},
   "outputs": [
    {
     "data": {
      "text/plain": [
       "[]"
      ]
     },
     "execution_count": 17,
     "metadata": {},
     "output_type": "execute_result"
    }
   ],
   "source": [
    "shapes #printing the list 'shapes' after an element has been popped out from it"
   ]
  }
 ],
 "metadata": {
  "kernelspec": {
   "display_name": "Python 3 (ipykernel)",
   "language": "python",
   "name": "python3"
  },
  "language_info": {
   "codemirror_mode": {
    "name": "ipython",
    "version": 3
   },
   "file_extension": ".py",
   "mimetype": "text/x-python",
   "name": "python",
   "nbconvert_exporter": "python",
   "pygments_lexer": "ipython3",
   "version": "3.11.2"
  }
 },
 "nbformat": 4,
 "nbformat_minor": 5
}
