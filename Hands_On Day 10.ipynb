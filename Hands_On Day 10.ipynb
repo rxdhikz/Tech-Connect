{
 "cells": [
  {
   "cell_type": "code",
   "execution_count": 1,
   "id": "7ed70b9f",
   "metadata": {},
   "outputs": [],
   "source": [
    "# GROCERY LIST MANAGER"
   ]
  },
  {
   "cell_type": "code",
   "execution_count": 2,
   "id": "e9643b8a",
   "metadata": {},
   "outputs": [],
   "source": [
    "grocery_lisht={} #initialising an empty dicitionary"
   ]
  },
  {
   "cell_type": "code",
   "execution_count": 3,
   "id": "8d94f761",
   "metadata": {},
   "outputs": [],
   "source": [
    "#defining a function to add items into the grocery list\n",
    "def add_grocery_thing(thing,qty): #taking the parameters as thing and quantitiy\n",
    "    if thing in grocery_lisht: #checking if the item exists in the grocery list\n",
    "        grocery_lisht[thing] += qty #adding the quantity for the item in the grocery list\n",
    "    else: #if the item doesn't exist in the grocery list\n",
    "        grocery_lisht[thing] = qty #adding the item onto the grocery list with the mentioned quantity\n",
    "    print(qty,thing,f'is/are added to your grocery list.')"
   ]
  },
  {
   "cell_type": "code",
   "execution_count": 4,
   "id": "c98ad21b",
   "metadata": {},
   "outputs": [],
   "source": [
    "#defining a function to remove an item from the grocery list\n",
    "def remove_grocery_thing(thing,qty): #taking the arguments to be item and quantity\n",
    "    if thing in grocery_lisht: #checking if the item exists in the grocery list\n",
    "#checking if the mentioned quantity is lesser than the quantity that already exists in the grocery list\n",
    "        if grocery_lisht[thing] >= qty:\n",
    "            grocery_lisht[thing] -= qty #subtracting the quantity from the existing quantity\n",
    "            print(qty,thing,f'is removed from your list.')\n",
    "        else: #if the mentioned quantity is greater\n",
    "            del grocery_lisht[thing] #deleting the item from the grocery list\n",
    "            print(thing,f'is removed from your list.')\n",
    "    else: #if the item doesn't exist in the grocery list\n",
    "        print(f\"The item you searched doesn't exist in your grocery list.\")"
   ]
  },
  {
   "cell_type": "code",
   "execution_count": 5,
   "id": "817fbff2",
   "metadata": {},
   "outputs": [],
   "source": [
    "#defining a function to display the grocery list\n",
    "def display_lisht():\n",
    "    cont = 'y' #initalising a variable cont='y'\n",
    "    if cont == 'y' or cont == 'Y': #if the condition is satisfied\n",
    "        print(f\"Your Grocery List:\")\n",
    "        print(grocery_lisht) #printing the grocery list\n",
    "    else:\n",
    "        print(f\"Thank You!\")"
   ]
  },
  {
   "cell_type": "code",
   "execution_count": 6,
   "id": "d524e919",
   "metadata": {},
   "outputs": [
    {
     "name": "stdout",
     "output_type": "stream",
     "text": [
      "1 kg carrots is/are added to your grocery list.\n"
     ]
    }
   ],
   "source": [
    "add_grocery_thing(\"kg carrots\",1)"
   ]
  },
  {
   "cell_type": "code",
   "execution_count": 7,
   "id": "8b5a2e25",
   "metadata": {},
   "outputs": [
    {
     "name": "stdout",
     "output_type": "stream",
     "text": [
      "4 baloons is/are added to your grocery list.\n"
     ]
    }
   ],
   "source": [
    "add_grocery_thing('baloons',4)"
   ]
  },
  {
   "cell_type": "code",
   "execution_count": 8,
   "id": "7c12f617",
   "metadata": {},
   "outputs": [
    {
     "name": "stdout",
     "output_type": "stream",
     "text": [
      "3 bottles of milkshakes is/are added to your grocery list.\n"
     ]
    }
   ],
   "source": [
    "add_grocery_thing('bottles of milkshakes',3)"
   ]
  },
  {
   "cell_type": "code",
   "execution_count": 9,
   "id": "a147b59b",
   "metadata": {},
   "outputs": [
    {
     "name": "stdout",
     "output_type": "stream",
     "text": [
      "1 kg ladies finger is/are added to your grocery list.\n"
     ]
    }
   ],
   "source": [
    "add_grocery_thing(\"kg ladies finger\",1)"
   ]
  },
  {
   "cell_type": "code",
   "execution_count": 10,
   "id": "ee392142",
   "metadata": {},
   "outputs": [
    {
     "name": "stdout",
     "output_type": "stream",
     "text": [
      "1 kg brinjal is/are added to your grocery list.\n"
     ]
    }
   ],
   "source": [
    "add_grocery_thing(\"kg brinjal\",1)"
   ]
  },
  {
   "cell_type": "code",
   "execution_count": 11,
   "id": "f1b22f28",
   "metadata": {},
   "outputs": [
    {
     "name": "stdout",
     "output_type": "stream",
     "text": [
      "1 brocolli is/are added to your grocery list.\n"
     ]
    }
   ],
   "source": [
    "add_grocery_thing(\"brocolli\",1)"
   ]
  },
  {
   "cell_type": "code",
   "execution_count": 12,
   "id": "72368455",
   "metadata": {
    "scrolled": true
   },
   "outputs": [
    {
     "name": "stdout",
     "output_type": "stream",
     "text": [
      "2 cups of yogurt is/are added to your grocery list.\n"
     ]
    }
   ],
   "source": [
    "add_grocery_thing(\"cups of yogurt\",2)"
   ]
  },
  {
   "cell_type": "code",
   "execution_count": 13,
   "id": "25be5af5",
   "metadata": {},
   "outputs": [
    {
     "data": {
      "text/plain": [
       "{'kg carrots': 1,\n",
       " 'baloons': 4,\n",
       " 'bottles of milkshakes': 3,\n",
       " 'kg ladies finger': 1,\n",
       " 'kg brinjal': 1,\n",
       " 'brocolli': 1,\n",
       " 'cups of yogurt': 2}"
      ]
     },
     "execution_count": 13,
     "metadata": {},
     "output_type": "execute_result"
    }
   ],
   "source": [
    "grocery_lisht"
   ]
  },
  {
   "cell_type": "code",
   "execution_count": 14,
   "id": "27c789b4",
   "metadata": {},
   "outputs": [
    {
     "name": "stdout",
     "output_type": "stream",
     "text": [
      "Your Grocery List:\n",
      "{'kg carrots': 1, 'baloons': 4, 'bottles of milkshakes': 3, 'kg ladies finger': 1, 'kg brinjal': 1, 'brocolli': 1, 'cups of yogurt': 2}\n"
     ]
    }
   ],
   "source": [
    "display_lisht()"
   ]
  },
  {
   "cell_type": "code",
   "execution_count": 15,
   "id": "2d40a11e",
   "metadata": {},
   "outputs": [
    {
     "name": "stdout",
     "output_type": "stream",
     "text": [
      "1 cups of yogurt is removed from your list.\n"
     ]
    }
   ],
   "source": [
    "remove_grocery_thing('cups of yogurt',1)"
   ]
  },
  {
   "cell_type": "code",
   "execution_count": 16,
   "id": "856ccae9",
   "metadata": {},
   "outputs": [
    {
     "name": "stdout",
     "output_type": "stream",
     "text": [
      "Your Grocery List:\n",
      "{'kg carrots': 1, 'baloons': 4, 'bottles of milkshakes': 3, 'kg ladies finger': 1, 'kg brinjal': 1, 'brocolli': 1, 'cups of yogurt': 1}\n"
     ]
    }
   ],
   "source": [
    "display_lisht()"
   ]
  }
 ],
 "metadata": {
  "kernelspec": {
   "display_name": "Python 3 (ipykernel)",
   "language": "python",
   "name": "python3"
  },
  "language_info": {
   "codemirror_mode": {
    "name": "ipython",
    "version": 3
   },
   "file_extension": ".py",
   "mimetype": "text/x-python",
   "name": "python",
   "nbconvert_exporter": "python",
   "pygments_lexer": "ipython3",
   "version": "3.11.2"
  }
 },
 "nbformat": 4,
 "nbformat_minor": 5
}
