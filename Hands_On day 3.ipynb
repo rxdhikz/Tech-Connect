{
 "cells": [
  {
   "cell_type": "code",
   "execution_count": 1,
   "id": "d67ecf22",
   "metadata": {},
   "outputs": [
    {
     "name": "stdout",
     "output_type": "stream",
     "text": [
      "Bonsoir\n"
     ]
    }
   ],
   "source": [
    "print(f\"Bonsoir\") #printing a statement"
   ]
  },
  {
   "cell_type": "code",
   "execution_count": 2,
   "id": "0fefe9ce",
   "metadata": {},
   "outputs": [
    {
     "name": "stdout",
     "output_type": "stream",
     "text": [
      "Fourteen is grater than 12\n"
     ]
    }
   ],
   "source": [
    "if 14>12: #indendation\n",
    "    print(f\"Fourteen is grater than 12\") #printing a statement with regards to the condition\n",
    "    \n",
    "#an indendation is very importatnt for a code containing loops\n",
    "#an indendation is considered as 4 blank spaces"
   ]
  },
  {
   "cell_type": "code",
   "execution_count": 3,
   "id": "b57be733",
   "metadata": {},
   "outputs": [
    {
     "ename": "IndentationError",
     "evalue": "expected an indented block after 'if' statement on line 1 (3532434382.py, line 2)",
     "output_type": "error",
     "traceback": [
      "\u001b[1;36m  Cell \u001b[1;32mIn[3], line 2\u001b[1;36m\u001b[0m\n\u001b[1;33m    print(f\"Twelve is lesser than 14\")\u001b[0m\n\u001b[1;37m    ^\u001b[0m\n\u001b[1;31mIndentationError\u001b[0m\u001b[1;31m:\u001b[0m expected an indented block after 'if' statement on line 1\n"
     ]
    }
   ],
   "source": [
    "if 12<14: #without indendation an error will occur\n",
    "print(f\"Twelve is lesser than 14\")"
   ]
  },
  {
   "cell_type": "code",
   "execution_count": 4,
   "id": "832dc1f9",
   "metadata": {},
   "outputs": [
    {
     "name": "stdout",
     "output_type": "stream",
     "text": [
      "Ohayo!\n",
      "Welcome back Radhika.\n"
     ]
    }
   ],
   "source": [
    "#printing two statements\n",
    "print(f'Ohayo!')\n",
    "print(f'Welcome back Radhika.')"
   ]
  },
  {
   "cell_type": "code",
   "execution_count": 5,
   "id": "6b2bad72",
   "metadata": {},
   "outputs": [
    {
     "name": "stdout",
     "output_type": "stream",
     "text": [
      "Welcome back Radhika.\n"
     ]
    }
   ],
   "source": [
    "'''print(f'Ohayo')''' #commented statement\n",
    "#these three single quotes will comment the ones in between them until its closed with three single quotes again\n",
    "#instead of three single quotes even three double quotes can be used\n",
    "print(f'Welcome back Radhika.') #printing another statement\n",
    "#so here, in this code only the above line will be printed"
   ]
  },
  {
   "cell_type": "code",
   "execution_count": 6,
   "id": "3b1755b0",
   "metadata": {},
   "outputs": [
    {
     "data": {
      "text/plain": [
       "str"
      ]
     },
     "execution_count": 6,
     "metadata": {},
     "output_type": "execute_result"
    }
   ],
   "source": [
    "x = 'Alo' #assigning a string to a variable\n",
    "type(x) #finding out the type of the variable 'x'"
   ]
  },
  {
   "cell_type": "code",
   "execution_count": 7,
   "id": "0ca4a029",
   "metadata": {},
   "outputs": [
    {
     "data": {
      "text/plain": [
       "str"
      ]
     },
     "execution_count": 7,
     "metadata": {},
     "output_type": "execute_result"
    }
   ],
   "source": [
    "z = str(420) #converting the integer into string using str()\n",
    "type(z) #finding out the type of the variable 'z'"
   ]
  },
  {
   "cell_type": "code",
   "execution_count": 8,
   "id": "7e275456",
   "metadata": {},
   "outputs": [
    {
     "data": {
      "text/plain": [
       "'Alo'"
      ]
     },
     "execution_count": 8,
     "metadata": {},
     "output_type": "execute_result"
    }
   ],
   "source": [
    "x #calling x"
   ]
  },
  {
   "cell_type": "code",
   "execution_count": 9,
   "id": "2c5a7cf1",
   "metadata": {},
   "outputs": [
    {
     "data": {
      "text/plain": [
       "'420'"
      ]
     },
     "execution_count": 9,
     "metadata": {},
     "output_type": "execute_result"
    }
   ],
   "source": [
    "z #calling z"
   ]
  },
  {
   "cell_type": "code",
   "execution_count": 10,
   "id": "14e7b7a0",
   "metadata": {},
   "outputs": [
    {
     "ename": "NameError",
     "evalue": "name 'w' is not defined",
     "output_type": "error",
     "traceback": [
      "\u001b[1;31m---------------------------------------------------------------------------\u001b[0m",
      "\u001b[1;31mNameError\u001b[0m                                 Traceback (most recent call last)",
      "Cell \u001b[1;32mIn[10], line 1\u001b[0m\n\u001b[1;32m----> 1\u001b[0m \u001b[43mw\u001b[49m \u001b[38;5;66;03m#calling w, but the name isn't defined\u001b[39;00m\n\u001b[0;32m      2\u001b[0m \u001b[38;5;66;03m#w shows a NameErrror as it isn't defined\u001b[39;00m\n",
      "\u001b[1;31mNameError\u001b[0m: name 'w' is not defined"
     ]
    }
   ],
   "source": [
    "w #calling w, but the name isn't defined\n",
    "#w shows a NameErrror as it isn't defined"
   ]
  },
  {
   "cell_type": "code",
   "execution_count": 11,
   "id": "edf1dca4",
   "metadata": {},
   "outputs": [],
   "source": [
    "#assigning string values to 3 variables - a,b,c\n",
    "a = '987'\n",
    "b = '654'\n",
    "c = '321'"
   ]
  },
  {
   "cell_type": "code",
   "execution_count": 12,
   "id": "f5fe033b",
   "metadata": {
    "scrolled": true
   },
   "outputs": [],
   "source": [
    "p,q,r = a,b,c #intialising that p,q,r have the same values as a,b,c"
   ]
  },
  {
   "cell_type": "code",
   "execution_count": 13,
   "id": "52e2fc0d",
   "metadata": {},
   "outputs": [],
   "source": [
    "p,q,r = a,b,c\n",
    "#assigning new variables and giving them values of existing variables\n",
    "#here, we are assigning p,q,r as new variables and giving them the values of the three existing variable a,b,c"
   ]
  },
  {
   "cell_type": "code",
   "execution_count": 14,
   "id": "f2f81394",
   "metadata": {
    "scrolled": true
   },
   "outputs": [
    {
     "data": {
      "text/plain": [
       "'987'"
      ]
     },
     "execution_count": 14,
     "metadata": {},
     "output_type": "execute_result"
    }
   ],
   "source": [
    "p #calling p"
   ]
  },
  {
   "cell_type": "code",
   "execution_count": 15,
   "id": "49e1d145",
   "metadata": {},
   "outputs": [
    {
     "data": {
      "text/plain": [
       "'654'"
      ]
     },
     "execution_count": 15,
     "metadata": {},
     "output_type": "execute_result"
    }
   ],
   "source": [
    "q #calling q"
   ]
  },
  {
   "cell_type": "code",
   "execution_count": 16,
   "id": "e7914d0b",
   "metadata": {},
   "outputs": [
    {
     "data": {
      "text/plain": [
       "'321'"
      ]
     },
     "execution_count": 16,
     "metadata": {},
     "output_type": "execute_result"
    }
   ],
   "source": [
    "r #calling r"
   ]
  },
  {
   "cell_type": "code",
   "execution_count": 17,
   "id": "5bfe739b",
   "metadata": {},
   "outputs": [
    {
     "ename": "NameError",
     "evalue": "name 'd' is not defined",
     "output_type": "error",
     "traceback": [
      "\u001b[1;31m---------------------------------------------------------------------------\u001b[0m",
      "\u001b[1;31mNameError\u001b[0m                                 Traceback (most recent call last)",
      "Cell \u001b[1;32mIn[17], line 1\u001b[0m\n\u001b[1;32m----> 1\u001b[0m w,x,y \u001b[38;5;241m=\u001b[39m \u001b[43md\u001b[49m,e,f \u001b[38;5;66;03m#intialising that w,x,y have the same values as d,e,f\u001b[39;00m\n\u001b[0;32m      2\u001b[0m \u001b[38;5;66;03m#this will throw a NameError because d,e,f aren't defined\u001b[39;00m\n",
      "\u001b[1;31mNameError\u001b[0m: name 'd' is not defined"
     ]
    }
   ],
   "source": [
    "w,x,y = d,e,f #intialising that w,x,y have the same values as d,e,f\n",
    "#this will throw a NameError because d,e,f aren't defined"
   ]
  },
  {
   "cell_type": "code",
   "execution_count": 18,
   "id": "a36a628c",
   "metadata": {},
   "outputs": [],
   "source": [
    "mywish = 'Radhika' #a variable used in the program below as a global variable\n",
    "#A global variable is a variable defined outside a function defenition and used throught the entire program"
   ]
  },
  {
   "cell_type": "code",
   "execution_count": 19,
   "id": "14f7edf7",
   "metadata": {},
   "outputs": [
    {
     "name": "stdout",
     "output_type": "stream",
     "text": [
      "Good evening Radhika\n"
     ]
    }
   ],
   "source": [
    "#defining a function\n",
    "def greet(): #this is a function defenition\n",
    "#def is known as the function keyword\n",
    "    print(f'Good evening '+ mywish) #prinitng a statement\n",
    "greet() #this is called calling a function\n",
    "#the calling of a function maybe called inside or outside the function definition depending on its purpose"
   ]
  },
  {
   "cell_type": "code",
   "execution_count": 20,
   "id": "2bdd00bd",
   "metadata": {},
   "outputs": [
    {
     "name": "stdout",
     "output_type": "stream",
     "text": [
      "<class 'str'>\n",
      "<class 'int'>\n",
      "<class 'list'>\n",
      "<class 'dict'>\n",
      "<class 'set'>\n",
      "<class 'complex'>\n"
     ]
    }
   ],
   "source": [
    "#Data Types\n",
    "a = 'blue' #initialising a variable with string value\n",
    "b = 123 #initialising a variable with integer value\n",
    "c = [4,0,9] #initialising a list with numbers\n",
    "d = {'Name':'Radhika'} #creating a dictionary with a single key-value pair\n",
    "e = {'2','4','6'} #creating a set\n",
    "f = 38 + 7j #initialising a variable with complexity\n",
    "print(type(a)) #printing the type of each variable\n",
    "print(type(b))\n",
    "print(type(c))\n",
    "print(type(d))\n",
    "print(type(e))\n",
    "print(type(f))"
   ]
  },
  {
   "cell_type": "code",
   "execution_count": 21,
   "id": "e75051e3",
   "metadata": {},
   "outputs": [
    {
     "name": "stdout",
     "output_type": "stream",
     "text": [
      "False\n",
      "False\n",
      "True\n"
     ]
    }
   ],
   "source": [
    "#Booleans\n",
    "#checking for the boolean condition to be True or False\n",
    "print(19>87)\n",
    "print(89==2)\n",
    "print(4<90)"
   ]
  },
  {
   "cell_type": "code",
   "execution_count": 22,
   "id": "9738c5d1",
   "metadata": {},
   "outputs": [
    {
     "name": "stdout",
     "output_type": "stream",
     "text": [
      "23\n",
      "34\n",
      "34 is greater than 23\n"
     ]
    }
   ],
   "source": [
    "n1 = int(input()) #asking the user for an integer input\n",
    "n2 = int(input()) #asking the user for an integer input\n",
    "if n2>n1: #using 'if' condition, checking if n2 is greater than n1\n",
    "    print(n2, f'is greater than', n1) #printing a statement accordingly\n",
    "else: #if the 'if' condition isn't satisfied then\n",
    "    print(n2, f'is not greater than', n1) #printing another statement"
   ]
  },
  {
   "cell_type": "code",
   "execution_count": 23,
   "id": "1a52ff62",
   "metadata": {},
   "outputs": [],
   "source": [
    "#Arithmetic Operators\n",
    "#Addition +\n",
    "#SUbtraction -\n",
    "#Multiplication *\n",
    "#Division /\n",
    "#Exponent **\n",
    "#Modulus %\n",
    "#Floor division //"
   ]
  },
  {
   "cell_type": "code",
   "execution_count": 24,
   "id": "dcf7064c",
   "metadata": {},
   "outputs": [
    {
     "data": {
      "text/plain": [
       "2.5"
      ]
     },
     "execution_count": 24,
     "metadata": {},
     "output_type": "execute_result"
    }
   ],
   "source": [
    "5/2 #gives us the exact quotient"
   ]
  },
  {
   "cell_type": "code",
   "execution_count": 25,
   "id": "1057f1f1",
   "metadata": {},
   "outputs": [
    {
     "data": {
      "text/plain": [
       "1"
      ]
     },
     "execution_count": 25,
     "metadata": {},
     "output_type": "execute_result"
    }
   ],
   "source": [
    "5%2 #gives us the remainder"
   ]
  },
  {
   "cell_type": "code",
   "execution_count": 26,
   "id": "d02dcf9b",
   "metadata": {},
   "outputs": [
    {
     "data": {
      "text/plain": [
       "2"
      ]
     },
     "execution_count": 26,
     "metadata": {},
     "output_type": "execute_result"
    }
   ],
   "source": [
    "5//2 #gives us the quotient as whole number"
   ]
  },
  {
   "cell_type": "code",
   "execution_count": 27,
   "id": "eec075bc",
   "metadata": {},
   "outputs": [],
   "source": [
    "s = 1 #initialising a variable with an integer value"
   ]
  },
  {
   "cell_type": "code",
   "execution_count": 28,
   "id": "c7113967",
   "metadata": {},
   "outputs": [
    {
     "data": {
      "text/plain": [
       "1"
      ]
     },
     "execution_count": 28,
     "metadata": {},
     "output_type": "execute_result"
    }
   ],
   "source": [
    "s #printing the variable 's'"
   ]
  },
  {
   "cell_type": "code",
   "execution_count": 29,
   "id": "d428f563",
   "metadata": {},
   "outputs": [],
   "source": [
    "s += 2\n",
    "#this means s = 1+2, from the above given value of 's'"
   ]
  },
  {
   "cell_type": "code",
   "execution_count": 30,
   "id": "c15b2fac",
   "metadata": {},
   "outputs": [
    {
     "data": {
      "text/plain": [
       "3"
      ]
     },
     "execution_count": 30,
     "metadata": {},
     "output_type": "execute_result"
    }
   ],
   "source": [
    "s #printing the value of the variable 's' now will give us a new value i.e., 3 in this case"
   ]
  },
  {
   "cell_type": "code",
   "execution_count": 31,
   "id": "88cd1073",
   "metadata": {},
   "outputs": [],
   "source": [
    "w =+ 4"
   ]
  },
  {
   "cell_type": "code",
   "execution_count": 32,
   "id": "066c0963",
   "metadata": {},
   "outputs": [
    {
     "data": {
      "text/plain": [
       "4"
      ]
     },
     "execution_count": 32,
     "metadata": {},
     "output_type": "execute_result"
    }
   ],
   "source": [
    "w"
   ]
  },
  {
   "cell_type": "code",
   "execution_count": 33,
   "id": "71170743",
   "metadata": {},
   "outputs": [],
   "source": [
    "w -= 1\n",
    "#this means w = 4-1"
   ]
  },
  {
   "cell_type": "code",
   "execution_count": 34,
   "id": "190aff90",
   "metadata": {},
   "outputs": [
    {
     "data": {
      "text/plain": [
       "3"
      ]
     },
     "execution_count": 34,
     "metadata": {},
     "output_type": "execute_result"
    }
   ],
   "source": [
    "w #printing the value of the variable 'w' now will give us a new value i.e., 3 in this case"
   ]
  },
  {
   "cell_type": "code",
   "execution_count": 35,
   "id": "de64b397",
   "metadata": {},
   "outputs": [],
   "source": [
    "#Looping of lists\n",
    "fruits = ['watermelon','chiku','strawberry'] #creating a list with fruit names"
   ]
  },
  {
   "cell_type": "code",
   "execution_count": 36,
   "id": "0416bc8b",
   "metadata": {},
   "outputs": [
    {
     "name": "stdout",
     "output_type": "stream",
     "text": [
      "watermelon\n",
      "chiku\n",
      "strawberry\n"
     ]
    }
   ],
   "source": [
    "for i in fruits: #using for loop, for every fruit in the 'fruits' list\n",
    "    print(i) #printing each fruit"
   ]
  },
  {
   "cell_type": "code",
   "execution_count": 37,
   "id": "41368bfd",
   "metadata": {},
   "outputs": [
    {
     "name": "stdout",
     "output_type": "stream",
     "text": [
      "watermelon\n",
      "chiku\n",
      "strawberry\n"
     ]
    }
   ],
   "source": [
    "for i in range(len(fruits)): #using for loop, for every fruit in the length of the 'fruits' list\n",
    "    print(fruits[i]) #printing the fruit from each index"
   ]
  },
  {
   "cell_type": "code",
   "execution_count": 38,
   "id": "f1486e25",
   "metadata": {},
   "outputs": [
    {
     "data": {
      "text/plain": [
       "'watermelon'"
      ]
     },
     "execution_count": 38,
     "metadata": {},
     "output_type": "execute_result"
    }
   ],
   "source": [
    "fruits[0] #the fruit from the 'fruits' list which is in the index 0"
   ]
  },
  {
   "cell_type": "code",
   "execution_count": 39,
   "id": "17558702",
   "metadata": {
    "scrolled": true
   },
   "outputs": [
    {
     "data": {
      "text/plain": [
       "['watermelon', 'chiku', 'strawberry', 'mango']"
      ]
     },
     "execution_count": 39,
     "metadata": {},
     "output_type": "execute_result"
    }
   ],
   "source": [
    "new_fruit = 'mango' #intiating a variable with a new fruit name\n",
    "for i in fruits: #using for loop, for each fruit in the 'fruits' list\n",
    "#append() method will append an element onto the end of a list\n",
    "    fruits.append(new_fruit) #so appending the new fruit 'mango' onto the fruits list\n",
    "#so now if we print fruits it will show us the list along with the fruit mango\n",
    "    break #using break statement to break the 'for' loop ABRUPTLY\n",
    "fruits  #printing the fruits list"
   ]
  }
 ],
 "metadata": {
  "kernelspec": {
   "display_name": "Python 3 (ipykernel)",
   "language": "python",
   "name": "python3"
  },
  "language_info": {
   "codemirror_mode": {
    "name": "ipython",
    "version": 3
   },
   "file_extension": ".py",
   "mimetype": "text/x-python",
   "name": "python",
   "nbconvert_exporter": "python",
   "pygments_lexer": "ipython3",
   "version": "3.11.2"
  }
 },
 "nbformat": 4,
 "nbformat_minor": 5
}
