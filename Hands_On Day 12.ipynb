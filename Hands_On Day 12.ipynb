{
 "cells": [
  {
   "cell_type": "code",
   "execution_count": 1,
   "id": "1ad42fcd",
   "metadata": {},
   "outputs": [],
   "source": [
    "#BMI Calculator"
   ]
  },
  {
   "cell_type": "code",
   "execution_count": 2,
   "id": "74b45bdd",
   "metadata": {},
   "outputs": [],
   "source": [
    "#defining a function to calculate the bmi of a hooman\n",
    "def bmi_of_hoo_man(weight,height):\n",
    "    bmi = weight/(height**2) #calculating the bmi\n",
    "    return bmi #returning the value of bmi"
   ]
  },
  {
   "cell_type": "code",
   "execution_count": 3,
   "id": "5536ab98",
   "metadata": {},
   "outputs": [
    {
     "name": "stdout",
     "output_type": "stream",
     "text": [
      "Enter height:161\n",
      "Enter weight:41\n"
     ]
    }
   ],
   "source": [
    "h = float(input(\"Enter height:\")) #asking the user for the height\n",
    "w = float(input(\"Enter weight:\")) #asking the user for the weight"
   ]
  },
  {
   "cell_type": "code",
   "execution_count": 4,
   "id": "30b6f39a",
   "metadata": {},
   "outputs": [
    {
     "data": {
      "text/plain": [
       "0.0015817290999575633"
      ]
     },
     "execution_count": 4,
     "metadata": {},
     "output_type": "execute_result"
    }
   ],
   "source": [
    "bmi_of_hoo_man(w,h) #calling the function to calculate the bmi of the required hooman person"
   ]
  },
  {
   "cell_type": "code",
   "execution_count": 5,
   "id": "00ba7b1d",
   "metadata": {},
   "outputs": [],
   "source": [
    "#defining a function to check the level of your BMI\n",
    "def hmm_body_mash_indekshh():\n",
    "    height = float(input(\"Enter height:\")) #asking the user to enter their height\n",
    "    weight = float(input(\"Enter weight:\")) #asking the user to enter their weight\n",
    "    bmi = weight/(height**2) #calculating their bmi\n",
    "    if bmi < 18.5: #checking if the bmi value is lesser than 18.5\n",
    "        return \"Underweight ya! Eat More!\" #returning this statement\n",
    "    if bmi >= 18.5 and bmi<25: #checking if the bmi value is greater than or equal to 18.5 as well as lesser than 25\n",
    "        return \"Ur Normal Boss!\" #returning this statement\n",
    "    if bmi >= 25 and bmi<30: #checking if the bmi value is greater than or equal to 25 and lesser than 30\n",
    "        return \"Ahhem. Overweight! Please take care.\" #returning this statement\n",
    "    else: #if the bmi value doesn't match any of the above mentioned conditions\n",
    "        return \"Caution! Obese!\" #returning this statement"
   ]
  },
  {
   "cell_type": "code",
   "execution_count": 6,
   "id": "88026dbf",
   "metadata": {},
   "outputs": [
    {
     "name": "stdout",
     "output_type": "stream",
     "text": [
      "Enter height:161\n",
      "Enter weight:41\n"
     ]
    },
    {
     "data": {
      "text/plain": [
       "'Underweight ya! Eat More!'"
      ]
     },
     "execution_count": 6,
     "metadata": {},
     "output_type": "execute_result"
    }
   ],
   "source": [
    "hmm_body_mash_indekshh() #calling the function"
   ]
  },
  {
   "cell_type": "code",
   "execution_count": 7,
   "id": "3795966b",
   "metadata": {},
   "outputs": [],
   "source": [
    "#Rolling 2 dice"
   ]
  },
  {
   "cell_type": "code",
   "execution_count": 8,
   "id": "a4a7dec9",
   "metadata": {},
   "outputs": [],
   "source": [
    "#the randint module is used to generate a random number within the specified range\n",
    "#randint includes both the start and end value mentioned"
   ]
  },
  {
   "cell_type": "code",
   "execution_count": 9,
   "id": "c2add23b",
   "metadata": {},
   "outputs": [],
   "source": [
    "#defining a function to count the sum of numbers on a dice when rolled\n",
    "import random #importing the random module\n",
    "def roll_dice(sides,no_of_rolls):\n",
    "    result_set = [] #initialising an empty list\n",
    "    for i in range(no_of_rolls): #using for loop, to calculate the sum between the no.of rools and the no.of sides\n",
    "        rezult = random.randint(1,sides) #generating a random number within the range\n",
    "        result_set.append(rezult) #appending the random number onto the empty list\n",
    "        print(f\"Roll{i+1}:{result_set}\")\n",
    "        a = sum(result_set)\n",
    "        print(f\"The total no.of rolls are: {no_of_rolls}\")\n",
    "        print(f\"The sum of all the rolls on the dice: {a}\")"
   ]
  },
  {
   "cell_type": "code",
   "execution_count": 10,
   "id": "6d715bb1",
   "metadata": {},
   "outputs": [
    {
     "name": "stdout",
     "output_type": "stream",
     "text": [
      "Enter the no.of rolls: 2\n"
     ]
    }
   ],
   "source": [
    "sides = 6 #initialising the number of sides on a die to be 6\n",
    "no_of_rolls = int(input(\"Enter the no.of rolls: \")) #asking the user to enter the number of rolls"
   ]
  },
  {
   "cell_type": "code",
   "execution_count": 11,
   "id": "1f0bb2c3",
   "metadata": {},
   "outputs": [
    {
     "name": "stdout",
     "output_type": "stream",
     "text": [
      "Roll1:[6]\n",
      "The total no.of rolls are: 2\n",
      "The sum of all the rolls on the dice: 6\n",
      "Roll2:[6, 5]\n",
      "The total no.of rolls are: 2\n",
      "The sum of all the rolls on the dice: 11\n"
     ]
    }
   ],
   "source": [
    "roll_dice(sides,no_of_rolls) #calling the function"
   ]
  }
 ],
 "metadata": {
  "kernelspec": {
   "display_name": "Python 3 (ipykernel)",
   "language": "python",
   "name": "python3"
  },
  "language_info": {
   "codemirror_mode": {
    "name": "ipython",
    "version": 3
   },
   "file_extension": ".py",
   "mimetype": "text/x-python",
   "name": "python",
   "nbconvert_exporter": "python",
   "pygments_lexer": "ipython3",
   "version": "3.11.2"
  }
 },
 "nbformat": 4,
 "nbformat_minor": 5
}
