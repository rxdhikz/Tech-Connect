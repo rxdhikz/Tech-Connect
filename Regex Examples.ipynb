{
 "cells": [
  {
   "cell_type": "code",
   "execution_count": 1,
   "id": "97addae1",
   "metadata": {},
   "outputs": [],
   "source": [
    "#Indian Phone Number Pattern"
   ]
  },
  {
   "cell_type": "code",
   "execution_count": 2,
   "id": "257b1791",
   "metadata": {},
   "outputs": [
    {
     "name": "stdout",
     "output_type": "stream",
     "text": [
      "Invalid phone number: +91 7358139333\n",
      "Invalid phone number: 0917358139333\n",
      "Invalid phone number: 97358139333\n",
      "Invalid phone number: +91-7358139333\n",
      "Invalid phone number: 091-7358139333\n",
      "Invalid phone number: 9735-813-9333\n",
      "Valid phone number: 7358-139333\n",
      "Valid phone number: +917358139333\n",
      "Valid phone number: 07358-139333\n"
     ]
    }
   ],
   "source": [
    "import re #importing the regex module\n",
    "#initialising the pattern for indian phone numbers\n",
    "indian_ph_no_pattern = r'^(?:\\+91|0)?(?:\\d{10}|\\d{2}-\\d{3}-\\d{4}|\\d{4}-\\d{6})$'\n",
    "#creating a list with phone numbers in different formats\n",
    "ph_nos = [\"+91 7358139333\",\n",
    "    \"0917358139333\",\n",
    "    \"97358139333\",\n",
    "    \"+91-7358139333\",\n",
    "    \"091-7358139333\",\n",
    "    \"9735-813-9333\",\n",
    "    \"7358-139333\",\n",
    "    \"+917358139333\",\n",
    "    \"07358-139333\"]\n",
    "for ph_no in ph_nos: #using for loop, for each phone number in the 'ph_nos' list\n",
    "    if re.match(indian_ph_no_pattern,ph_no): #checking if the phone numbers in the list match the indian phone number pattern\n",
    "        print(f\"Valid phone number: {ph_no}\") #if the condition is satisfied, printing this statement\n",
    "    else: #if the if condition isn't satisfied\n",
    "        print(f\"Invalid phone number: {ph_no}\") #printing this statement"
   ]
  }
 ],
 "metadata": {
  "kernelspec": {
   "display_name": "Python 3 (ipykernel)",
   "language": "python",
   "name": "python3"
  },
  "language_info": {
   "codemirror_mode": {
    "name": "ipython",
    "version": 3
   },
   "file_extension": ".py",
   "mimetype": "text/x-python",
   "name": "python",
   "nbconvert_exporter": "python",
   "pygments_lexer": "ipython3",
   "version": "3.11.2"
  }
 },
 "nbformat": 4,
 "nbformat_minor": 5
}
