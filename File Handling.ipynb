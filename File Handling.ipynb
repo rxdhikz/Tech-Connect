{
 "cells": [
  {
   "cell_type": "code",
   "execution_count": 1,
   "id": "236a564a",
   "metadata": {},
   "outputs": [],
   "source": [
    "#File Handling"
   ]
  },
  {
   "cell_type": "code",
   "execution_count": 2,
   "id": "498d8e03",
   "metadata": {},
   "outputs": [],
   "source": [
    "#Opening a file using the open() function\n",
    "must_open = open(r'C:\\Users\\Microsoft\\OneDrive\\Desktop\\remainder.txt','r') #opening the file in read mode"
   ]
  },
  {
   "cell_type": "code",
   "execution_count": 3,
   "id": "1a1705ec",
   "metadata": {},
   "outputs": [
    {
     "name": "stdout",
     "output_type": "stream",
     "text": [
      "I love a lot more colors as well\n"
     ]
    }
   ],
   "source": [
    "#Reading the entire file using the read() method\n",
    "r = must_open.read() #reading the file\n",
    "print(r) #prinitng the data from the read text file"
   ]
  },
  {
   "cell_type": "code",
   "execution_count": 4,
   "id": "31ec3e71",
   "metadata": {},
   "outputs": [],
   "source": [
    "#Closing a file using the close() method - a file needs to be closed if it is open\n",
    "must_open.close() #closing the file"
   ]
  },
  {
   "cell_type": "code",
   "execution_count": 5,
   "id": "a5ee955c",
   "metadata": {},
   "outputs": [],
   "source": [
    "#Opening a file using with open and w#opening the text file by default in read moderiting onto the file\n",
    "#opening the text file in write mode\n",
    "with open(r'C:\\Users\\Microsoft\\OneDrive\\Desktop\\remainder.txt','w') as blue:\n",
    "    welp = blue.write('I love a lot more colors as well') #writing this statement into the file\n",
    "#While the file is opened using this method, the file doesn't have to be closed by the programmer, it gets closed by default"
   ]
  },
  {
   "cell_type": "code",
   "execution_count": 6,
   "id": "6943f6eb",
   "metadata": {},
   "outputs": [],
   "source": [
    "a = open(r\"C:\\Users\\Microsoft\\OneDrive\\Desktop\\remainder.txt\") #opening the text file by default in read mode\n",
    "b = a.read() #reading the text file"
   ]
  },
  {
   "cell_type": "code",
   "execution_count": 7,
   "id": "40483638",
   "metadata": {},
   "outputs": [
    {
     "name": "stdout",
     "output_type": "stream",
     "text": [
      "I love a lot more colors as well\n"
     ]
    }
   ],
   "source": [
    "print(b) #printing the data from the read file"
   ]
  },
  {
   "cell_type": "code",
   "execution_count": 8,
   "id": "f0e66a3a",
   "metadata": {},
   "outputs": [],
   "source": [
    "k = open(\"afile.txt\",\"w+\") #opemimg the text file in write mode\n",
    "w = k.write(\"Wello wello everyone knows the color yellow\") #writing this data into the open file"
   ]
  },
  {
   "cell_type": "code",
   "execution_count": 9,
   "id": "995b363d",
   "metadata": {},
   "outputs": [],
   "source": [
    "r = k.read() #reading the open file"
   ]
  },
  {
   "cell_type": "code",
   "execution_count": 10,
   "id": "4ba86e7a",
   "metadata": {},
   "outputs": [
    {
     "name": "stdout",
     "output_type": "stream",
     "text": [
      "\n"
     ]
    }
   ],
   "source": [
    "print(r) #printing the data that is read"
   ]
  },
  {
   "cell_type": "code",
   "execution_count": 11,
   "id": "af9e3609",
   "metadata": {},
   "outputs": [
    {
     "name": "stdout",
     "output_type": "stream",
     "text": [
      "[]\n"
     ]
    }
   ],
   "source": [
    "p = k.readlines() #reading all the lines in the open file\n",
    "print(p) #printing those read lines\n",
    "k.close() #closing the file"
   ]
  },
  {
   "cell_type": "code",
   "execution_count": 12,
   "id": "035d501a",
   "metadata": {},
   "outputs": [],
   "source": [
    "ee = open('afile.txt','r') #opening a text file in read mode"
   ]
  },
  {
   "cell_type": "code",
   "execution_count": 13,
   "id": "d6e02a99",
   "metadata": {},
   "outputs": [
    {
     "name": "stdout",
     "output_type": "stream",
     "text": [
      "Wello wello everyone knows the color yellow\n"
     ]
    }
   ],
   "source": [
    "print(ee.read()) #printing the data from the file after reading it"
   ]
  },
  {
   "cell_type": "code",
   "execution_count": 14,
   "id": "6ac200a3",
   "metadata": {},
   "outputs": [
    {
     "name": "stdout",
     "output_type": "stream",
     "text": [
      "Vanakkam to the person reading this!Vanakkam to the person reading this!Vanakkam to the person reading this!\n"
     ]
    }
   ],
   "source": [
    "#Appending onto a file\n",
    "file1 = open(\"sample.txt\",\"a\") #opening a file in append mode\n",
    "file1.write(\"Vanakkam to the person reading this!\") #writing this into the open file\n",
    "file1.close() #closing the open file\n",
    "reopen = open('sample.txt','r') #re-opening the file in read mode\n",
    "print(reopen.read()) #printing the data from the file after reading it"
   ]
  },
  {
   "cell_type": "code",
   "execution_count": 15,
   "id": "87fd6c76",
   "metadata": {},
   "outputs": [
    {
     "name": "stdout",
     "output_type": "stream",
     "text": [
      "Do not give your past the power to define your future.\n",
      "\n"
     ]
    }
   ],
   "source": [
    "my_mind = open(\"thoughts.txt\",\"r\") #opening a text file in read mode\n",
    "single_line = my_mind.readline() #reading a single line or the very first line of the open file\n",
    "print(single_line) #printing that single line"
   ]
  },
  {
   "cell_type": "code",
   "execution_count": 16,
   "id": "60d41463",
   "metadata": {},
   "outputs": [
    {
     "name": "stdout",
     "output_type": "stream",
     "text": [
      "Do not give your past\n"
     ]
    }
   ],
   "source": [
    "my_mind = open(\"thoughts.txt\",\"r\") #opening a text file in read mode\n",
    "read_bytes = my_mind.readline(21) #reading 21 bytes\n",
    "print(read_bytes) #printing those 21 byte characters"
   ]
  },
  {
   "cell_type": "code",
   "execution_count": 17,
   "id": "e0c709b5",
   "metadata": {},
   "outputs": [
    {
     "name": "stdout",
     "output_type": "stream",
     "text": [
      "['Do not give your past the power to define your future.\\n', 'Everything happens for a reason.']\n"
     ]
    }
   ],
   "source": [
    "my_mind = open(\"thoughts.txt\",\"r\") #opening a text file in read mode\n",
    "all_lines = my_mind.readlines() #reading all the lines from the open file\n",
    "print(all_lines) #printing all those lines which are read\n",
    "my_mind.close() #closing the file"
   ]
  },
  {
   "cell_type": "code",
   "execution_count": 18,
   "id": "9982e581",
   "metadata": {},
   "outputs": [],
   "source": [
    "astram = open(\"thoughts.txt\",\"r\") #opening the text file in read mode\n",
    "t = astram.read() #reading the file again"
   ]
  },
  {
   "cell_type": "code",
   "execution_count": 19,
   "id": "7d7bcce4",
   "metadata": {},
   "outputs": [
    {
     "name": "stdout",
     "output_type": "stream",
     "text": [
      "\n"
     ]
    }
   ],
   "source": [
    "print(t)"
   ]
  }
 ],
 "metadata": {
  "kernelspec": {
   "display_name": "Python 3 (ipykernel)",
   "language": "python",
   "name": "python3"
  },
  "language_info": {
   "codemirror_mode": {
    "name": "ipython",
    "version": 3
   },
   "file_extension": ".py",
   "mimetype": "text/x-python",
   "name": "python",
   "nbconvert_exporter": "python",
   "pygments_lexer": "ipython3",
   "version": "3.12.1"
  }
 },
 "nbformat": 4,
 "nbformat_minor": 5
}
