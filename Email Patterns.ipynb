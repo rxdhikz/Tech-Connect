{
 "cells": [
  {
   "cell_type": "code",
   "execution_count": 1,
   "id": "ac6d21b4",
   "metadata": {},
   "outputs": [],
   "source": [
    "#Email patterns using regex"
   ]
  },
  {
   "cell_type": "code",
   "execution_count": 2,
   "id": "303d4970",
   "metadata": {},
   "outputs": [],
   "source": [
    "#few email patterns:\n",
    "# rainbow@colors.com, .org, .ac.in, .co.uk, etc.,"
   ]
  },
  {
   "cell_type": "code",
   "execution_count": 3,
   "id": "e199c055",
   "metadata": {},
   "outputs": [],
   "source": [
    "import re"
   ]
  },
  {
   "cell_type": "code",
   "execution_count": 4,
   "id": "40237338",
   "metadata": {},
   "outputs": [],
   "source": [
    "email_pattern = r'\\b[A-Za-z0-9._%+-]+@[A-Za-z0-9._%+-]+\\.[A-Za-z]{2,}\\b'"
   ]
  },
  {
   "cell_type": "code",
   "execution_count": 5,
   "id": "c0565269",
   "metadata": {},
   "outputs": [],
   "source": [
    "sample_text = '''A few example email-IDs:\n",
    "pinkvenom@blackpink.com\n",
    "messed.up47@crazyworld.co.in\n",
    "theweirdcommunity@co.org'''"
   ]
  },
  {
   "cell_type": "code",
   "execution_count": 6,
   "id": "679ab938",
   "metadata": {},
   "outputs": [],
   "source": [
    "email_ids = re.findall(email_pattern,sample_text)"
   ]
  },
  {
   "cell_type": "code",
   "execution_count": 7,
   "id": "76ec0775",
   "metadata": {},
   "outputs": [
    {
     "name": "stdout",
     "output_type": "stream",
     "text": [
      "['pinkvenom@blackpink.com', 'messed.up47@crazyworld.co.in', 'theweirdcommunity@co.org']\n"
     ]
    }
   ],
   "source": [
    "print(email_ids)"
   ]
  },
  {
   "cell_type": "code",
   "execution_count": 8,
   "id": "40d0f37c",
   "metadata": {},
   "outputs": [
    {
     "name": "stdout",
     "output_type": "stream",
     "text": [
      "pinkvenom@blackpink.com\n",
      "messed.up47@crazyworld.co.in\n",
      "theweirdcommunity@co.org\n"
     ]
    }
   ],
   "source": [
    "for email in email_ids:\n",
    "    print(email)"
   ]
  }
 ],
 "metadata": {
  "kernelspec": {
   "display_name": "Python 3 (ipykernel)",
   "language": "python",
   "name": "python3"
  },
  "language_info": {
   "codemirror_mode": {
    "name": "ipython",
    "version": 3
   },
   "file_extension": ".py",
   "mimetype": "text/x-python",
   "name": "python",
   "nbconvert_exporter": "python",
   "pygments_lexer": "ipython3",
   "version": "3.12.1"
  }
 },
 "nbformat": 4,
 "nbformat_minor": 5
}
