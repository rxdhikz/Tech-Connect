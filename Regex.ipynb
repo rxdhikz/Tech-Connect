{
 "cells": [
  {
   "cell_type": "code",
   "execution_count": 1,
   "id": "58f8f594",
   "metadata": {},
   "outputs": [],
   "source": [
    "#Regular expressions - regex"
   ]
  },
  {
   "cell_type": "code",
   "execution_count": 2,
   "id": "0b7f1d82",
   "metadata": {},
   "outputs": [],
   "source": [
    "import re #importing the regex module"
   ]
  },
  {
   "cell_type": "code",
   "execution_count": 3,
   "id": "8c914963",
   "metadata": {},
   "outputs": [],
   "source": [
    "#re.search() - checks if the text matches with the pattern\n",
    "pattern = \"blue\" #initialising a string as pattern\n",
    "text = \"I had a blue tooth\" #intialising a string to be the text\n",
    "match = re.search(pattern,text) #checking if the text has the pattern i.e., if blue is in the text.,"
   ]
  },
  {
   "cell_type": "code",
   "execution_count": 4,
   "id": "4ed26301",
   "metadata": {},
   "outputs": [
    {
     "name": "stdout",
     "output_type": "stream",
     "text": [
      "Pattern found.\n"
     ]
    }
   ],
   "source": [
    "if match: #if the match condition is satisfied i.e., if the pattern is found in the text\n",
    "    print(\"Pattern found.\") #print this statement\n",
    "else: #if the pattern isn't found in the text\n",
    "    print(\"Pattern not found.\") #print this statement"
   ]
  },
  {
   "cell_type": "code",
   "execution_count": 5,
   "id": "bff0592b",
   "metadata": {},
   "outputs": [],
   "source": [
    "#re.findall() - finds all the matching patterns from the text\n",
    "import re #importing the regex module\n",
    "pattern = r\"crab\" #initialising a pattern\n",
    "text = \"I know a crab that can do the crab dance perfectly.\" #initialisng a text\n",
    "matches = re.findall(pattern,text) #using re.findal() checking if all the patterns are there in the text"
   ]
  },
  {
   "cell_type": "code",
   "execution_count": 6,
   "id": "1da2479f",
   "metadata": {},
   "outputs": [
    {
     "data": {
      "text/plain": [
       "['crab', 'crab']"
      ]
     },
     "execution_count": 6,
     "metadata": {},
     "output_type": "execute_result"
    }
   ],
   "source": [
    "matches #calling and printing all the matches"
   ]
  },
  {
   "cell_type": "code",
   "execution_count": 7,
   "id": "97c103ea",
   "metadata": {},
   "outputs": [
    {
     "name": "stdout",
     "output_type": "stream",
     "text": [
      "Year: 2006\n",
      "Month: 05\n",
      "Day 14\n"
     ]
    }
   ],
   "source": [
    "#Date Matching\n",
    "import re #importing the regex module\n",
    "pattern = r\"(\\d+)-(\\d+)-(\\d+)\" #YYYY-MM-DD\n",
    "text = \"Date : 2006-05-14\" #initialising a text\n",
    "match = re.search(pattern,text) #using re.match() checking if the text is of the initiated pattern\n",
    "if match: #if the condition is satisfied\n",
    "    print(\"Year:\",match.group(1)) #printing the year from the text\n",
    "    print(\"Month:\",match.group(2)) #printing the month from the text\n",
    "    print(\"Day\",match.group(3)) #printing the day from the text"
   ]
  },
  {
   "cell_type": "code",
   "execution_count": 8,
   "id": "76f8a64f",
   "metadata": {},
   "outputs": [],
   "source": [
    "#Email patterns\n",
    "import re #importing the regex module\n",
    "pattern = r\"\\b[A-Za-z0-9._%+-]+@[A-Za-z0-9.-]+\\.[A-Za-z]{2,}\\b\" #initialising a pattern\n",
    "text = \"criminal@gmail.com attacked victim@gmail.com\" #initialising a text with emails\n",
    "emails = re.findall(pattern,text) #using re.findaall() and finding all the pattern matches in the text"
   ]
  },
  {
   "cell_type": "code",
   "execution_count": 9,
   "id": "f45164f0",
   "metadata": {},
   "outputs": [
    {
     "data": {
      "text/plain": [
       "['criminal@gmail.com', 'victim@gmail.com']"
      ]
     },
     "execution_count": 9,
     "metadata": {},
     "output_type": "execute_result"
    }
   ],
   "source": [
    "emails #calling and printing all the emails found through the pattern matching"
   ]
  },
  {
   "cell_type": "code",
   "execution_count": 10,
   "id": "e5cc4c28",
   "metadata": {},
   "outputs": [
    {
     "data": {
      "text/plain": [
       "\"Welcome to My Parallel Universe :) This universse isn't anywhere near your Milkyway Galaxy.\""
      ]
     },
     "execution_count": 10,
     "metadata": {},
     "output_type": "execute_result"
    }
   ],
   "source": [
    "#html layout using re.sub() - \n",
    "import re #importing the regex module\n",
    "pattern = r\"<.*?>\" #initialising a pattern\n",
    "#initialising a html text in the html format itself\n",
    "html_text = \"<h1>Welcome to My Parallel Universe :)<\\h1><p> This universse isn't anywhere near your Milkyway Galaxy.<\\p>\"\n",
    "perfecto_text = re.sub(pattern,\"\",html_text)\n",
    "perfecto_text #calling and printing that text"
   ]
  },
  {
   "cell_type": "code",
   "execution_count": 11,
   "id": "556131e2",
   "metadata": {},
   "outputs": [
    {
     "name": "stdout",
     "output_type": "stream",
     "text": [
      "--------------------------------------------------------------------------------------------------------------------\n",
      "Please enter your password: RaDhIkA14*05\n",
      "--------------------------------------------------------------------------------------------------------------------\n",
      "Your password is strong.\n",
      "--------------------------------------------------------------------------------------------------------------------\n"
     ]
    }
   ],
   "source": [
    "#Password manager\n",
    "import re #importing the regex module\n",
    "print(f\"--------------------------------------------------------------------------------------------------------------------\")\n",
    "pw = input(\"Please enter your password: \") #asking the user ot enter their password\n",
    "print(f\"--------------------------------------------------------------------------------------------------------------------\")\n",
    "strong_pw = r\"^(?=.*?[A-Z])(?=.*?[a-z])(?=.*?[0-9])(?=.*?[!@#$%^&*+-]).{6,}$\" #initialising a strong password pattern\n",
    "valid_pw = re.match(strong_pw,pw) #checking if the pattern matches\n",
    "if valid_pw: #if the pattern matches\n",
    "    print(f\"Your password is strong.\") #printing this statement\n",
    "else: #if the pattern doesn't match\n",
    "    print(f\"Your password is weak.\") #printing this statement\n",
    "print(f\"--------------------------------------------------------------------------------------------------------------------\")"
   ]
  },
  {
   "cell_type": "code",
   "execution_count": 12,
   "id": "9e4cf883",
   "metadata": {},
   "outputs": [
    {
     "name": "stdout",
     "output_type": "stream",
     "text": [
      "--------------------------------------------------------------------------------------------------------------------\n",
      "Please enter your password: urssweetly\n",
      "--------------------------------------------------------------------------------------------------------------------\n",
      "--------------------------------------------------------------------------------------------------------------------\n",
      "Your password is weak.\n",
      "--------------------------------------------------------------------------------------------------------------------\n"
     ]
    }
   ],
   "source": [
    "import re #importing the regex module\n",
    "print(f\"--------------------------------------------------------------------------------------------------------------------\")\n",
    "pw = input(\"Please enter your password: \") #asking the user ot enter their password\n",
    "print(f\"--------------------------------------------------------------------------------------------------------------------\")\n",
    "if len(pw) < 6: #checking if the password entered by the user is lesser than 6 characters\n",
    "    print(\"The length of the password should be greater than 6. Re-type.\") #printing this statement\n",
    "print(f\"--------------------------------------------------------------------------------------------------------------------\")\n",
    "strong_pw = r\"^(?=.*?[A-Z])(?=.*?[a-z])(?=.*?[0-9])(?=.*?[!@#$%^&*+-]).{6,}$\" #initialising a strong password pattern\n",
    "valid_pw = re.match(strong_pw,pw) #checking if the pattern matches\n",
    "if valid_pw: #if the pattern matches\n",
    "    print(f\"Your password is strong.\") #printing this statement\n",
    "else: #if the pattern doesn't match\n",
    "    print(f\"Your password is weak.\") #printing this statement\n",
    "print(f\"--------------------------------------------------------------------------------------------------------------------\")"
   ]
  },
  {
   "cell_type": "code",
   "execution_count": 13,
   "id": "0599dd1d",
   "metadata": {},
   "outputs": [
    {
     "name": "stdout",
     "output_type": "stream",
     "text": [
      "['Annyeong', 'annyeong', 'naaneun', 'Jisooyaaa!!']\n"
     ]
    }
   ],
   "source": [
    "#words in special sentences\n",
    "import re #importing the regex module\n",
    "text = \"Annyeong;annyeong,naaneun|Jisooyaaa!!\" #initialisng a text with special characters\n",
    "delimiters = r\";|,|\\|\" #intiating a delilimter pattern\n",
    "words = re.split(delimiters,text) #using re.split() and splitting the text wherever delimiters are found\n",
    "print(words) #printing the words after splitting the delimiters"
   ]
  }
 ],
 "metadata": {
  "kernelspec": {
   "display_name": "Python 3 (ipykernel)",
   "language": "python",
   "name": "python3"
  },
  "language_info": {
   "codemirror_mode": {
    "name": "ipython",
    "version": 3
   },
   "file_extension": ".py",
   "mimetype": "text/x-python",
   "name": "python",
   "nbconvert_exporter": "python",
   "pygments_lexer": "ipython3",
   "version": "3.11.2"
  }
 },
 "nbformat": 4,
 "nbformat_minor": 5
}
