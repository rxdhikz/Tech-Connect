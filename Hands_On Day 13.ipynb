{
 "cells": [
  {
   "cell_type": "code",
   "execution_count": 1,
   "id": "e190fd03",
   "metadata": {},
   "outputs": [],
   "source": [
    "#Grading System"
   ]
  },
  {
   "cell_type": "code",
   "execution_count": 2,
   "id": "1ae005a9",
   "metadata": {},
   "outputs": [
    {
     "name": "stdout",
     "output_type": "stream",
     "text": [
      "Grade D\n",
      "Grade C\n",
      "Grade B\n",
      "Grade A\n"
     ]
    }
   ],
   "source": [
    "marks={\"Language\":56, \"English\":67, \"Math\":70, \"Science\":84} #a dictionary with subject and marks as key-value pairs\n",
    "for key,value in marks.items(): #using for loop, for every key-value pair in the above dictionary\n",
    "    if value >= 80: #using if to check if the condition is satisfied\n",
    "        print(f\"Grade A\") #printing this statement\n",
    "    elif value >= 70: #using if to check if the condition is satisfied\n",
    "        print(f\"Grade B\") #printing this statement\n",
    "    elif value >= 60: #using if to check if the condition is satisfied\n",
    "        print(f\"Grade C\") #printing this statement\n",
    "    else: #if the 'if' conditions aren't satisfied\n",
    "        print(f\"Grade D\") #printing this statement"
   ]
  },
  {
   "cell_type": "code",
   "execution_count": 3,
   "id": "1a0e317d",
   "metadata": {},
   "outputs": [
    {
     "name": "stdout",
     "output_type": "stream",
     "text": [
      "1 Language\n",
      "2 English\n",
      "3 Math\n",
      "4 Science\n"
     ]
    }
   ],
   "source": [
    "marks = {\"Language\":96, \"English\":87, \"Math\":70, \"Science\":64} #a dictionary with subject and marks as key-value pairs\n",
    "sorted_marks = sorted(marks) #using this method to sort them in order\n",
    "for subject,marks in enumerate(marks): #using the enumerate() function\n",
    "    print(subject+1,marks) #printing the key-value pair accordingly"
   ]
  },
  {
   "cell_type": "code",
   "execution_count": 4,
   "id": "817b3c7a",
   "metadata": {
    "scrolled": true
   },
   "outputs": [
    {
     "name": "stdout",
     "output_type": "stream",
     "text": [
      "['English', 'Language', 'Math', 'Science']\n"
     ]
    }
   ],
   "source": [
    "marks = {\"Language\":69, \"English\":79, \"Math\":85, \"Science\":49} #a dictionary with subject and marks as key-value pairs\n",
    "sorted_marks = sorted(marks) #using this method to sort them in order\n",
    "print(sorted_marks) #printing the sorted out languages"
   ]
  },
  {
   "cell_type": "code",
   "execution_count": 5,
   "id": "2244d02a",
   "metadata": {
    "scrolled": true
   },
   "outputs": [
    {
     "name": "stdout",
     "output_type": "stream",
     "text": [
      "[('English', 97), ('Language', 96), ('Math', 90), ('Science', 94)]\n"
     ]
    }
   ],
   "source": [
    "marks = {\"Language\":96, \"English\":97, \"Math\":90, \"Science\":94} #a dictionary with subject and marks as key-value pairs\n",
    "a = marks.items() #using this method\n",
    "sorted_marks = sorted(a) #using this method to sort them in order\n",
    "print(sorted_marks) #printing the sorted out list of the dictionary"
   ]
  },
  {
   "cell_type": "code",
   "execution_count": 6,
   "id": "6c2a7725",
   "metadata": {},
   "outputs": [],
   "source": [
    "#lambda function\n",
    "#it helps us in using a function repeatedly, with infinite no.of arguments\n",
    "#Syntax:\n",
    "#lambda argument(w): expression"
   ]
  },
  {
   "cell_type": "code",
   "execution_count": 7,
   "id": "c0242ae6",
   "metadata": {},
   "outputs": [],
   "source": [
    "a = lambda z:z*5"
   ]
  },
  {
   "cell_type": "code",
   "execution_count": 8,
   "id": "e98a2ea8",
   "metadata": {},
   "outputs": [
    {
     "data": {
      "text/plain": [
       "25"
      ]
     },
     "execution_count": 8,
     "metadata": {},
     "output_type": "execute_result"
    }
   ],
   "source": [
    "a(5)"
   ]
  },
  {
   "cell_type": "code",
   "execution_count": 9,
   "id": "aeaa6c30",
   "metadata": {},
   "outputs": [],
   "source": [
    "b = lambda w:w*5+14-12"
   ]
  },
  {
   "cell_type": "code",
   "execution_count": 10,
   "id": "d0b24d0b",
   "metadata": {},
   "outputs": [
    {
     "data": {
      "text/plain": [
       "10032"
      ]
     },
     "execution_count": 10,
     "metadata": {},
     "output_type": "execute_result"
    }
   ],
   "source": [
    "b(2006)"
   ]
  },
  {
   "cell_type": "code",
   "execution_count": 11,
   "id": "667f0c78",
   "metadata": {},
   "outputs": [
    {
     "name": "stdout",
     "output_type": "stream",
     "text": [
      "English 97\n",
      "Language 96\n",
      "Math 90\n",
      "Science 94\n"
     ]
    }
   ],
   "source": [
    "marks = {\"Language\":96, \"English\":97, \"Math\":90, \"Science\":94} #a dictionary with subject and marks as key-value pairs\n",
    "sorted_marks = sorted(marks.items(), key=lambda a:a[0]) #using this method to sort them in order\n",
    "for subject,mark in sorted_marks: #for each subject and mark in the sorted dictionary\n",
    "    print(subject,mark) #printing the subject and its mark"
   ]
  },
  {
   "cell_type": "code",
   "execution_count": 12,
   "id": "060494eb",
   "metadata": {},
   "outputs": [
    {
     "name": "stdout",
     "output_type": "stream",
     "text": [
      "English 97\n",
      "Language 96\n",
      "Science 94\n",
      "Math 90\n"
     ]
    }
   ],
   "source": [
    "marks = {\"Language\":96, \"English\":97, \"Math\":90, \"Science\":94} #a dictionary with subject and marks as key-value pairs\n",
    "sorted_marks = sorted(marks.items(), key=lambda a:a[1], reverse=True) #using this method to sort them in order\n",
    "for subject,mark in sorted_marks: #for each subject and mark in the sorted dictionary\n",
    "    print(subject,mark) #printing the subject and its mark"
   ]
  },
  {
   "cell_type": "code",
   "execution_count": 13,
   "id": "0b67bfcc",
   "metadata": {},
   "outputs": [
    {
     "name": "stdout",
     "output_type": "stream",
     "text": [
      "Language - 96: Grade A\n",
      "English - 77: Grade B\n",
      "Math - 60: Grade C\n",
      "Science - 40: Grade D\n"
     ]
    }
   ],
   "source": [
    "marks = {\"Language\":96,\"English\":77,\"Math\":60,\"Science\":40} #a dictionary with subject and marks as key-value pairs\n",
    "sorted_marks = sorted(marks.items(), key = lambda a:a[1], reverse = True) #using this method to sort them in order\n",
    "for key,value in sorted_marks: #for each subject and mark in the sorted dictionary\n",
    "    if value >= 80: #using if to check if the condition is satisfied\n",
    "        print(f\"{key} - {value}: Grade A\") #printing this statement\n",
    "    elif value >= 70: #using if to check if the condition is satisfied\n",
    "        print(f\"{key} - {value}: Grade B\") #printing this statement\n",
    "    elif value >= 60: #using if to check if the condition is satisfied\n",
    "        print(f\"{key} - {value}: Grade C\") #printing this statement\n",
    "    else: #if the 'if' conditions aren't satisfied\n",
    "        print(f\"{key} - {value}: Grade D\") #printing this statement"
   ]
  }
 ],
 "metadata": {
  "kernelspec": {
   "display_name": "Python 3 (ipykernel)",
   "language": "python",
   "name": "python3"
  },
  "language_info": {
   "codemirror_mode": {
    "name": "ipython",
    "version": 3
   },
   "file_extension": ".py",
   "mimetype": "text/x-python",
   "name": "python",
   "nbconvert_exporter": "python",
   "pygments_lexer": "ipython3",
   "version": "3.11.2"
  }
 },
 "nbformat": 4,
 "nbformat_minor": 5
}
